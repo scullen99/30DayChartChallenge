{
 "cells": [
  {
   "cell_type": "code",
   "execution_count": 2,
   "metadata": {},
   "outputs": [],
   "source": [
    "from PIL import Image\n",
    "\n",
    "def create_collage(width, height, start_day, end_day, base_path, margin=2):\n",
    "    cols = 5\n",
    "    rows = 6\n",
    "    \n",
    "    thumbnail_width = (width - (cols + 1) * margin) // cols\n",
    "    thumbnail_height = (height - (rows + 1) * margin) // rows\n",
    "    size = thumbnail_width, thumbnail_height\n",
    "    new_im = Image.new('RGB', (width, height), \"black\")  # Fondo negro\n",
    "\n",
    "    ims = []\n",
    "\n",
    "    \n",
    "    for day in range(start_day, end_day + 1):\n",
    "        file_path = f\"{day}_Day_Chart/SergioEstebanTarreroDay{day}.png\"\n",
    "        im = Image.open(file_path)\n",
    "        im = im.resize(size, Image.LANCZOS) \n",
    "        ims.append(im)\n",
    "\n",
    "    i = 0\n",
    "    x = margin\n",
    "    y = margin\n",
    "    for col in range(cols):\n",
    "        for row in range(rows):\n",
    "            if i < len(ims): \n",
    "                new_im.paste(ims[i], (x, y))\n",
    "                i += 1\n",
    "            y += thumbnail_height + margin\n",
    "        x += thumbnail_width + margin\n",
    "        y = margin\n",
    "\n",
    "    \n",
    "    new_im.save('SergioEstebanTarreroWrapped30DayChartChallenge2024.png', dpi=(300, 300))\n",
    "\n",
    "create_collage(3000, 2600, 1, 30, 'path/to/base')"
   ]
  },
  {
   "cell_type": "code",
   "execution_count": null,
   "metadata": {},
   "outputs": [],
   "source": []
  }
 ],
 "metadata": {
  "kernelspec": {
   "display_name": "Python 3",
   "language": "python",
   "name": "python3"
  },
  "language_info": {
   "codemirror_mode": {
    "name": "ipython",
    "version": 3
   },
   "file_extension": ".py",
   "mimetype": "text/x-python",
   "name": "python",
   "nbconvert_exporter": "python",
   "pygments_lexer": "ipython3",
   "version": "3.12.0"
  }
 },
 "nbformat": 4,
 "nbformat_minor": 2
}
