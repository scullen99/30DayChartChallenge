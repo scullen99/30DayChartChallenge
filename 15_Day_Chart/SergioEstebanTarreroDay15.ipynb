{
    "cells": [
        {
            "cell_type": "markdown",
            "metadata": {},
            "source": [
                "# Day 15\n",
                "\n",
                "Source: https://www.kaggle.com/datasets/caesarmario/hyundai-motor-company-stock-historical-price"
            ]
        },
        {
            "cell_type": "code",
            "execution_count": 24,
            "metadata": {},
            "outputs": [],
            "source": [
                "import pandas as pd"
            ]
        },
        {
            "cell_type": "code",
            "execution_count": 25,
            "metadata": {},
            "outputs": [
                {
                    "data": {
                        "text/plain": [
                            "(101, 7)"
                        ]
                    },
                    "execution_count": 25,
                    "metadata": {},
                    "output_type": "execute_result"
                }
            ],
            "source": [
                "df = pd.read_csv('005380.KS_monthly.csv')\n",
                "df.shape"
            ]
        },
        {
            "cell_type": "code",
            "execution_count": 31,
            "metadata": {},
            "outputs": [],
            "source": [
                "df['Date'] = pd.to_datetime(df['Date'])\n",
                "df['Year'] = df['Date'].dt.year\n",
                "df['Month'] = df['Date'].dt.month\n",
                "df['Day'] = df['Date'].dt.day\n",
                "df['Open'] = df['Open'].astype(float)\n",
                "df['Close'] = df['Close'].astype(float)\n",
                "df['High'] = df['High'].astype(float)\n",
                "df['Low'] = df['Low'].astype(float)\n",
                "df['Volume'] = df['Volume'].astype(float)\n",
                "df['Adj Close'] = df['Adj Close'].astype(float)\n",
                "\n",
                "df_yearly = df.groupby('Year').agg({'Open':'mean', 'Close':'mean', 'High':'mean', 'Low':'mean', 'Volume':'mean', 'Adj Close':'mean'})\n",
                "df_yearly.to_csv('005380_KS_yearly_average.csv')"
            ]
        },
        {
            "cell_type": "code",
            "execution_count": null,
            "metadata": {},
            "outputs": [],
            "source": []
        }
    ],
    "metadata": {
        "kernelspec": {
            "display_name": "Python 3",
            "language": "python",
            "name": "python3"
        },
        "language_info": {
            "codemirror_mode": {
                "name": "ipython",
                "version": 3
            },
            "file_extension": ".py",
            "mimetype": "text/x-python",
            "name": "python",
            "nbconvert_exporter": "python",
            "pygments_lexer": "ipython3",
            "version": "3.12.0"
        }
    },
    "nbformat": 4,
    "nbformat_minor": 2
}
