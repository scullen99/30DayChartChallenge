{
    "cells": [
        {
            "cell_type": "markdown",
            "metadata": {},
            "source": [
                "# Day 21\n",
                "## Author: Sergio Esteban Tarrero\n",
                "### Source: https://www.kaggle.com/datasets/imtkaggleteam/renewable-energy-1960-2023"
            ]
        },
        {
            "cell_type": "code",
            "execution_count": 48,
            "metadata": {},
            "outputs": [],
            "source": [
                "import pandas as pd"
            ]
        },
        {
            "cell_type": "code",
            "execution_count": 49,
            "metadata": {},
            "outputs": [
                {
                    "data": {
                        "text/plain": [
                            "(15904, 8)"
                        ]
                    },
                    "execution_count": 49,
                    "metadata": {},
                    "output_type": "execute_result"
                }
            ],
            "source": [
                "df = pd.read_csv('renewable_energy.csv', delimiter=',')\n",
                "df.shape"
            ]
        },
        {
            "cell_type": "code",
            "execution_count": 50,
            "metadata": {},
            "outputs": [
                {
                    "data": {
                        "text/plain": [
                            "LOCATION       object\n",
                            "INDICATOR      object\n",
                            "SUBJECT        object\n",
                            "MEASURE        object\n",
                            "FREQUENCY      object\n",
                            "TIME            int64\n",
                            "Value         float64\n",
                            "Flag Codes     object\n",
                            "dtype: object"
                        ]
                    },
                    "execution_count": 50,
                    "metadata": {},
                    "output_type": "execute_result"
                }
            ],
            "source": [
                "df.dtypes"
            ]
        },
        {
            "cell_type": "code",
            "execution_count": 51,
            "metadata": {},
            "outputs": [
                {
                    "data": {
                        "text/plain": [
                            "(15904, 3)"
                        ]
                    },
                    "execution_count": 51,
                    "metadata": {},
                    "output_type": "execute_result"
                }
            ],
            "source": [
                "df = df.drop(['INDICATOR', 'SUBJECT', 'MEASURE', 'FREQUENCY', 'Flag Codes'], axis=1)\n",
                "df.shape"
            ]
        },
        {
            "cell_type": "code",
            "execution_count": 52,
            "metadata": {},
            "outputs": [
                {
                    "data": {
                        "text/plain": [
                            "(284, 3)"
                        ]
                    },
                    "execution_count": 52,
                    "metadata": {},
                    "output_type": "execute_result"
                }
            ],
            "source": [
                "df_filtrado = df[df['TIME'] == 2015]\n",
                "df_filtrado.shape"
            ]
        },
        {
            "cell_type": "code",
            "execution_count": 53,
            "metadata": {},
            "outputs": [
                {
                    "data": {
                        "text/plain": [
                            "25"
                        ]
                    },
                    "execution_count": 53,
                    "metadata": {},
                    "output_type": "execute_result"
                }
            ],
            "source": [
                "paises_europeos = ['AUT', 'BEL', 'CZE', 'DNK', 'FIN', 'FRA', 'DEU', 'GRC', 'HUN', 'ISL', 'IRL', 'ITA', 'LUX', 'NLD', 'NOR', 'POL', 'PRT', 'SVK', 'ESP', 'SWE', 'CHE', 'GBR', 'EST', 'ISR', 'SVN']\n",
                "len(paises_europeos)"
            ]
        },
        {
            "cell_type": "code",
            "execution_count": 54,
            "metadata": {},
            "outputs": [
                {
                    "data": {
                        "text/plain": [
                            "['AUT',\n",
                            " 'BEL',\n",
                            " 'CZE',\n",
                            " 'DNK',\n",
                            " 'FIN',\n",
                            " 'FRA',\n",
                            " 'DEU',\n",
                            " 'GRC',\n",
                            " 'HUN',\n",
                            " 'ISL',\n",
                            " 'IRL',\n",
                            " 'ITA',\n",
                            " 'LUX',\n",
                            " 'NLD',\n",
                            " 'NOR',\n",
                            " 'POL',\n",
                            " 'PRT',\n",
                            " 'SVK',\n",
                            " 'ESP',\n",
                            " 'SWE',\n",
                            " 'CHE',\n",
                            " 'GBR',\n",
                            " 'EST',\n",
                            " 'ISR',\n",
                            " 'SVN']"
                        ]
                    },
                    "execution_count": 54,
                    "metadata": {},
                    "output_type": "execute_result"
                }
            ],
            "source": [
                "list(paises_europeos)"
            ]
        },
        {
            "cell_type": "code",
            "execution_count": 55,
            "metadata": {},
            "outputs": [
                {
                    "data": {
                        "text/html": [
                            "<div>\n",
                            "<style scoped>\n",
                            "    .dataframe tbody tr th:only-of-type {\n",
                            "        vertical-align: middle;\n",
                            "    }\n",
                            "\n",
                            "    .dataframe tbody tr th {\n",
                            "        vertical-align: top;\n",
                            "    }\n",
                            "\n",
                            "    .dataframe thead th {\n",
                            "        text-align: right;\n",
                            "    }\n",
                            "</style>\n",
                            "<table border=\"1\" class=\"dataframe\">\n",
                            "  <thead>\n",
                            "    <tr style=\"text-align: right;\">\n",
                            "      <th></th>\n",
                            "      <th>LOCATION</th>\n",
                            "      <th>TIME</th>\n",
                            "      <th>Value</th>\n",
                            "    </tr>\n",
                            "  </thead>\n",
                            "  <tbody>\n",
                            "    <tr>\n",
                            "      <th>111</th>\n",
                            "      <td>AUT</td>\n",
                            "      <td>2015</td>\n",
                            "      <td>9594.934</td>\n",
                            "    </tr>\n",
                            "    <tr>\n",
                            "      <th>167</th>\n",
                            "      <td>BEL</td>\n",
                            "      <td>2015</td>\n",
                            "      <td>3321.576</td>\n",
                            "    </tr>\n",
                            "    <tr>\n",
                            "      <th>279</th>\n",
                            "      <td>CZE</td>\n",
                            "      <td>2015</td>\n",
                            "      <td>3571.810</td>\n",
                            "    </tr>\n",
                            "    <tr>\n",
                            "      <th>335</th>\n",
                            "      <td>DNK</td>\n",
                            "      <td>2015</td>\n",
                            "      <td>4542.163</td>\n",
                            "    </tr>\n",
                            "    <tr>\n",
                            "      <th>391</th>\n",
                            "      <td>FIN</td>\n",
                            "      <td>2015</td>\n",
                            "      <td>10472.371</td>\n",
                            "    </tr>\n",
                            "  </tbody>\n",
                            "</table>\n",
                            "</div>"
                        ],
                        "text/plain": [
                            "    LOCATION  TIME      Value\n",
                            "111      AUT  2015   9594.934\n",
                            "167      BEL  2015   3321.576\n",
                            "279      CZE  2015   3571.810\n",
                            "335      DNK  2015   4542.163\n",
                            "391      FIN  2015  10472.371"
                        ]
                    },
                    "execution_count": 55,
                    "metadata": {},
                    "output_type": "execute_result"
                }
            ],
            "source": [
                "df_europeos = df_filtrado[df_filtrado['LOCATION'].isin(paises_europeos)]\n",
                "df_europeos.head(5)"
            ]
        },
        {
            "cell_type": "code",
            "execution_count": 56,
            "metadata": {},
            "outputs": [],
            "source": [
                "min_value = df_europeos['Value'].min()\n",
                "max_value = df_europeos['Value'].max()"
            ]
        },
        {
            "cell_type": "code",
            "execution_count": 57,
            "metadata": {},
            "outputs": [
                {
                    "name": "stderr",
                    "output_type": "stream",
                    "text": [
                        "C:\\Users\\Sergio\\AppData\\Local\\Temp\\ipykernel_5224\\4065626935.py:1: SettingWithCopyWarning: \n",
                        "A value is trying to be set on a copy of a slice from a DataFrame.\n",
                        "Try using .loc[row_indexer,col_indexer] = value instead\n",
                        "\n",
                        "See the caveats in the documentation: https://pandas.pydata.org/pandas-docs/stable/user_guide/indexing.html#returning-a-view-versus-a-copy\n",
                        "  df_europeos['standarized'] = ((df_europeos['Value'] - min_value) * (100 - 0)) / (max_value - min_value) + 0\n"
                    ]
                }
            ],
            "source": [
                "df_europeos['standarized'] = ((df_europeos['Value'] - min_value) * (100 - 0)) / (max_value - min_value) + 0"
            ]
        },
        {
            "cell_type": "code",
            "execution_count": 58,
            "metadata": {},
            "outputs": [],
            "source": [
                "df_europeos.to_csv('renewable_energy_europe.csv', sep=',', index=False)"
            ]
        }
    ],
    "metadata": {
        "kernelspec": {
            "display_name": "Python 3",
            "language": "python",
            "name": "python3"
        },
        "language_info": {
            "codemirror_mode": {
                "name": "ipython",
                "version": 3
            },
            "file_extension": ".py",
            "mimetype": "text/x-python",
            "name": "python",
            "nbconvert_exporter": "python",
            "pygments_lexer": "ipython3",
            "version": "3.12.0"
        }
    },
    "nbformat": 4,
    "nbformat_minor": 2
}
