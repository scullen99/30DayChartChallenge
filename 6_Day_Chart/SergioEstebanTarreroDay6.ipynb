{
    "cells": [
        {
            "cell_type": "markdown",
            "metadata": {},
            "source": [
                "# Day 6\n",
                "\n",
                "Fuente: https://stats.oecd.org/index.aspx?lang=en"
            ]
        },
        {
            "cell_type": "code",
            "execution_count": 219,
            "metadata": {},
            "outputs": [],
            "source": [
                "import pandas as pd"
            ]
        },
        {
            "cell_type": "code",
            "execution_count": 220,
            "metadata": {},
            "outputs": [],
            "source": [
                "df = pd.read_csv('FISH_EMPL_15042024210346954.csv', delimiter=',')"
            ]
        },
        {
            "cell_type": "code",
            "execution_count": 221,
            "metadata": {},
            "outputs": [
                {
                    "data": {
                        "text/html": [
                            "<div>\n",
                            "<style scoped>\n",
                            "    .dataframe tbody tr th:only-of-type {\n",
                            "        vertical-align: middle;\n",
                            "    }\n",
                            "\n",
                            "    .dataframe tbody tr th {\n",
                            "        vertical-align: top;\n",
                            "    }\n",
                            "\n",
                            "    .dataframe thead th {\n",
                            "        text-align: right;\n",
                            "    }\n",
                            "</style>\n",
                            "<table border=\"1\" class=\"dataframe\">\n",
                            "  <thead>\n",
                            "    <tr style=\"text-align: right;\">\n",
                            "      <th></th>\n",
                            "      <th>COUNTRY</th>\n",
                            "      <th>Country</th>\n",
                            "      <th>ECO_SECTOR</th>\n",
                            "      <th>Working domain</th>\n",
                            "      <th>SEX</th>\n",
                            "      <th>Sex</th>\n",
                            "      <th>OCCUP_RATE</th>\n",
                            "      <th>Working status</th>\n",
                            "      <th>YEAR</th>\n",
                            "      <th>Year</th>\n",
                            "      <th>Unit Code</th>\n",
                            "      <th>Unit</th>\n",
                            "      <th>PowerCode Code</th>\n",
                            "      <th>PowerCode</th>\n",
                            "      <th>Reference Period Code</th>\n",
                            "      <th>Reference Period</th>\n",
                            "      <th>Value</th>\n",
                            "      <th>Flag Codes</th>\n",
                            "      <th>Flags</th>\n",
                            "    </tr>\n",
                            "  </thead>\n",
                            "  <tbody>\n",
                            "    <tr>\n",
                            "      <th>0</th>\n",
                            "      <td>AUS</td>\n",
                            "      <td>Australia</td>\n",
                            "      <td>AQUA</td>\n",
                            "      <td>Aquaculture</td>\n",
                            "      <td>TOT_SEX</td>\n",
                            "      <td>TOTAL (Sex)</td>\n",
                            "      <td>TOTAL_STATUS</td>\n",
                            "      <td>TOTAL (Working Status)</td>\n",
                            "      <td>2010</td>\n",
                            "      <td>2010</td>\n",
                            "      <td>NBR</td>\n",
                            "      <td>Number</td>\n",
                            "      <td>0</td>\n",
                            "      <td>Units</td>\n",
                            "      <td>NaN</td>\n",
                            "      <td>NaN</td>\n",
                            "      <td>7000.0</td>\n",
                            "      <td>NaN</td>\n",
                            "      <td>NaN</td>\n",
                            "    </tr>\n",
                            "    <tr>\n",
                            "      <th>1</th>\n",
                            "      <td>AUS</td>\n",
                            "      <td>Australia</td>\n",
                            "      <td>AQUA</td>\n",
                            "      <td>Aquaculture</td>\n",
                            "      <td>TOT_SEX</td>\n",
                            "      <td>TOTAL (Sex)</td>\n",
                            "      <td>TOTAL_STATUS</td>\n",
                            "      <td>TOTAL (Working Status)</td>\n",
                            "      <td>2011</td>\n",
                            "      <td>2011</td>\n",
                            "      <td>NBR</td>\n",
                            "      <td>Number</td>\n",
                            "      <td>0</td>\n",
                            "      <td>Units</td>\n",
                            "      <td>NaN</td>\n",
                            "      <td>NaN</td>\n",
                            "      <td>7000.0</td>\n",
                            "      <td>NaN</td>\n",
                            "      <td>NaN</td>\n",
                            "    </tr>\n",
                            "    <tr>\n",
                            "      <th>2</th>\n",
                            "      <td>AUS</td>\n",
                            "      <td>Australia</td>\n",
                            "      <td>AQUA</td>\n",
                            "      <td>Aquaculture</td>\n",
                            "      <td>TOT_SEX</td>\n",
                            "      <td>TOTAL (Sex)</td>\n",
                            "      <td>TOTAL_STATUS</td>\n",
                            "      <td>TOTAL (Working Status)</td>\n",
                            "      <td>2012</td>\n",
                            "      <td>2012</td>\n",
                            "      <td>NBR</td>\n",
                            "      <td>Number</td>\n",
                            "      <td>0</td>\n",
                            "      <td>Units</td>\n",
                            "      <td>NaN</td>\n",
                            "      <td>NaN</td>\n",
                            "      <td>7000.0</td>\n",
                            "      <td>NaN</td>\n",
                            "      <td>NaN</td>\n",
                            "    </tr>\n",
                            "    <tr>\n",
                            "      <th>3</th>\n",
                            "      <td>AUS</td>\n",
                            "      <td>Australia</td>\n",
                            "      <td>AQUA</td>\n",
                            "      <td>Aquaculture</td>\n",
                            "      <td>TOT_SEX</td>\n",
                            "      <td>TOTAL (Sex)</td>\n",
                            "      <td>TOTAL_STATUS</td>\n",
                            "      <td>TOTAL (Working Status)</td>\n",
                            "      <td>2013</td>\n",
                            "      <td>2013</td>\n",
                            "      <td>NBR</td>\n",
                            "      <td>Number</td>\n",
                            "      <td>0</td>\n",
                            "      <td>Units</td>\n",
                            "      <td>NaN</td>\n",
                            "      <td>NaN</td>\n",
                            "      <td>6000.0</td>\n",
                            "      <td>NaN</td>\n",
                            "      <td>NaN</td>\n",
                            "    </tr>\n",
                            "    <tr>\n",
                            "      <th>4</th>\n",
                            "      <td>AUS</td>\n",
                            "      <td>Australia</td>\n",
                            "      <td>AQUA</td>\n",
                            "      <td>Aquaculture</td>\n",
                            "      <td>TOT_SEX</td>\n",
                            "      <td>TOTAL (Sex)</td>\n",
                            "      <td>TOTAL_STATUS</td>\n",
                            "      <td>TOTAL (Working Status)</td>\n",
                            "      <td>2014</td>\n",
                            "      <td>2014</td>\n",
                            "      <td>NBR</td>\n",
                            "      <td>Number</td>\n",
                            "      <td>0</td>\n",
                            "      <td>Units</td>\n",
                            "      <td>NaN</td>\n",
                            "      <td>NaN</td>\n",
                            "      <td>7000.0</td>\n",
                            "      <td>NaN</td>\n",
                            "      <td>NaN</td>\n",
                            "    </tr>\n",
                            "  </tbody>\n",
                            "</table>\n",
                            "</div>"
                        ],
                        "text/plain": [
                            "  COUNTRY    Country ECO_SECTOR Working domain      SEX          Sex  \\\n",
                            "0     AUS  Australia       AQUA    Aquaculture  TOT_SEX  TOTAL (Sex)   \n",
                            "1     AUS  Australia       AQUA    Aquaculture  TOT_SEX  TOTAL (Sex)   \n",
                            "2     AUS  Australia       AQUA    Aquaculture  TOT_SEX  TOTAL (Sex)   \n",
                            "3     AUS  Australia       AQUA    Aquaculture  TOT_SEX  TOTAL (Sex)   \n",
                            "4     AUS  Australia       AQUA    Aquaculture  TOT_SEX  TOTAL (Sex)   \n",
                            "\n",
                            "     OCCUP_RATE          Working status  YEAR  Year Unit Code    Unit  \\\n",
                            "0  TOTAL_STATUS  TOTAL (Working Status)  2010  2010       NBR  Number   \n",
                            "1  TOTAL_STATUS  TOTAL (Working Status)  2011  2011       NBR  Number   \n",
                            "2  TOTAL_STATUS  TOTAL (Working Status)  2012  2012       NBR  Number   \n",
                            "3  TOTAL_STATUS  TOTAL (Working Status)  2013  2013       NBR  Number   \n",
                            "4  TOTAL_STATUS  TOTAL (Working Status)  2014  2014       NBR  Number   \n",
                            "\n",
                            "   PowerCode Code PowerCode  Reference Period Code  Reference Period   Value  \\\n",
                            "0               0     Units                    NaN               NaN  7000.0   \n",
                            "1               0     Units                    NaN               NaN  7000.0   \n",
                            "2               0     Units                    NaN               NaN  7000.0   \n",
                            "3               0     Units                    NaN               NaN  6000.0   \n",
                            "4               0     Units                    NaN               NaN  7000.0   \n",
                            "\n",
                            "  Flag Codes Flags  \n",
                            "0        NaN   NaN  \n",
                            "1        NaN   NaN  \n",
                            "2        NaN   NaN  \n",
                            "3        NaN   NaN  \n",
                            "4        NaN   NaN  "
                        ]
                    },
                    "execution_count": 221,
                    "metadata": {},
                    "output_type": "execute_result"
                }
            ],
            "source": [
                "df.head()"
            ]
        },
        {
            "cell_type": "code",
            "execution_count": 222,
            "metadata": {},
            "outputs": [],
            "source": [
                "df['Country'] = df['Country'].replace(\"China (People's Republic of)\", \"China\")"
            ]
        },
        {
            "cell_type": "code",
            "execution_count": 223,
            "metadata": {},
            "outputs": [],
            "source": [
                "fish_data = df[df['ECO_SECTOR'] == 'FISH']"
            ]
        },
        {
            "cell_type": "code",
            "execution_count": 224,
            "metadata": {},
            "outputs": [],
            "source": [
                "grouped_fish_data = fish_data.groupby(['Country'])['Value'].sum().reset_index()\n",
                "grouped_fish_data = grouped_fish_data.sort_values(by='Value', ascending=False)"
            ]
        },
        {
            "cell_type": "code",
            "execution_count": 225,
            "metadata": {},
            "outputs": [],
            "source": [
                "top_countries = grouped_fish_data.head(12)\n",
                "rest_countries = grouped_fish_data.iloc[12:]\n",
                "rest_sum = pd.DataFrame({'Country': ['Rest'], 'Value': [rest_countries['Value'].sum()]})"
            ]
        },
        {
            "cell_type": "code",
            "execution_count": 226,
            "metadata": {},
            "outputs": [],
            "source": [
                "final_data = pd.concat([top_countries, rest_sum])"
            ]
        },
        {
            "cell_type": "code",
            "execution_count": 230,
            "metadata": {},
            "outputs": [
                {
                    "data": {
                        "application/vnd.plotly.v1+json": {
                            "config": {
                                "plotlyServerURL": "https://plot.ly"
                            },
                            "data": [
                                {
                                    "branchvalues": "total",
                                    "customdata": [
                                        [
                                            639404620
                                        ],
                                        [
                                            47158544
                                        ],
                                        [
                                            388632504
                                        ],
                                        [
                                            11336148
                                        ],
                                        [
                                            400677403.99999994
                                        ],
                                        [
                                            130210200
                                        ],
                                        [
                                            6700668
                                        ],
                                        [
                                            6587992
                                        ],
                                        [
                                            11161476
                                        ],
                                        [
                                            95109692
                                        ],
                                        [
                                            30313348
                                        ],
                                        [
                                            8107340
                                        ],
                                        [
                                            46282568
                                        ]
                                    ],
                                    "domain": {
                                        "x": [
                                            0,
                                            1
                                        ],
                                        "y": [
                                            0,
                                            1
                                        ]
                                    },
                                    "hovertemplate": "labels=%{label}<br>Value_sum=%{value}<br>parent=%{parent}<br>id=%{id}<br>Value=%{color}<extra></extra>",
                                    "ids": [
                                        "Bangladesh",
                                        "Brazil",
                                        "China",
                                        "Chinese Taipei",
                                        "India",
                                        "Indonesia",
                                        "Japan",
                                        "Malaysia",
                                        "Mexico",
                                        "Philippines",
                                        "Rest",
                                        "United States",
                                        "Viet Nam"
                                    ],
                                    "labels": [
                                        "Bangladesh",
                                        "Brazil",
                                        "China",
                                        "Chinese Taipei",
                                        "India",
                                        "Indonesia",
                                        "Japan",
                                        "Malaysia",
                                        "Mexico",
                                        "Philippines",
                                        "Rest",
                                        "United States",
                                        "Viet Nam"
                                    ],
                                    "marker": {
                                        "coloraxis": "coloraxis",
                                        "colors": [
                                            639404620,
                                            47158544,
                                            388632504,
                                            11336148,
                                            400677403.99999994,
                                            130210200,
                                            6700668,
                                            6587992,
                                            11161476,
                                            95109692,
                                            30313348,
                                            8107340,
                                            46282568
                                        ]
                                    },
                                    "name": "",
                                    "parents": [
                                        "",
                                        "",
                                        "",
                                        "",
                                        "",
                                        "",
                                        "",
                                        "",
                                        "",
                                        "",
                                        "",
                                        "",
                                        ""
                                    ],
                                    "textinfo": "label+value",
                                    "textposition": "middle center",
                                    "type": "treemap",
                                    "values": [
                                        639404620,
                                        47158544,
                                        388632504,
                                        11336148,
                                        400677404,
                                        130210200,
                                        6700668,
                                        6587992,
                                        11161476,
                                        95109692,
                                        30313348,
                                        8107340,
                                        46282568
                                    ]
                                }
                            ],
                            "layout": {
                                "annotations": [
                                    {
                                        "showarrow": false,
                                        "text": "Data Source: OECD<br>Author: Sergio Esteban Tarrero",
                                        "x": 0.5,
                                        "xanchor": "center",
                                        "y": -0.06,
                                        "yanchor": "bottom"
                                    }
                                ],
                                "coloraxis": {
                                    "colorbar": {
                                        "title": {
                                            "text": "Value"
                                        }
                                    },
                                    "colorscale": [
                                        [
                                            0,
                                            "#440154"
                                        ],
                                        [
                                            0.1111111111111111,
                                            "#482878"
                                        ],
                                        [
                                            0.2222222222222222,
                                            "#3e4989"
                                        ],
                                        [
                                            0.3333333333333333,
                                            "#31688e"
                                        ],
                                        [
                                            0.4444444444444444,
                                            "#26828e"
                                        ],
                                        [
                                            0.5555555555555556,
                                            "#1f9e89"
                                        ],
                                        [
                                            0.6666666666666666,
                                            "#35b779"
                                        ],
                                        [
                                            0.7777777777777778,
                                            "#6ece58"
                                        ],
                                        [
                                            0.8888888888888888,
                                            "#b5de2b"
                                        ],
                                        [
                                            1,
                                            "#fde725"
                                        ]
                                    ]
                                },
                                "height": 900,
                                "legend": {
                                    "tracegroupgap": 0
                                },
                                "template": {
                                    "data": {
                                        "bar": [
                                            {
                                                "error_x": {
                                                    "color": "#2a3f5f"
                                                },
                                                "error_y": {
                                                    "color": "#2a3f5f"
                                                },
                                                "marker": {
                                                    "line": {
                                                        "color": "#E5ECF6",
                                                        "width": 0.5
                                                    },
                                                    "pattern": {
                                                        "fillmode": "overlay",
                                                        "size": 10,
                                                        "solidity": 0.2
                                                    }
                                                },
                                                "type": "bar"
                                            }
                                        ],
                                        "barpolar": [
                                            {
                                                "marker": {
                                                    "line": {
                                                        "color": "#E5ECF6",
                                                        "width": 0.5
                                                    },
                                                    "pattern": {
                                                        "fillmode": "overlay",
                                                        "size": 10,
                                                        "solidity": 0.2
                                                    }
                                                },
                                                "type": "barpolar"
                                            }
                                        ],
                                        "carpet": [
                                            {
                                                "aaxis": {
                                                    "endlinecolor": "#2a3f5f",
                                                    "gridcolor": "white",
                                                    "linecolor": "white",
                                                    "minorgridcolor": "white",
                                                    "startlinecolor": "#2a3f5f"
                                                },
                                                "baxis": {
                                                    "endlinecolor": "#2a3f5f",
                                                    "gridcolor": "white",
                                                    "linecolor": "white",
                                                    "minorgridcolor": "white",
                                                    "startlinecolor": "#2a3f5f"
                                                },
                                                "type": "carpet"
                                            }
                                        ],
                                        "choropleth": [
                                            {
                                                "colorbar": {
                                                    "outlinewidth": 0,
                                                    "ticks": ""
                                                },
                                                "type": "choropleth"
                                            }
                                        ],
                                        "contour": [
                                            {
                                                "colorbar": {
                                                    "outlinewidth": 0,
                                                    "ticks": ""
                                                },
                                                "colorscale": [
                                                    [
                                                        0,
                                                        "#0d0887"
                                                    ],
                                                    [
                                                        0.1111111111111111,
                                                        "#46039f"
                                                    ],
                                                    [
                                                        0.2222222222222222,
                                                        "#7201a8"
                                                    ],
                                                    [
                                                        0.3333333333333333,
                                                        "#9c179e"
                                                    ],
                                                    [
                                                        0.4444444444444444,
                                                        "#bd3786"
                                                    ],
                                                    [
                                                        0.5555555555555556,
                                                        "#d8576b"
                                                    ],
                                                    [
                                                        0.6666666666666666,
                                                        "#ed7953"
                                                    ],
                                                    [
                                                        0.7777777777777778,
                                                        "#fb9f3a"
                                                    ],
                                                    [
                                                        0.8888888888888888,
                                                        "#fdca26"
                                                    ],
                                                    [
                                                        1,
                                                        "#f0f921"
                                                    ]
                                                ],
                                                "type": "contour"
                                            }
                                        ],
                                        "contourcarpet": [
                                            {
                                                "colorbar": {
                                                    "outlinewidth": 0,
                                                    "ticks": ""
                                                },
                                                "type": "contourcarpet"
                                            }
                                        ],
                                        "heatmap": [
                                            {
                                                "colorbar": {
                                                    "outlinewidth": 0,
                                                    "ticks": ""
                                                },
                                                "colorscale": [
                                                    [
                                                        0,
                                                        "#0d0887"
                                                    ],
                                                    [
                                                        0.1111111111111111,
                                                        "#46039f"
                                                    ],
                                                    [
                                                        0.2222222222222222,
                                                        "#7201a8"
                                                    ],
                                                    [
                                                        0.3333333333333333,
                                                        "#9c179e"
                                                    ],
                                                    [
                                                        0.4444444444444444,
                                                        "#bd3786"
                                                    ],
                                                    [
                                                        0.5555555555555556,
                                                        "#d8576b"
                                                    ],
                                                    [
                                                        0.6666666666666666,
                                                        "#ed7953"
                                                    ],
                                                    [
                                                        0.7777777777777778,
                                                        "#fb9f3a"
                                                    ],
                                                    [
                                                        0.8888888888888888,
                                                        "#fdca26"
                                                    ],
                                                    [
                                                        1,
                                                        "#f0f921"
                                                    ]
                                                ],
                                                "type": "heatmap"
                                            }
                                        ],
                                        "heatmapgl": [
                                            {
                                                "colorbar": {
                                                    "outlinewidth": 0,
                                                    "ticks": ""
                                                },
                                                "colorscale": [
                                                    [
                                                        0,
                                                        "#0d0887"
                                                    ],
                                                    [
                                                        0.1111111111111111,
                                                        "#46039f"
                                                    ],
                                                    [
                                                        0.2222222222222222,
                                                        "#7201a8"
                                                    ],
                                                    [
                                                        0.3333333333333333,
                                                        "#9c179e"
                                                    ],
                                                    [
                                                        0.4444444444444444,
                                                        "#bd3786"
                                                    ],
                                                    [
                                                        0.5555555555555556,
                                                        "#d8576b"
                                                    ],
                                                    [
                                                        0.6666666666666666,
                                                        "#ed7953"
                                                    ],
                                                    [
                                                        0.7777777777777778,
                                                        "#fb9f3a"
                                                    ],
                                                    [
                                                        0.8888888888888888,
                                                        "#fdca26"
                                                    ],
                                                    [
                                                        1,
                                                        "#f0f921"
                                                    ]
                                                ],
                                                "type": "heatmapgl"
                                            }
                                        ],
                                        "histogram": [
                                            {
                                                "marker": {
                                                    "pattern": {
                                                        "fillmode": "overlay",
                                                        "size": 10,
                                                        "solidity": 0.2
                                                    }
                                                },
                                                "type": "histogram"
                                            }
                                        ],
                                        "histogram2d": [
                                            {
                                                "colorbar": {
                                                    "outlinewidth": 0,
                                                    "ticks": ""
                                                },
                                                "colorscale": [
                                                    [
                                                        0,
                                                        "#0d0887"
                                                    ],
                                                    [
                                                        0.1111111111111111,
                                                        "#46039f"
                                                    ],
                                                    [
                                                        0.2222222222222222,
                                                        "#7201a8"
                                                    ],
                                                    [
                                                        0.3333333333333333,
                                                        "#9c179e"
                                                    ],
                                                    [
                                                        0.4444444444444444,
                                                        "#bd3786"
                                                    ],
                                                    [
                                                        0.5555555555555556,
                                                        "#d8576b"
                                                    ],
                                                    [
                                                        0.6666666666666666,
                                                        "#ed7953"
                                                    ],
                                                    [
                                                        0.7777777777777778,
                                                        "#fb9f3a"
                                                    ],
                                                    [
                                                        0.8888888888888888,
                                                        "#fdca26"
                                                    ],
                                                    [
                                                        1,
                                                        "#f0f921"
                                                    ]
                                                ],
                                                "type": "histogram2d"
                                            }
                                        ],
                                        "histogram2dcontour": [
                                            {
                                                "colorbar": {
                                                    "outlinewidth": 0,
                                                    "ticks": ""
                                                },
                                                "colorscale": [
                                                    [
                                                        0,
                                                        "#0d0887"
                                                    ],
                                                    [
                                                        0.1111111111111111,
                                                        "#46039f"
                                                    ],
                                                    [
                                                        0.2222222222222222,
                                                        "#7201a8"
                                                    ],
                                                    [
                                                        0.3333333333333333,
                                                        "#9c179e"
                                                    ],
                                                    [
                                                        0.4444444444444444,
                                                        "#bd3786"
                                                    ],
                                                    [
                                                        0.5555555555555556,
                                                        "#d8576b"
                                                    ],
                                                    [
                                                        0.6666666666666666,
                                                        "#ed7953"
                                                    ],
                                                    [
                                                        0.7777777777777778,
                                                        "#fb9f3a"
                                                    ],
                                                    [
                                                        0.8888888888888888,
                                                        "#fdca26"
                                                    ],
                                                    [
                                                        1,
                                                        "#f0f921"
                                                    ]
                                                ],
                                                "type": "histogram2dcontour"
                                            }
                                        ],
                                        "mesh3d": [
                                            {
                                                "colorbar": {
                                                    "outlinewidth": 0,
                                                    "ticks": ""
                                                },
                                                "type": "mesh3d"
                                            }
                                        ],
                                        "parcoords": [
                                            {
                                                "line": {
                                                    "colorbar": {
                                                        "outlinewidth": 0,
                                                        "ticks": ""
                                                    }
                                                },
                                                "type": "parcoords"
                                            }
                                        ],
                                        "pie": [
                                            {
                                                "automargin": true,
                                                "type": "pie"
                                            }
                                        ],
                                        "scatter": [
                                            {
                                                "fillpattern": {
                                                    "fillmode": "overlay",
                                                    "size": 10,
                                                    "solidity": 0.2
                                                },
                                                "type": "scatter"
                                            }
                                        ],
                                        "scatter3d": [
                                            {
                                                "line": {
                                                    "colorbar": {
                                                        "outlinewidth": 0,
                                                        "ticks": ""
                                                    }
                                                },
                                                "marker": {
                                                    "colorbar": {
                                                        "outlinewidth": 0,
                                                        "ticks": ""
                                                    }
                                                },
                                                "type": "scatter3d"
                                            }
                                        ],
                                        "scattercarpet": [
                                            {
                                                "marker": {
                                                    "colorbar": {
                                                        "outlinewidth": 0,
                                                        "ticks": ""
                                                    }
                                                },
                                                "type": "scattercarpet"
                                            }
                                        ],
                                        "scattergeo": [
                                            {
                                                "marker": {
                                                    "colorbar": {
                                                        "outlinewidth": 0,
                                                        "ticks": ""
                                                    }
                                                },
                                                "type": "scattergeo"
                                            }
                                        ],
                                        "scattergl": [
                                            {
                                                "marker": {
                                                    "colorbar": {
                                                        "outlinewidth": 0,
                                                        "ticks": ""
                                                    }
                                                },
                                                "type": "scattergl"
                                            }
                                        ],
                                        "scattermapbox": [
                                            {
                                                "marker": {
                                                    "colorbar": {
                                                        "outlinewidth": 0,
                                                        "ticks": ""
                                                    }
                                                },
                                                "type": "scattermapbox"
                                            }
                                        ],
                                        "scatterpolar": [
                                            {
                                                "marker": {
                                                    "colorbar": {
                                                        "outlinewidth": 0,
                                                        "ticks": ""
                                                    }
                                                },
                                                "type": "scatterpolar"
                                            }
                                        ],
                                        "scatterpolargl": [
                                            {
                                                "marker": {
                                                    "colorbar": {
                                                        "outlinewidth": 0,
                                                        "ticks": ""
                                                    }
                                                },
                                                "type": "scatterpolargl"
                                            }
                                        ],
                                        "scatterternary": [
                                            {
                                                "marker": {
                                                    "colorbar": {
                                                        "outlinewidth": 0,
                                                        "ticks": ""
                                                    }
                                                },
                                                "type": "scatterternary"
                                            }
                                        ],
                                        "surface": [
                                            {
                                                "colorbar": {
                                                    "outlinewidth": 0,
                                                    "ticks": ""
                                                },
                                                "colorscale": [
                                                    [
                                                        0,
                                                        "#0d0887"
                                                    ],
                                                    [
                                                        0.1111111111111111,
                                                        "#46039f"
                                                    ],
                                                    [
                                                        0.2222222222222222,
                                                        "#7201a8"
                                                    ],
                                                    [
                                                        0.3333333333333333,
                                                        "#9c179e"
                                                    ],
                                                    [
                                                        0.4444444444444444,
                                                        "#bd3786"
                                                    ],
                                                    [
                                                        0.5555555555555556,
                                                        "#d8576b"
                                                    ],
                                                    [
                                                        0.6666666666666666,
                                                        "#ed7953"
                                                    ],
                                                    [
                                                        0.7777777777777778,
                                                        "#fb9f3a"
                                                    ],
                                                    [
                                                        0.8888888888888888,
                                                        "#fdca26"
                                                    ],
                                                    [
                                                        1,
                                                        "#f0f921"
                                                    ]
                                                ],
                                                "type": "surface"
                                            }
                                        ],
                                        "table": [
                                            {
                                                "cells": {
                                                    "fill": {
                                                        "color": "#EBF0F8"
                                                    },
                                                    "line": {
                                                        "color": "white"
                                                    }
                                                },
                                                "header": {
                                                    "fill": {
                                                        "color": "#C8D4E3"
                                                    },
                                                    "line": {
                                                        "color": "white"
                                                    }
                                                },
                                                "type": "table"
                                            }
                                        ]
                                    },
                                    "layout": {
                                        "annotationdefaults": {
                                            "arrowcolor": "#2a3f5f",
                                            "arrowhead": 0,
                                            "arrowwidth": 1
                                        },
                                        "autotypenumbers": "strict",
                                        "coloraxis": {
                                            "colorbar": {
                                                "outlinewidth": 0,
                                                "ticks": ""
                                            }
                                        },
                                        "colorscale": {
                                            "diverging": [
                                                [
                                                    0,
                                                    "#8e0152"
                                                ],
                                                [
                                                    0.1,
                                                    "#c51b7d"
                                                ],
                                                [
                                                    0.2,
                                                    "#de77ae"
                                                ],
                                                [
                                                    0.3,
                                                    "#f1b6da"
                                                ],
                                                [
                                                    0.4,
                                                    "#fde0ef"
                                                ],
                                                [
                                                    0.5,
                                                    "#f7f7f7"
                                                ],
                                                [
                                                    0.6,
                                                    "#e6f5d0"
                                                ],
                                                [
                                                    0.7,
                                                    "#b8e186"
                                                ],
                                                [
                                                    0.8,
                                                    "#7fbc41"
                                                ],
                                                [
                                                    0.9,
                                                    "#4d9221"
                                                ],
                                                [
                                                    1,
                                                    "#276419"
                                                ]
                                            ],
                                            "sequential": [
                                                [
                                                    0,
                                                    "#0d0887"
                                                ],
                                                [
                                                    0.1111111111111111,
                                                    "#46039f"
                                                ],
                                                [
                                                    0.2222222222222222,
                                                    "#7201a8"
                                                ],
                                                [
                                                    0.3333333333333333,
                                                    "#9c179e"
                                                ],
                                                [
                                                    0.4444444444444444,
                                                    "#bd3786"
                                                ],
                                                [
                                                    0.5555555555555556,
                                                    "#d8576b"
                                                ],
                                                [
                                                    0.6666666666666666,
                                                    "#ed7953"
                                                ],
                                                [
                                                    0.7777777777777778,
                                                    "#fb9f3a"
                                                ],
                                                [
                                                    0.8888888888888888,
                                                    "#fdca26"
                                                ],
                                                [
                                                    1,
                                                    "#f0f921"
                                                ]
                                            ],
                                            "sequentialminus": [
                                                [
                                                    0,
                                                    "#0d0887"
                                                ],
                                                [
                                                    0.1111111111111111,
                                                    "#46039f"
                                                ],
                                                [
                                                    0.2222222222222222,
                                                    "#7201a8"
                                                ],
                                                [
                                                    0.3333333333333333,
                                                    "#9c179e"
                                                ],
                                                [
                                                    0.4444444444444444,
                                                    "#bd3786"
                                                ],
                                                [
                                                    0.5555555555555556,
                                                    "#d8576b"
                                                ],
                                                [
                                                    0.6666666666666666,
                                                    "#ed7953"
                                                ],
                                                [
                                                    0.7777777777777778,
                                                    "#fb9f3a"
                                                ],
                                                [
                                                    0.8888888888888888,
                                                    "#fdca26"
                                                ],
                                                [
                                                    1,
                                                    "#f0f921"
                                                ]
                                            ]
                                        },
                                        "colorway": [
                                            "#636efa",
                                            "#EF553B",
                                            "#00cc96",
                                            "#ab63fa",
                                            "#FFA15A",
                                            "#19d3f3",
                                            "#FF6692",
                                            "#B6E880",
                                            "#FF97FF",
                                            "#FECB52"
                                        ],
                                        "font": {
                                            "color": "#2a3f5f"
                                        },
                                        "geo": {
                                            "bgcolor": "white",
                                            "lakecolor": "white",
                                            "landcolor": "#E5ECF6",
                                            "showlakes": true,
                                            "showland": true,
                                            "subunitcolor": "white"
                                        },
                                        "hoverlabel": {
                                            "align": "left"
                                        },
                                        "hovermode": "closest",
                                        "mapbox": {
                                            "style": "light"
                                        },
                                        "paper_bgcolor": "white",
                                        "plot_bgcolor": "#E5ECF6",
                                        "polar": {
                                            "angularaxis": {
                                                "gridcolor": "white",
                                                "linecolor": "white",
                                                "ticks": ""
                                            },
                                            "bgcolor": "#E5ECF6",
                                            "radialaxis": {
                                                "gridcolor": "white",
                                                "linecolor": "white",
                                                "ticks": ""
                                            }
                                        },
                                        "scene": {
                                            "xaxis": {
                                                "backgroundcolor": "#E5ECF6",
                                                "gridcolor": "white",
                                                "gridwidth": 2,
                                                "linecolor": "white",
                                                "showbackground": true,
                                                "ticks": "",
                                                "zerolinecolor": "white"
                                            },
                                            "yaxis": {
                                                "backgroundcolor": "#E5ECF6",
                                                "gridcolor": "white",
                                                "gridwidth": 2,
                                                "linecolor": "white",
                                                "showbackground": true,
                                                "ticks": "",
                                                "zerolinecolor": "white"
                                            },
                                            "zaxis": {
                                                "backgroundcolor": "#E5ECF6",
                                                "gridcolor": "white",
                                                "gridwidth": 2,
                                                "linecolor": "white",
                                                "showbackground": true,
                                                "ticks": "",
                                                "zerolinecolor": "white"
                                            }
                                        },
                                        "shapedefaults": {
                                            "line": {
                                                "color": "#2a3f5f"
                                            }
                                        },
                                        "ternary": {
                                            "aaxis": {
                                                "gridcolor": "white",
                                                "linecolor": "white",
                                                "ticks": ""
                                            },
                                            "baxis": {
                                                "gridcolor": "white",
                                                "linecolor": "white",
                                                "ticks": ""
                                            },
                                            "bgcolor": "#E5ECF6",
                                            "caxis": {
                                                "gridcolor": "white",
                                                "linecolor": "white",
                                                "ticks": ""
                                            }
                                        },
                                        "title": {
                                            "x": 0.05
                                        },
                                        "xaxis": {
                                            "automargin": true,
                                            "gridcolor": "white",
                                            "linecolor": "white",
                                            "ticks": "",
                                            "title": {
                                                "standoff": 15
                                            },
                                            "zerolinecolor": "white",
                                            "zerolinewidth": 2
                                        },
                                        "yaxis": {
                                            "automargin": true,
                                            "gridcolor": "white",
                                            "linecolor": "white",
                                            "ticks": "",
                                            "title": {
                                                "standoff": 15
                                            },
                                            "zerolinecolor": "white",
                                            "zerolinewidth": 2
                                        }
                                    }
                                },
                                "title": {
                                    "font": {
                                        "size": 30
                                    },
                                    "text": "Top Countries by Employment in the Fisheries Sector 🎣",
                                    "x": 0.5,
                                    "xanchor": "center",
                                    "y": 0.95,
                                    "yanchor": "top"
                                },
                                "uniformtext": {
                                    "minsize": 10,
                                    "mode": "hide"
                                },
                                "width": 1300
                            }
                        }
                    },
                    "metadata": {},
                    "output_type": "display_data"
                }
            ],
            "source": [
                "import plotly.express as px\n",
                "\n",
                "fig = px.treemap(final_data,\n",
                "                 path=['Country'],\n",
                "                 values='Value',\n",
                "                 title='Top Countries by Employment in the Fisheries Sector 🎣',\n",
                "                 color='Value', \n",
                "                 color_continuous_scale='Viridis',\n",
                "                 width=1300,\n",
                "                 height=900) \n",
                "\n",
                "fig.update_traces(textinfo='label+value', textposition='middle center')\n",
                "fig.update_layout(\n",
                "    uniformtext=dict(minsize=10, mode='hide'),\n",
                "    title={'text': 'Top Countries by Employment in the Fisheries Sector 🎣',\n",
                "           'y':0.95,  \n",
                "           'x':0.5,\n",
                "           'xanchor': 'center',\n",
                "           'yanchor': 'top',\n",
                "           'font': dict(size=30)},  \n",
                "    annotations=[dict(text='Data Source: OECD<br>Author: Sergio Esteban Tarrero',\n",
                "                      x=0.5, y=-0.06, xanchor='center', yanchor='bottom', showarrow=False)]\n",
                ")\n",
                "\n",
                "fig.show()"
            ]
        },
        {
            "cell_type": "code",
            "execution_count": 228,
            "metadata": {},
            "outputs": [],
            "source": [
                "fig.write_html('SergioEstebanTarrero6.html')"
            ]
        },
        {
            "cell_type": "code",
            "execution_count": null,
            "metadata": {},
            "outputs": [],
            "source": []
        }
    ],
    "metadata": {
        "kernelspec": {
            "display_name": "Python 3",
            "language": "python",
            "name": "python3"
        },
        "language_info": {
            "codemirror_mode": {
                "name": "ipython",
                "version": 3
            },
            "file_extension": ".py",
            "mimetype": "text/x-python",
            "name": "python",
            "nbconvert_exporter": "python",
            "pygments_lexer": "ipython3",
            "version": "3.12.0"
        }
    },
    "nbformat": 4,
    "nbformat_minor": 2
}
