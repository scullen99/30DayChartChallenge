{
    "cells": [
        {
            "cell_type": "markdown",
            "metadata": {},
            "source": [
                "# Day 18\n",
                "## Author: Sergio Esteban Tarrero\n",
                "### Data Source: https://df.adb.org/dfset/climate-change-financing-adb"
            ]
        },
        {
            "cell_type": "code",
            "execution_count": 162,
            "metadata": {},
            "outputs": [],
            "source": [
                "import pandas as pd"
            ]
        },
        {
            "cell_type": "markdown",
            "metadata": {},
            "source": [
                "# 2022"
            ]
        },
        {
            "cell_type": "code",
            "execution_count": 163,
            "metadata": {},
            "outputs": [],
            "source": [
                "df_2022 = pd.read_csv('ADB_Climate_Change_Financing_2022_based_on_commitments.csv')"
            ]
        },
        {
            "cell_type": "code",
            "execution_count": 164,
            "metadata": {},
            "outputs": [],
            "source": [
                "df_2023 = pd.read_csv('ADB_Climate_Change_Financing_2023_based_on_commitments.csv')"
            ]
        },
        {
            "cell_type": "code",
            "execution_count": 165,
            "metadata": {},
            "outputs": [],
            "source": [
                "df_2022['Date Signed'] = pd.to_datetime(df_2022['Date Signed'])\n",
                "df_2022['Mitigation Finance ($ million)'] = pd.to_numeric(df_2022['Mitigation Finance ($ million)'], errors='coerce').fillna(0)\n",
                "df_2022['Adaptation Finance ($ million)'] = pd.to_numeric(df_2022['Adaptation Finance ($ million)'], errors='coerce').fillna(0)"
            ]
        },
        {
            "cell_type": "code",
            "execution_count": 166,
            "metadata": {},
            "outputs": [
                {
                    "name": "stderr",
                    "output_type": "stream",
                    "text": [
                        "C:\\Users\\Sergio\\AppData\\Local\\Temp\\ipykernel_2708\\971012500.py:1: UserWarning: Could not infer format, so each element will be parsed individually, falling back to `dateutil`. To ensure parsing is consistent and as-expected, please specify a format.\n",
                        "  df_2023['Date Signed'] = pd.to_datetime(df_2023['Date Signed'])\n"
                    ]
                }
            ],
            "source": [
                "df_2023['Date Signed'] = pd.to_datetime(df_2023['Date Signed'])\n",
                "df_2023['Mitigation Finance ($ million)'] = pd.to_numeric(df_2023['Mitigation Finance ($ million)'], errors='coerce').fillna(0)\n",
                "df_2023['Adaptation Finance ($ million)'] = pd.to_numeric(df_2023['Adaptation Finance ($ million)'], errors='coerce').fillna(0)"
            ]
        },
        {
            "cell_type": "code",
            "execution_count": 167,
            "metadata": {},
            "outputs": [],
            "source": [
                "financing_trends_2022 = df_2022.groupby(df_2022['Date Signed'].dt.to_period(\"M\")).agg({\n",
                "    'Mitigation Finance ($ million)': 'sum',\n",
                "    'Adaptation Finance ($ million)': 'sum'\n",
                "}).reset_index()"
            ]
        },
        {
            "cell_type": "code",
            "execution_count": 168,
            "metadata": {},
            "outputs": [],
            "source": [
                "financing_trends_2023 = df_2023.groupby(df_2023['Date Signed'].dt.to_period(\"M\")).agg({\n",
                "    'Mitigation Finance ($ million)': 'sum',\n",
                "    'Adaptation Finance ($ million)': 'sum'\n",
                "}).reset_index()"
            ]
        },
        {
            "cell_type": "code",
            "execution_count": 169,
            "metadata": {},
            "outputs": [],
            "source": [
                "financing_trends_2022['Date Signed'] = financing_trends_2022['Date Signed'].dt.to_timestamp()"
            ]
        },
        {
            "cell_type": "code",
            "execution_count": 170,
            "metadata": {},
            "outputs": [],
            "source": [
                "financing_trends_2023['Date Signed'] = financing_trends_2023['Date Signed'].dt.to_timestamp()"
            ]
        },
        {
            "cell_type": "code",
            "execution_count": 171,
            "metadata": {},
            "outputs": [],
            "source": [
                "financing_trends_2022.to_csv(\"financing_trends_2022.csv\", index=False)"
            ]
        },
        {
            "cell_type": "code",
            "execution_count": 172,
            "metadata": {},
            "outputs": [],
            "source": [
                "financing_trends_2023.to_csv(\"financing_trends_2023.csv\", index=False)"
            ]
        },
        {
            "cell_type": "code",
            "execution_count": 173,
            "metadata": {},
            "outputs": [],
            "source": [
                "financing_trends = pd.concat([financing_trends_2022, financing_trends_2023])\n",
                "financing_trends.to_csv(\"financing_trends_2022_2023.csv\", index=False)"
            ]
        }
    ],
    "metadata": {
        "kernelspec": {
            "display_name": "Python 3",
            "language": "python",
            "name": "python3"
        },
        "language_info": {
            "codemirror_mode": {
                "name": "ipython",
                "version": 3
            },
            "file_extension": ".py",
            "mimetype": "text/x-python",
            "name": "python",
            "nbconvert_exporter": "python",
            "pygments_lexer": "ipython3",
            "version": "3.12.0"
        }
    },
    "nbformat": 4,
    "nbformat_minor": 2
}
