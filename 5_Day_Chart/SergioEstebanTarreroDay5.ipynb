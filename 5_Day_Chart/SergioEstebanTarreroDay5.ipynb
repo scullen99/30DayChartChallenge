{
    "cells": [
        {
            "cell_type": "markdown",
            "metadata": {},
            "source": [
                "# Day 5\n",
                "\n",
                "Fuente: https://www.kaggle.com/datasets/programmerrdai/human-height?select=average-height-by-year-of-birth.csv"
            ]
        },
        {
            "cell_type": "code",
            "execution_count": 337,
            "metadata": {},
            "outputs": [],
            "source": [
                "import pandas as pd"
            ]
        },
        {
            "cell_type": "code",
            "execution_count": 338,
            "metadata": {},
            "outputs": [
                {
                    "data": {
                        "text/plain": [
                            "(21008, 5)"
                        ]
                    },
                    "execution_count": 338,
                    "metadata": {},
                    "output_type": "execute_result"
                }
            ],
            "source": [
                "df = pd.read_csv(\"average-height-by-year-of-birth.csv\", sep=\",\")\n",
                "df.shape"
            ]
        },
        {
            "cell_type": "code",
            "execution_count": 339,
            "metadata": {},
            "outputs": [
                {
                    "data": {
                        "text/plain": [
                            "(20301, 5)"
                        ]
                    },
                    "execution_count": 339,
                    "metadata": {},
                    "output_type": "execute_result"
                }
            ],
            "source": [
                "df = df.dropna()\n",
                "df.shape"
            ]
        },
        {
            "cell_type": "code",
            "execution_count": 340,
            "metadata": {},
            "outputs": [
                {
                    "data": {
                        "text/plain": [
                            "Entity                      object\n",
                            "Code                        object\n",
                            "Year                         int64\n",
                            "Mean male height (cm)      float64\n",
                            "Mean female height (cm)    float64\n",
                            "dtype: object"
                        ]
                    },
                    "execution_count": 340,
                    "metadata": {},
                    "output_type": "execute_result"
                }
            ],
            "source": [
                "df.dtypes"
            ]
        },
        {
            "cell_type": "code",
            "execution_count": 341,
            "metadata": {},
            "outputs": [
                {
                    "data": {
                        "text/html": [
                            "<div>\n",
                            "<style scoped>\n",
                            "    .dataframe tbody tr th:only-of-type {\n",
                            "        vertical-align: middle;\n",
                            "    }\n",
                            "\n",
                            "    .dataframe tbody tr th {\n",
                            "        vertical-align: top;\n",
                            "    }\n",
                            "\n",
                            "    .dataframe thead th {\n",
                            "        text-align: right;\n",
                            "    }\n",
                            "</style>\n",
                            "<table border=\"1\" class=\"dataframe\">\n",
                            "  <thead>\n",
                            "    <tr style=\"text-align: right;\">\n",
                            "      <th></th>\n",
                            "      <th>Entity</th>\n",
                            "      <th>Code</th>\n",
                            "      <th>Year</th>\n",
                            "      <th>Mean male height (cm)</th>\n",
                            "      <th>Mean female height (cm)</th>\n",
                            "    </tr>\n",
                            "  </thead>\n",
                            "  <tbody>\n",
                            "    <tr>\n",
                            "      <th>0</th>\n",
                            "      <td>Afghanistan</td>\n",
                            "      <td>AFG</td>\n",
                            "      <td>1896</td>\n",
                            "      <td>161.164095</td>\n",
                            "      <td>149.187747</td>\n",
                            "    </tr>\n",
                            "    <tr>\n",
                            "      <th>1</th>\n",
                            "      <td>Afghanistan</td>\n",
                            "      <td>AFG</td>\n",
                            "      <td>1897</td>\n",
                            "      <td>161.196286</td>\n",
                            "      <td>149.321451</td>\n",
                            "    </tr>\n",
                            "    <tr>\n",
                            "      <th>2</th>\n",
                            "      <td>Afghanistan</td>\n",
                            "      <td>AFG</td>\n",
                            "      <td>1898</td>\n",
                            "      <td>161.228297</td>\n",
                            "      <td>149.455494</td>\n",
                            "    </tr>\n",
                            "    <tr>\n",
                            "      <th>3</th>\n",
                            "      <td>Afghanistan</td>\n",
                            "      <td>AFG</td>\n",
                            "      <td>1899</td>\n",
                            "      <td>161.260727</td>\n",
                            "      <td>149.589503</td>\n",
                            "    </tr>\n",
                            "    <tr>\n",
                            "      <th>4</th>\n",
                            "      <td>Afghanistan</td>\n",
                            "      <td>AFG</td>\n",
                            "      <td>1900</td>\n",
                            "      <td>161.293068</td>\n",
                            "      <td>149.723587</td>\n",
                            "    </tr>\n",
                            "    <tr>\n",
                            "      <th>5</th>\n",
                            "      <td>Afghanistan</td>\n",
                            "      <td>AFG</td>\n",
                            "      <td>1901</td>\n",
                            "      <td>161.325492</td>\n",
                            "      <td>149.857573</td>\n",
                            "    </tr>\n",
                            "    <tr>\n",
                            "      <th>6</th>\n",
                            "      <td>Afghanistan</td>\n",
                            "      <td>AFG</td>\n",
                            "      <td>1902</td>\n",
                            "      <td>161.358355</td>\n",
                            "      <td>149.990929</td>\n",
                            "    </tr>\n",
                            "    <tr>\n",
                            "      <th>7</th>\n",
                            "      <td>Afghanistan</td>\n",
                            "      <td>AFG</td>\n",
                            "      <td>1903</td>\n",
                            "      <td>161.391215</td>\n",
                            "      <td>150.123635</td>\n",
                            "    </tr>\n",
                            "    <tr>\n",
                            "      <th>8</th>\n",
                            "      <td>Afghanistan</td>\n",
                            "      <td>AFG</td>\n",
                            "      <td>1904</td>\n",
                            "      <td>161.423989</td>\n",
                            "      <td>150.255140</td>\n",
                            "    </tr>\n",
                            "    <tr>\n",
                            "      <th>9</th>\n",
                            "      <td>Afghanistan</td>\n",
                            "      <td>AFG</td>\n",
                            "      <td>1905</td>\n",
                            "      <td>161.456764</td>\n",
                            "      <td>150.385801</td>\n",
                            "    </tr>\n",
                            "  </tbody>\n",
                            "</table>\n",
                            "</div>"
                        ],
                        "text/plain": [
                            "        Entity Code  Year  Mean male height (cm)  Mean female height (cm)\n",
                            "0  Afghanistan  AFG  1896             161.164095               149.187747\n",
                            "1  Afghanistan  AFG  1897             161.196286               149.321451\n",
                            "2  Afghanistan  AFG  1898             161.228297               149.455494\n",
                            "3  Afghanistan  AFG  1899             161.260727               149.589503\n",
                            "4  Afghanistan  AFG  1900             161.293068               149.723587\n",
                            "5  Afghanistan  AFG  1901             161.325492               149.857573\n",
                            "6  Afghanistan  AFG  1902             161.358355               149.990929\n",
                            "7  Afghanistan  AFG  1903             161.391215               150.123635\n",
                            "8  Afghanistan  AFG  1904             161.423989               150.255140\n",
                            "9  Afghanistan  AFG  1905             161.456764               150.385801"
                        ]
                    },
                    "execution_count": 341,
                    "metadata": {},
                    "output_type": "execute_result"
                }
            ],
            "source": [
                "df.head(10)"
            ]
        },
        {
            "cell_type": "code",
            "execution_count": 342,
            "metadata": {},
            "outputs": [
                {
                    "data": {
                        "text/html": [
                            "<div>\n",
                            "<style scoped>\n",
                            "    .dataframe tbody tr th:only-of-type {\n",
                            "        vertical-align: middle;\n",
                            "    }\n",
                            "\n",
                            "    .dataframe tbody tr th {\n",
                            "        vertical-align: top;\n",
                            "    }\n",
                            "\n",
                            "    .dataframe thead th {\n",
                            "        text-align: right;\n",
                            "    }\n",
                            "</style>\n",
                            "<table border=\"1\" class=\"dataframe\">\n",
                            "  <thead>\n",
                            "    <tr style=\"text-align: right;\">\n",
                            "      <th></th>\n",
                            "      <th>Year</th>\n",
                            "      <th>Mean male height (cm)</th>\n",
                            "      <th>Mean female height (cm)</th>\n",
                            "    </tr>\n",
                            "  </thead>\n",
                            "  <tbody>\n",
                            "    <tr>\n",
                            "      <th>count</th>\n",
                            "      <td>20301.000000</td>\n",
                            "      <td>20301.000000</td>\n",
                            "      <td>20301.000000</td>\n",
                            "    </tr>\n",
                            "    <tr>\n",
                            "      <th>mean</th>\n",
                            "      <td>1946.000000</td>\n",
                            "      <td>168.337720</td>\n",
                            "      <td>157.044033</td>\n",
                            "    </tr>\n",
                            "    <tr>\n",
                            "      <th>std</th>\n",
                            "      <td>29.155478</td>\n",
                            "      <td>5.247556</td>\n",
                            "      <td>4.794033</td>\n",
                            "    </tr>\n",
                            "    <tr>\n",
                            "      <th>min</th>\n",
                            "      <td>1896.000000</td>\n",
                            "      <td>152.884624</td>\n",
                            "      <td>140.290050</td>\n",
                            "    </tr>\n",
                            "    <tr>\n",
                            "      <th>25%</th>\n",
                            "      <td>1921.000000</td>\n",
                            "      <td>164.581195</td>\n",
                            "      <td>153.836776</td>\n",
                            "    </tr>\n",
                            "    <tr>\n",
                            "      <th>50%</th>\n",
                            "      <td>1946.000000</td>\n",
                            "      <td>168.315818</td>\n",
                            "      <td>157.298663</td>\n",
                            "    </tr>\n",
                            "    <tr>\n",
                            "      <th>75%</th>\n",
                            "      <td>1971.000000</td>\n",
                            "      <td>171.683874</td>\n",
                            "      <td>160.135626</td>\n",
                            "    </tr>\n",
                            "    <tr>\n",
                            "      <th>max</th>\n",
                            "      <td>1996.000000</td>\n",
                            "      <td>182.567309</td>\n",
                            "      <td>169.797931</td>\n",
                            "    </tr>\n",
                            "  </tbody>\n",
                            "</table>\n",
                            "</div>"
                        ],
                        "text/plain": [
                            "               Year  Mean male height (cm)  Mean female height (cm)\n",
                            "count  20301.000000           20301.000000             20301.000000\n",
                            "mean    1946.000000             168.337720               157.044033\n",
                            "std       29.155478               5.247556                 4.794033\n",
                            "min     1896.000000             152.884624               140.290050\n",
                            "25%     1921.000000             164.581195               153.836776\n",
                            "50%     1946.000000             168.315818               157.298663\n",
                            "75%     1971.000000             171.683874               160.135626\n",
                            "max     1996.000000             182.567309               169.797931"
                        ]
                    },
                    "execution_count": 342,
                    "metadata": {},
                    "output_type": "execute_result"
                }
            ],
            "source": [
                "df.describe()"
            ]
        },
        {
            "cell_type": "code",
            "execution_count": 343,
            "metadata": {},
            "outputs": [
                {
                    "data": {
                        "text/plain": [
                            "(101, 5)"
                        ]
                    },
                    "execution_count": 343,
                    "metadata": {},
                    "output_type": "execute_result"
                }
            ],
            "source": [
                "df = df[df[\"Entity\"] == \"Spain\"]\n",
                "df.shape"
            ]
        },
        {
            "cell_type": "code",
            "execution_count": 344,
            "metadata": {},
            "outputs": [
                {
                    "data": {
                        "text/html": [
                            "<div>\n",
                            "<style scoped>\n",
                            "    .dataframe tbody tr th:only-of-type {\n",
                            "        vertical-align: middle;\n",
                            "    }\n",
                            "\n",
                            "    .dataframe tbody tr th {\n",
                            "        vertical-align: top;\n",
                            "    }\n",
                            "\n",
                            "    .dataframe thead th {\n",
                            "        text-align: right;\n",
                            "    }\n",
                            "</style>\n",
                            "<table border=\"1\" class=\"dataframe\">\n",
                            "  <thead>\n",
                            "    <tr style=\"text-align: right;\">\n",
                            "      <th></th>\n",
                            "      <th>Entity</th>\n",
                            "      <th>Code</th>\n",
                            "      <th>Year</th>\n",
                            "      <th>Mean male height (cm)</th>\n",
                            "      <th>Mean female height (cm)</th>\n",
                            "    </tr>\n",
                            "  </thead>\n",
                            "  <tbody>\n",
                            "    <tr>\n",
                            "      <th>17473</th>\n",
                            "      <td>Spain</td>\n",
                            "      <td>ESP</td>\n",
                            "      <td>1896</td>\n",
                            "      <td>162.290259</td>\n",
                            "      <td>151.108934</td>\n",
                            "    </tr>\n",
                            "    <tr>\n",
                            "      <th>17474</th>\n",
                            "      <td>Spain</td>\n",
                            "      <td>ESP</td>\n",
                            "      <td>1897</td>\n",
                            "      <td>162.373685</td>\n",
                            "      <td>151.186757</td>\n",
                            "    </tr>\n",
                            "    <tr>\n",
                            "      <th>17475</th>\n",
                            "      <td>Spain</td>\n",
                            "      <td>ESP</td>\n",
                            "      <td>1898</td>\n",
                            "      <td>162.457372</td>\n",
                            "      <td>151.264801</td>\n",
                            "    </tr>\n",
                            "    <tr>\n",
                            "      <th>17476</th>\n",
                            "      <td>Spain</td>\n",
                            "      <td>ESP</td>\n",
                            "      <td>1899</td>\n",
                            "      <td>162.541389</td>\n",
                            "      <td>151.342940</td>\n",
                            "    </tr>\n",
                            "    <tr>\n",
                            "      <th>17477</th>\n",
                            "      <td>Spain</td>\n",
                            "      <td>ESP</td>\n",
                            "      <td>1900</td>\n",
                            "      <td>162.625339</td>\n",
                            "      <td>151.420940</td>\n",
                            "    </tr>\n",
                            "  </tbody>\n",
                            "</table>\n",
                            "</div>"
                        ],
                        "text/plain": [
                            "      Entity Code  Year  Mean male height (cm)  Mean female height (cm)\n",
                            "17473  Spain  ESP  1896             162.290259               151.108934\n",
                            "17474  Spain  ESP  1897             162.373685               151.186757\n",
                            "17475  Spain  ESP  1898             162.457372               151.264801\n",
                            "17476  Spain  ESP  1899             162.541389               151.342940\n",
                            "17477  Spain  ESP  1900             162.625339               151.420940"
                        ]
                    },
                    "execution_count": 344,
                    "metadata": {},
                    "output_type": "execute_result"
                }
            ],
            "source": [
                "df.head(5)"
            ]
        },
        {
            "cell_type": "code",
            "execution_count": 345,
            "metadata": {},
            "outputs": [],
            "source": [
                "df[\"mean male height (m)\"] = df[\"Mean male height (cm)\"] / 100\n",
                "df[\"mean female height (m)\"] = df[\"Mean female height (cm)\"] / 100"
            ]
        },
        {
            "cell_type": "code",
            "execution_count": 346,
            "metadata": {},
            "outputs": [],
            "source": [
                "df[\"difference height (m)\"] = df[\"mean male height (m)\"] - df[\"mean female height (m)\"]"
            ]
        },
        {
            "cell_type": "code",
            "execution_count": 347,
            "metadata": {},
            "outputs": [
                {
                    "data": {
                        "text/html": [
                            "<div>\n",
                            "<style scoped>\n",
                            "    .dataframe tbody tr th:only-of-type {\n",
                            "        vertical-align: middle;\n",
                            "    }\n",
                            "\n",
                            "    .dataframe tbody tr th {\n",
                            "        vertical-align: top;\n",
                            "    }\n",
                            "\n",
                            "    .dataframe thead th {\n",
                            "        text-align: right;\n",
                            "    }\n",
                            "</style>\n",
                            "<table border=\"1\" class=\"dataframe\">\n",
                            "  <thead>\n",
                            "    <tr style=\"text-align: right;\">\n",
                            "      <th></th>\n",
                            "      <th>Entity</th>\n",
                            "      <th>Code</th>\n",
                            "      <th>Year</th>\n",
                            "      <th>Mean male height (cm)</th>\n",
                            "      <th>Mean female height (cm)</th>\n",
                            "      <th>mean male height (m)</th>\n",
                            "      <th>mean female height (m)</th>\n",
                            "      <th>difference height (m)</th>\n",
                            "    </tr>\n",
                            "  </thead>\n",
                            "  <tbody>\n",
                            "    <tr>\n",
                            "      <th>17473</th>\n",
                            "      <td>Spain</td>\n",
                            "      <td>ESP</td>\n",
                            "      <td>1896</td>\n",
                            "      <td>162.290259</td>\n",
                            "      <td>151.108934</td>\n",
                            "      <td>1.622903</td>\n",
                            "      <td>1.511089</td>\n",
                            "      <td>0.111813</td>\n",
                            "    </tr>\n",
                            "    <tr>\n",
                            "      <th>17474</th>\n",
                            "      <td>Spain</td>\n",
                            "      <td>ESP</td>\n",
                            "      <td>1897</td>\n",
                            "      <td>162.373685</td>\n",
                            "      <td>151.186757</td>\n",
                            "      <td>1.623737</td>\n",
                            "      <td>1.511868</td>\n",
                            "      <td>0.111869</td>\n",
                            "    </tr>\n",
                            "    <tr>\n",
                            "      <th>17475</th>\n",
                            "      <td>Spain</td>\n",
                            "      <td>ESP</td>\n",
                            "      <td>1898</td>\n",
                            "      <td>162.457372</td>\n",
                            "      <td>151.264801</td>\n",
                            "      <td>1.624574</td>\n",
                            "      <td>1.512648</td>\n",
                            "      <td>0.111926</td>\n",
                            "    </tr>\n",
                            "    <tr>\n",
                            "      <th>17476</th>\n",
                            "      <td>Spain</td>\n",
                            "      <td>ESP</td>\n",
                            "      <td>1899</td>\n",
                            "      <td>162.541389</td>\n",
                            "      <td>151.342940</td>\n",
                            "      <td>1.625414</td>\n",
                            "      <td>1.513429</td>\n",
                            "      <td>0.111984</td>\n",
                            "    </tr>\n",
                            "    <tr>\n",
                            "      <th>17477</th>\n",
                            "      <td>Spain</td>\n",
                            "      <td>ESP</td>\n",
                            "      <td>1900</td>\n",
                            "      <td>162.625339</td>\n",
                            "      <td>151.420940</td>\n",
                            "      <td>1.626253</td>\n",
                            "      <td>1.514209</td>\n",
                            "      <td>0.112044</td>\n",
                            "    </tr>\n",
                            "  </tbody>\n",
                            "</table>\n",
                            "</div>"
                        ],
                        "text/plain": [
                            "      Entity Code  Year  Mean male height (cm)  Mean female height (cm)  \\\n",
                            "17473  Spain  ESP  1896             162.290259               151.108934   \n",
                            "17474  Spain  ESP  1897             162.373685               151.186757   \n",
                            "17475  Spain  ESP  1898             162.457372               151.264801   \n",
                            "17476  Spain  ESP  1899             162.541389               151.342940   \n",
                            "17477  Spain  ESP  1900             162.625339               151.420940   \n",
                            "\n",
                            "       mean male height (m)  mean female height (m)  difference height (m)  \n",
                            "17473              1.622903                1.511089               0.111813  \n",
                            "17474              1.623737                1.511868               0.111869  \n",
                            "17475              1.624574                1.512648               0.111926  \n",
                            "17476              1.625414                1.513429               0.111984  \n",
                            "17477              1.626253                1.514209               0.112044  "
                        ]
                    },
                    "execution_count": 347,
                    "metadata": {},
                    "output_type": "execute_result"
                }
            ],
            "source": [
                "df.head(5)"
            ]
        },
        {
            "cell_type": "code",
            "execution_count": 348,
            "metadata": {},
            "outputs": [],
            "source": [
                "df.to_csv(\"average-height-by-year-of-birth-spain.csv\", sep=\",\")"
            ]
        },
        {
            "cell_type": "code",
            "execution_count": 349,
            "metadata": {},
            "outputs": [],
            "source": [
                "import plotly.graph_objects as go"
            ]
        },
        {
            "cell_type": "code",
            "execution_count": 350,
            "metadata": {},
            "outputs": [
                {
                    "data": {
                        "application/vnd.plotly.v1+json": {
                            "config": {
                                "plotlyServerURL": "https://plot.ly"
                            },
                            "data": [
                                {
                                    "hoverinfo": "x+y",
                                    "marker": {
                                        "color": "blue"
                                    },
                                    "name": "Mean Male Height (cm)",
                                    "orientation": "h",
                                    "type": "bar",
                                    "x": [
                                        -162.2902593,
                                        -162.3736853,
                                        -162.4573722,
                                        -162.5413887,
                                        -162.6253387,
                                        -162.7100296,
                                        -162.7956278,
                                        -162.8816724,
                                        -162.9679757,
                                        -163.0546028,
                                        -163.1421541,
                                        -163.2312943,
                                        -163.3235493,
                                        -163.4194421,
                                        -163.5200752,
                                        -163.6271773,
                                        -163.7426559,
                                        -163.8657714,
                                        -163.9960369,
                                        -164.1326989,
                                        -164.2750511,
                                        -164.4229439,
                                        -164.5752406,
                                        -164.7308904,
                                        -164.8895,
                                        -165.0506903,
                                        -165.2119743,
                                        -165.3720141,
                                        -165.5306209,
                                        -165.688677,
                                        -165.8462455,
                                        -166.0037911,
                                        -166.161177,
                                        -166.3179361,
                                        -166.4746233,
                                        -166.6310636,
                                        -166.7868982,
                                        -166.9445541,
                                        -167.1063069,
                                        -167.2731335,
                                        -167.4430952,
                                        -167.6157474,
                                        -167.790651,
                                        -167.9673313,
                                        -168.1445747,
                                        -168.3223756,
                                        -168.5028287,
                                        -168.6889789,
                                        -168.8811095,
                                        -169.0800041,
                                        -169.2867759,
                                        -169.5002256,
                                        -169.7204586,
                                        -169.9452249,
                                        -170.1736427,
                                        -170.4035098,
                                        -170.6337655,
                                        -170.8643469,
                                        -171.0948385,
                                        -171.3239088,
                                        -171.5501658,
                                        -171.77467,
                                        -171.9976868,
                                        -172.2179495,
                                        -172.4342402,
                                        -172.646601,
                                        -172.854729,
                                        -173.0569086,
                                        -173.2500245,
                                        -173.4342061,
                                        -173.6114563,
                                        -173.7836344,
                                        -173.952673,
                                        -174.1209539,
                                        -174.2887801,
                                        -174.4555349,
                                        -174.619745,
                                        -174.7796997,
                                        -174.9338546,
                                        -175.0798771,
                                        -175.215857,
                                        -175.3406437,
                                        -175.4542426,
                                        -175.5572995,
                                        -175.6515022,
                                        -175.7402326,
                                        -175.8250681,
                                        -175.9055926,
                                        -175.9804407,
                                        -176.0485017,
                                        -176.110101,
                                        -176.1660381,
                                        -176.2177905,
                                        -176.2671077,
                                        -176.3143434,
                                        -176.3607917,
                                        -176.4074264,
                                        -176.4542004,
                                        -176.5008117,
                                        -176.5473603,
                                        -176.5938671
                                    ],
                                    "y": [
                                        1896,
                                        1897,
                                        1898,
                                        1899,
                                        1900,
                                        1901,
                                        1902,
                                        1903,
                                        1904,
                                        1905,
                                        1906,
                                        1907,
                                        1908,
                                        1909,
                                        1910,
                                        1911,
                                        1912,
                                        1913,
                                        1914,
                                        1915,
                                        1916,
                                        1917,
                                        1918,
                                        1919,
                                        1920,
                                        1921,
                                        1922,
                                        1923,
                                        1924,
                                        1925,
                                        1926,
                                        1927,
                                        1928,
                                        1929,
                                        1930,
                                        1931,
                                        1932,
                                        1933,
                                        1934,
                                        1935,
                                        1936,
                                        1937,
                                        1938,
                                        1939,
                                        1940,
                                        1941,
                                        1942,
                                        1943,
                                        1944,
                                        1945,
                                        1946,
                                        1947,
                                        1948,
                                        1949,
                                        1950,
                                        1951,
                                        1952,
                                        1953,
                                        1954,
                                        1955,
                                        1956,
                                        1957,
                                        1958,
                                        1959,
                                        1960,
                                        1961,
                                        1962,
                                        1963,
                                        1964,
                                        1965,
                                        1966,
                                        1967,
                                        1968,
                                        1969,
                                        1970,
                                        1971,
                                        1972,
                                        1973,
                                        1974,
                                        1975,
                                        1976,
                                        1977,
                                        1978,
                                        1979,
                                        1980,
                                        1981,
                                        1982,
                                        1983,
                                        1984,
                                        1985,
                                        1986,
                                        1987,
                                        1988,
                                        1989,
                                        1990,
                                        1991,
                                        1992,
                                        1993,
                                        1994,
                                        1995,
                                        1996
                                    ]
                                },
                                {
                                    "hoverinfo": "x+y",
                                    "marker": {
                                        "color": "pink"
                                    },
                                    "name": "Mean Female Height (cm)",
                                    "orientation": "h",
                                    "type": "bar",
                                    "x": [
                                        151.1089341,
                                        151.1867574,
                                        151.2648009,
                                        151.3429404,
                                        151.4209403,
                                        151.4992208,
                                        151.577607,
                                        151.656084,
                                        151.734375,
                                        151.8126216,
                                        151.8916829,
                                        151.9721722,
                                        152.0545963,
                                        152.140536,
                                        152.2314089,
                                        152.3289819,
                                        152.4343213,
                                        152.5479278,
                                        152.6706817,
                                        152.8026407,
                                        152.9431262,
                                        153.0913481,
                                        153.2460501,
                                        153.4059205,
                                        153.570318,
                                        153.7381494,
                                        153.9085818,
                                        154.0794492,
                                        154.2509617,
                                        154.424509,
                                        154.5995871,
                                        154.7754372,
                                        154.9517388,
                                        155.1285668,
                                        155.3054384,
                                        155.4800947,
                                        155.6532513,
                                        155.8260993,
                                        156.0004109,
                                        156.1759129,
                                        156.3519864,
                                        156.5273123,
                                        156.7000632,
                                        156.8684891,
                                        157.0309618,
                                        157.1861585,
                                        157.3352214,
                                        157.4802179,
                                        157.6233914,
                                        157.7655251,
                                        157.908296,
                                        158.0531321,
                                        158.2003733,
                                        158.350131,
                                        158.5036789,
                                        158.6611587,
                                        158.82245,
                                        158.9879425,
                                        159.1572867,
                                        159.3309253,
                                        159.5075921,
                                        159.6876755,
                                        159.8708831,
                                        160.0557231,
                                        160.2412968,
                                        160.426647,
                                        160.609524,
                                        160.7868386,
                                        160.9559488,
                                        161.1151448,
                                        161.2643165,
                                        161.4054452,
                                        161.5391493,
                                        161.6669368,
                                        161.7885822,
                                        161.9050297,
                                        162.0162696,
                                        162.1215872,
                                        162.2205722,
                                        162.3125975,
                                        162.3972615,
                                        162.4740751,
                                        162.5436422,
                                        162.607012,
                                        162.6661863,
                                        162.722524,
                                        162.7772559,
                                        162.8314527,
                                        162.8846302,
                                        162.9361919,
                                        162.9857499,
                                        163.033384,
                                        163.0783843,
                                        163.1210348,
                                        163.1612601,
                                        163.2010006,
                                        163.240556,
                                        163.2802495,
                                        163.319335,
                                        163.3585462,
                                        163.3978007
                                    ],
                                    "y": [
                                        1896,
                                        1897,
                                        1898,
                                        1899,
                                        1900,
                                        1901,
                                        1902,
                                        1903,
                                        1904,
                                        1905,
                                        1906,
                                        1907,
                                        1908,
                                        1909,
                                        1910,
                                        1911,
                                        1912,
                                        1913,
                                        1914,
                                        1915,
                                        1916,
                                        1917,
                                        1918,
                                        1919,
                                        1920,
                                        1921,
                                        1922,
                                        1923,
                                        1924,
                                        1925,
                                        1926,
                                        1927,
                                        1928,
                                        1929,
                                        1930,
                                        1931,
                                        1932,
                                        1933,
                                        1934,
                                        1935,
                                        1936,
                                        1937,
                                        1938,
                                        1939,
                                        1940,
                                        1941,
                                        1942,
                                        1943,
                                        1944,
                                        1945,
                                        1946,
                                        1947,
                                        1948,
                                        1949,
                                        1950,
                                        1951,
                                        1952,
                                        1953,
                                        1954,
                                        1955,
                                        1956,
                                        1957,
                                        1958,
                                        1959,
                                        1960,
                                        1961,
                                        1962,
                                        1963,
                                        1964,
                                        1965,
                                        1966,
                                        1967,
                                        1968,
                                        1969,
                                        1970,
                                        1971,
                                        1972,
                                        1973,
                                        1974,
                                        1975,
                                        1976,
                                        1977,
                                        1978,
                                        1979,
                                        1980,
                                        1981,
                                        1982,
                                        1983,
                                        1984,
                                        1985,
                                        1986,
                                        1987,
                                        1988,
                                        1989,
                                        1990,
                                        1991,
                                        1992,
                                        1993,
                                        1994,
                                        1995,
                                        1996
                                    ]
                                }
                            ],
                            "layout": {
                                "barmode": "relative",
                                "height": 800,
                                "legend": {
                                    "orientation": "h",
                                    "x": 1,
                                    "xanchor": "right",
                                    "y": 1.02,
                                    "yanchor": "bottom"
                                },
                                "template": {
                                    "data": {
                                        "bar": [
                                            {
                                                "error_x": {
                                                    "color": "#2a3f5f"
                                                },
                                                "error_y": {
                                                    "color": "#2a3f5f"
                                                },
                                                "marker": {
                                                    "line": {
                                                        "color": "#E5ECF6",
                                                        "width": 0.5
                                                    },
                                                    "pattern": {
                                                        "fillmode": "overlay",
                                                        "size": 10,
                                                        "solidity": 0.2
                                                    }
                                                },
                                                "type": "bar"
                                            }
                                        ],
                                        "barpolar": [
                                            {
                                                "marker": {
                                                    "line": {
                                                        "color": "#E5ECF6",
                                                        "width": 0.5
                                                    },
                                                    "pattern": {
                                                        "fillmode": "overlay",
                                                        "size": 10,
                                                        "solidity": 0.2
                                                    }
                                                },
                                                "type": "barpolar"
                                            }
                                        ],
                                        "carpet": [
                                            {
                                                "aaxis": {
                                                    "endlinecolor": "#2a3f5f",
                                                    "gridcolor": "white",
                                                    "linecolor": "white",
                                                    "minorgridcolor": "white",
                                                    "startlinecolor": "#2a3f5f"
                                                },
                                                "baxis": {
                                                    "endlinecolor": "#2a3f5f",
                                                    "gridcolor": "white",
                                                    "linecolor": "white",
                                                    "minorgridcolor": "white",
                                                    "startlinecolor": "#2a3f5f"
                                                },
                                                "type": "carpet"
                                            }
                                        ],
                                        "choropleth": [
                                            {
                                                "colorbar": {
                                                    "outlinewidth": 0,
                                                    "ticks": ""
                                                },
                                                "type": "choropleth"
                                            }
                                        ],
                                        "contour": [
                                            {
                                                "colorbar": {
                                                    "outlinewidth": 0,
                                                    "ticks": ""
                                                },
                                                "colorscale": [
                                                    [
                                                        0,
                                                        "#0d0887"
                                                    ],
                                                    [
                                                        0.1111111111111111,
                                                        "#46039f"
                                                    ],
                                                    [
                                                        0.2222222222222222,
                                                        "#7201a8"
                                                    ],
                                                    [
                                                        0.3333333333333333,
                                                        "#9c179e"
                                                    ],
                                                    [
                                                        0.4444444444444444,
                                                        "#bd3786"
                                                    ],
                                                    [
                                                        0.5555555555555556,
                                                        "#d8576b"
                                                    ],
                                                    [
                                                        0.6666666666666666,
                                                        "#ed7953"
                                                    ],
                                                    [
                                                        0.7777777777777778,
                                                        "#fb9f3a"
                                                    ],
                                                    [
                                                        0.8888888888888888,
                                                        "#fdca26"
                                                    ],
                                                    [
                                                        1,
                                                        "#f0f921"
                                                    ]
                                                ],
                                                "type": "contour"
                                            }
                                        ],
                                        "contourcarpet": [
                                            {
                                                "colorbar": {
                                                    "outlinewidth": 0,
                                                    "ticks": ""
                                                },
                                                "type": "contourcarpet"
                                            }
                                        ],
                                        "heatmap": [
                                            {
                                                "colorbar": {
                                                    "outlinewidth": 0,
                                                    "ticks": ""
                                                },
                                                "colorscale": [
                                                    [
                                                        0,
                                                        "#0d0887"
                                                    ],
                                                    [
                                                        0.1111111111111111,
                                                        "#46039f"
                                                    ],
                                                    [
                                                        0.2222222222222222,
                                                        "#7201a8"
                                                    ],
                                                    [
                                                        0.3333333333333333,
                                                        "#9c179e"
                                                    ],
                                                    [
                                                        0.4444444444444444,
                                                        "#bd3786"
                                                    ],
                                                    [
                                                        0.5555555555555556,
                                                        "#d8576b"
                                                    ],
                                                    [
                                                        0.6666666666666666,
                                                        "#ed7953"
                                                    ],
                                                    [
                                                        0.7777777777777778,
                                                        "#fb9f3a"
                                                    ],
                                                    [
                                                        0.8888888888888888,
                                                        "#fdca26"
                                                    ],
                                                    [
                                                        1,
                                                        "#f0f921"
                                                    ]
                                                ],
                                                "type": "heatmap"
                                            }
                                        ],
                                        "heatmapgl": [
                                            {
                                                "colorbar": {
                                                    "outlinewidth": 0,
                                                    "ticks": ""
                                                },
                                                "colorscale": [
                                                    [
                                                        0,
                                                        "#0d0887"
                                                    ],
                                                    [
                                                        0.1111111111111111,
                                                        "#46039f"
                                                    ],
                                                    [
                                                        0.2222222222222222,
                                                        "#7201a8"
                                                    ],
                                                    [
                                                        0.3333333333333333,
                                                        "#9c179e"
                                                    ],
                                                    [
                                                        0.4444444444444444,
                                                        "#bd3786"
                                                    ],
                                                    [
                                                        0.5555555555555556,
                                                        "#d8576b"
                                                    ],
                                                    [
                                                        0.6666666666666666,
                                                        "#ed7953"
                                                    ],
                                                    [
                                                        0.7777777777777778,
                                                        "#fb9f3a"
                                                    ],
                                                    [
                                                        0.8888888888888888,
                                                        "#fdca26"
                                                    ],
                                                    [
                                                        1,
                                                        "#f0f921"
                                                    ]
                                                ],
                                                "type": "heatmapgl"
                                            }
                                        ],
                                        "histogram": [
                                            {
                                                "marker": {
                                                    "pattern": {
                                                        "fillmode": "overlay",
                                                        "size": 10,
                                                        "solidity": 0.2
                                                    }
                                                },
                                                "type": "histogram"
                                            }
                                        ],
                                        "histogram2d": [
                                            {
                                                "colorbar": {
                                                    "outlinewidth": 0,
                                                    "ticks": ""
                                                },
                                                "colorscale": [
                                                    [
                                                        0,
                                                        "#0d0887"
                                                    ],
                                                    [
                                                        0.1111111111111111,
                                                        "#46039f"
                                                    ],
                                                    [
                                                        0.2222222222222222,
                                                        "#7201a8"
                                                    ],
                                                    [
                                                        0.3333333333333333,
                                                        "#9c179e"
                                                    ],
                                                    [
                                                        0.4444444444444444,
                                                        "#bd3786"
                                                    ],
                                                    [
                                                        0.5555555555555556,
                                                        "#d8576b"
                                                    ],
                                                    [
                                                        0.6666666666666666,
                                                        "#ed7953"
                                                    ],
                                                    [
                                                        0.7777777777777778,
                                                        "#fb9f3a"
                                                    ],
                                                    [
                                                        0.8888888888888888,
                                                        "#fdca26"
                                                    ],
                                                    [
                                                        1,
                                                        "#f0f921"
                                                    ]
                                                ],
                                                "type": "histogram2d"
                                            }
                                        ],
                                        "histogram2dcontour": [
                                            {
                                                "colorbar": {
                                                    "outlinewidth": 0,
                                                    "ticks": ""
                                                },
                                                "colorscale": [
                                                    [
                                                        0,
                                                        "#0d0887"
                                                    ],
                                                    [
                                                        0.1111111111111111,
                                                        "#46039f"
                                                    ],
                                                    [
                                                        0.2222222222222222,
                                                        "#7201a8"
                                                    ],
                                                    [
                                                        0.3333333333333333,
                                                        "#9c179e"
                                                    ],
                                                    [
                                                        0.4444444444444444,
                                                        "#bd3786"
                                                    ],
                                                    [
                                                        0.5555555555555556,
                                                        "#d8576b"
                                                    ],
                                                    [
                                                        0.6666666666666666,
                                                        "#ed7953"
                                                    ],
                                                    [
                                                        0.7777777777777778,
                                                        "#fb9f3a"
                                                    ],
                                                    [
                                                        0.8888888888888888,
                                                        "#fdca26"
                                                    ],
                                                    [
                                                        1,
                                                        "#f0f921"
                                                    ]
                                                ],
                                                "type": "histogram2dcontour"
                                            }
                                        ],
                                        "mesh3d": [
                                            {
                                                "colorbar": {
                                                    "outlinewidth": 0,
                                                    "ticks": ""
                                                },
                                                "type": "mesh3d"
                                            }
                                        ],
                                        "parcoords": [
                                            {
                                                "line": {
                                                    "colorbar": {
                                                        "outlinewidth": 0,
                                                        "ticks": ""
                                                    }
                                                },
                                                "type": "parcoords"
                                            }
                                        ],
                                        "pie": [
                                            {
                                                "automargin": true,
                                                "type": "pie"
                                            }
                                        ],
                                        "scatter": [
                                            {
                                                "fillpattern": {
                                                    "fillmode": "overlay",
                                                    "size": 10,
                                                    "solidity": 0.2
                                                },
                                                "type": "scatter"
                                            }
                                        ],
                                        "scatter3d": [
                                            {
                                                "line": {
                                                    "colorbar": {
                                                        "outlinewidth": 0,
                                                        "ticks": ""
                                                    }
                                                },
                                                "marker": {
                                                    "colorbar": {
                                                        "outlinewidth": 0,
                                                        "ticks": ""
                                                    }
                                                },
                                                "type": "scatter3d"
                                            }
                                        ],
                                        "scattercarpet": [
                                            {
                                                "marker": {
                                                    "colorbar": {
                                                        "outlinewidth": 0,
                                                        "ticks": ""
                                                    }
                                                },
                                                "type": "scattercarpet"
                                            }
                                        ],
                                        "scattergeo": [
                                            {
                                                "marker": {
                                                    "colorbar": {
                                                        "outlinewidth": 0,
                                                        "ticks": ""
                                                    }
                                                },
                                                "type": "scattergeo"
                                            }
                                        ],
                                        "scattergl": [
                                            {
                                                "marker": {
                                                    "colorbar": {
                                                        "outlinewidth": 0,
                                                        "ticks": ""
                                                    }
                                                },
                                                "type": "scattergl"
                                            }
                                        ],
                                        "scattermapbox": [
                                            {
                                                "marker": {
                                                    "colorbar": {
                                                        "outlinewidth": 0,
                                                        "ticks": ""
                                                    }
                                                },
                                                "type": "scattermapbox"
                                            }
                                        ],
                                        "scatterpolar": [
                                            {
                                                "marker": {
                                                    "colorbar": {
                                                        "outlinewidth": 0,
                                                        "ticks": ""
                                                    }
                                                },
                                                "type": "scatterpolar"
                                            }
                                        ],
                                        "scatterpolargl": [
                                            {
                                                "marker": {
                                                    "colorbar": {
                                                        "outlinewidth": 0,
                                                        "ticks": ""
                                                    }
                                                },
                                                "type": "scatterpolargl"
                                            }
                                        ],
                                        "scatterternary": [
                                            {
                                                "marker": {
                                                    "colorbar": {
                                                        "outlinewidth": 0,
                                                        "ticks": ""
                                                    }
                                                },
                                                "type": "scatterternary"
                                            }
                                        ],
                                        "surface": [
                                            {
                                                "colorbar": {
                                                    "outlinewidth": 0,
                                                    "ticks": ""
                                                },
                                                "colorscale": [
                                                    [
                                                        0,
                                                        "#0d0887"
                                                    ],
                                                    [
                                                        0.1111111111111111,
                                                        "#46039f"
                                                    ],
                                                    [
                                                        0.2222222222222222,
                                                        "#7201a8"
                                                    ],
                                                    [
                                                        0.3333333333333333,
                                                        "#9c179e"
                                                    ],
                                                    [
                                                        0.4444444444444444,
                                                        "#bd3786"
                                                    ],
                                                    [
                                                        0.5555555555555556,
                                                        "#d8576b"
                                                    ],
                                                    [
                                                        0.6666666666666666,
                                                        "#ed7953"
                                                    ],
                                                    [
                                                        0.7777777777777778,
                                                        "#fb9f3a"
                                                    ],
                                                    [
                                                        0.8888888888888888,
                                                        "#fdca26"
                                                    ],
                                                    [
                                                        1,
                                                        "#f0f921"
                                                    ]
                                                ],
                                                "type": "surface"
                                            }
                                        ],
                                        "table": [
                                            {
                                                "cells": {
                                                    "fill": {
                                                        "color": "#EBF0F8"
                                                    },
                                                    "line": {
                                                        "color": "white"
                                                    }
                                                },
                                                "header": {
                                                    "fill": {
                                                        "color": "#C8D4E3"
                                                    },
                                                    "line": {
                                                        "color": "white"
                                                    }
                                                },
                                                "type": "table"
                                            }
                                        ]
                                    },
                                    "layout": {
                                        "annotationdefaults": {
                                            "arrowcolor": "#2a3f5f",
                                            "arrowhead": 0,
                                            "arrowwidth": 1
                                        },
                                        "autotypenumbers": "strict",
                                        "coloraxis": {
                                            "colorbar": {
                                                "outlinewidth": 0,
                                                "ticks": ""
                                            }
                                        },
                                        "colorscale": {
                                            "diverging": [
                                                [
                                                    0,
                                                    "#8e0152"
                                                ],
                                                [
                                                    0.1,
                                                    "#c51b7d"
                                                ],
                                                [
                                                    0.2,
                                                    "#de77ae"
                                                ],
                                                [
                                                    0.3,
                                                    "#f1b6da"
                                                ],
                                                [
                                                    0.4,
                                                    "#fde0ef"
                                                ],
                                                [
                                                    0.5,
                                                    "#f7f7f7"
                                                ],
                                                [
                                                    0.6,
                                                    "#e6f5d0"
                                                ],
                                                [
                                                    0.7,
                                                    "#b8e186"
                                                ],
                                                [
                                                    0.8,
                                                    "#7fbc41"
                                                ],
                                                [
                                                    0.9,
                                                    "#4d9221"
                                                ],
                                                [
                                                    1,
                                                    "#276419"
                                                ]
                                            ],
                                            "sequential": [
                                                [
                                                    0,
                                                    "#0d0887"
                                                ],
                                                [
                                                    0.1111111111111111,
                                                    "#46039f"
                                                ],
                                                [
                                                    0.2222222222222222,
                                                    "#7201a8"
                                                ],
                                                [
                                                    0.3333333333333333,
                                                    "#9c179e"
                                                ],
                                                [
                                                    0.4444444444444444,
                                                    "#bd3786"
                                                ],
                                                [
                                                    0.5555555555555556,
                                                    "#d8576b"
                                                ],
                                                [
                                                    0.6666666666666666,
                                                    "#ed7953"
                                                ],
                                                [
                                                    0.7777777777777778,
                                                    "#fb9f3a"
                                                ],
                                                [
                                                    0.8888888888888888,
                                                    "#fdca26"
                                                ],
                                                [
                                                    1,
                                                    "#f0f921"
                                                ]
                                            ],
                                            "sequentialminus": [
                                                [
                                                    0,
                                                    "#0d0887"
                                                ],
                                                [
                                                    0.1111111111111111,
                                                    "#46039f"
                                                ],
                                                [
                                                    0.2222222222222222,
                                                    "#7201a8"
                                                ],
                                                [
                                                    0.3333333333333333,
                                                    "#9c179e"
                                                ],
                                                [
                                                    0.4444444444444444,
                                                    "#bd3786"
                                                ],
                                                [
                                                    0.5555555555555556,
                                                    "#d8576b"
                                                ],
                                                [
                                                    0.6666666666666666,
                                                    "#ed7953"
                                                ],
                                                [
                                                    0.7777777777777778,
                                                    "#fb9f3a"
                                                ],
                                                [
                                                    0.8888888888888888,
                                                    "#fdca26"
                                                ],
                                                [
                                                    1,
                                                    "#f0f921"
                                                ]
                                            ]
                                        },
                                        "colorway": [
                                            "#636efa",
                                            "#EF553B",
                                            "#00cc96",
                                            "#ab63fa",
                                            "#FFA15A",
                                            "#19d3f3",
                                            "#FF6692",
                                            "#B6E880",
                                            "#FF97FF",
                                            "#FECB52"
                                        ],
                                        "font": {
                                            "color": "#2a3f5f"
                                        },
                                        "geo": {
                                            "bgcolor": "white",
                                            "lakecolor": "white",
                                            "landcolor": "#E5ECF6",
                                            "showlakes": true,
                                            "showland": true,
                                            "subunitcolor": "white"
                                        },
                                        "hoverlabel": {
                                            "align": "left"
                                        },
                                        "hovermode": "closest",
                                        "mapbox": {
                                            "style": "light"
                                        },
                                        "paper_bgcolor": "white",
                                        "plot_bgcolor": "#E5ECF6",
                                        "polar": {
                                            "angularaxis": {
                                                "gridcolor": "white",
                                                "linecolor": "white",
                                                "ticks": ""
                                            },
                                            "bgcolor": "#E5ECF6",
                                            "radialaxis": {
                                                "gridcolor": "white",
                                                "linecolor": "white",
                                                "ticks": ""
                                            }
                                        },
                                        "scene": {
                                            "xaxis": {
                                                "backgroundcolor": "#E5ECF6",
                                                "gridcolor": "white",
                                                "gridwidth": 2,
                                                "linecolor": "white",
                                                "showbackground": true,
                                                "ticks": "",
                                                "zerolinecolor": "white"
                                            },
                                            "yaxis": {
                                                "backgroundcolor": "#E5ECF6",
                                                "gridcolor": "white",
                                                "gridwidth": 2,
                                                "linecolor": "white",
                                                "showbackground": true,
                                                "ticks": "",
                                                "zerolinecolor": "white"
                                            },
                                            "zaxis": {
                                                "backgroundcolor": "#E5ECF6",
                                                "gridcolor": "white",
                                                "gridwidth": 2,
                                                "linecolor": "white",
                                                "showbackground": true,
                                                "ticks": "",
                                                "zerolinecolor": "white"
                                            }
                                        },
                                        "shapedefaults": {
                                            "line": {
                                                "color": "#2a3f5f"
                                            }
                                        },
                                        "ternary": {
                                            "aaxis": {
                                                "gridcolor": "white",
                                                "linecolor": "white",
                                                "ticks": ""
                                            },
                                            "baxis": {
                                                "gridcolor": "white",
                                                "linecolor": "white",
                                                "ticks": ""
                                            },
                                            "bgcolor": "#E5ECF6",
                                            "caxis": {
                                                "gridcolor": "white",
                                                "linecolor": "white",
                                                "ticks": ""
                                            }
                                        },
                                        "title": {
                                            "x": 0.05
                                        },
                                        "xaxis": {
                                            "automargin": true,
                                            "gridcolor": "white",
                                            "linecolor": "white",
                                            "ticks": "",
                                            "title": {
                                                "standoff": 15
                                            },
                                            "zerolinecolor": "white",
                                            "zerolinewidth": 2
                                        },
                                        "yaxis": {
                                            "automargin": true,
                                            "gridcolor": "white",
                                            "linecolor": "white",
                                            "ticks": "",
                                            "title": {
                                                "standoff": 15
                                            },
                                            "zerolinecolor": "white",
                                            "zerolinewidth": 2
                                        }
                                    }
                                },
                                "title": {
                                    "text": "Average Height by Year of Birth in Spain (Diverging Chart)"
                                },
                                "width": 900,
                                "xaxis": {
                                    "title": {
                                        "text": "Height (cm)"
                                    }
                                },
                                "yaxis": {
                                    "autorange": "reversed",
                                    "title": {
                                        "text": "Year of Birth"
                                    }
                                }
                            }
                        }
                    },
                    "metadata": {},
                    "output_type": "display_data"
                }
            ],
            "source": [
                "df['Mean male height (cm)'] = df['Mean male height (cm)'] * -1\n",
                "\n",
                "diverging_chart = go.Figure()\n",
                "\n",
                "diverging_chart.add_trace(go.Bar(\n",
                "    x=df['Mean male height (cm)'],\n",
                "    y=df['Year'],\n",
                "    orientation='h',\n",
                "    name='Mean Male Height (cm)',\n",
                "    marker_color='blue',\n",
                "    hoverinfo='x+y'\n",
                "))\n",
                "\n",
                "diverging_chart.add_trace(go.Bar(\n",
                "    x=df['Mean female height (cm)'],\n",
                "    y=df['Year'],\n",
                "    orientation='h',\n",
                "    name='Mean Female Height (cm)',\n",
                "    marker_color='pink',\n",
                "    hoverinfo='x+y'\n",
                "))\n",
                "\n",
                "diverging_chart.update_layout(\n",
                "    title='Average Height by Year of Birth in Spain (Diverging Chart)',\n",
                "    barmode='relative',\n",
                "    height=800,\n",
                "    width=900,\n",
                "    yaxis=dict(\n",
                "        title='Year of Birth',\n",
                "        autorange='reversed'\n",
                "    ),\n",
                "    xaxis=dict(title='Height (cm)'),\n",
                "    legend=dict(\n",
                "        orientation='h',\n",
                "        yanchor='bottom',\n",
                "        y=1.02,\n",
                "        xanchor='right',\n",
                "        x=1\n",
                "    )\n",
                ")\n",
                "\n",
                "diverging_chart"
            ]
        },
        {
            "cell_type": "code",
            "execution_count": 351,
            "metadata": {},
            "outputs": [],
            "source": [
                "df['FiveYearGroup'] = (df['Year'] // 5) * 5 \n",
                "\n",
                "five_year_grouped = df.groupby('FiveYearGroup').agg({\n",
                "    'Mean male height (cm)': 'mean',\n",
                "    'Mean female height (cm)': 'mean'\n",
                "}).reset_index()\n",
                "\n",
                "five_year_grouped['Height Difference (cm)'] = abs(five_year_grouped['Mean male height (cm)']) - five_year_grouped['Mean female height (cm)']"
            ]
        },
        {
            "cell_type": "code",
            "execution_count": 352,
            "metadata": {},
            "outputs": [
                {
                    "data": {
                        "application/vnd.plotly.v1+json": {
                            "config": {
                                "plotlyServerURL": "https://plot.ly"
                            },
                            "data": [
                                {
                                    "marker": {
                                        "color": "blue"
                                    },
                                    "name": "Mean Male Height (cm)",
                                    "orientation": "v",
                                    "type": "bar",
                                    "x": [
                                        1890,
                                        1900,
                                        1910,
                                        1920,
                                        1930,
                                        1940,
                                        1950,
                                        1960,
                                        1970,
                                        1980,
                                        1990
                                    ],
                                    "y": [
                                        -162.415676375,
                                        -163.01516868000002,
                                        -164.08885416,
                                        -165.60726263,
                                        -167.20334044999998,
                                        -169.00725565,
                                        -171.20344843,
                                        -173.3145427,
                                        -174.97255342,
                                        -175.99123752,
                                        -176.45411442857144
                                    ]
                                },
                                {
                                    "marker": {
                                        "color": "pink"
                                    },
                                    "name": "Mean Female Height (cm)",
                                    "orientation": "v",
                                    "type": "bar",
                                    "x": [
                                        1890,
                                        1900,
                                        1910,
                                        1920,
                                        1930,
                                        1940,
                                        1950,
                                        1960,
                                        1970,
                                        1980,
                                        1990
                                    ],
                                    "y": [
                                        151.2258582,
                                        151.77598361,
                                        152.77024072,
                                        154.3427299,
                                        156.08890585,
                                        157.69334085,
                                        159.25853159000002,
                                        161.00112478,
                                        162.23866292,
                                        162.90367940000002,
                                        163.27982115714283
                                    ]
                                },
                                {
                                    "marker": {
                                        "color": "green"
                                    },
                                    "name": "Height Difference (cm)",
                                    "orientation": "v",
                                    "type": "bar",
                                    "x": [
                                        1890,
                                        1900,
                                        1910,
                                        1920,
                                        1930,
                                        1940,
                                        1950,
                                        1960,
                                        1970,
                                        1980,
                                        1990
                                    ],
                                    "y": [
                                        11.189818175,
                                        11.239185070000019,
                                        11.318613440000007,
                                        11.264532730000013,
                                        11.114434599999981,
                                        11.313914799999992,
                                        11.94491683999999,
                                        12.313417920000006,
                                        12.733890500000001,
                                        13.087558119999983,
                                        13.17429327142861
                                    ]
                                }
                            ],
                            "layout": {
                                "barmode": "relative",
                                "height": 800,
                                "legend": {
                                    "orientation": "h",
                                    "x": 1,
                                    "xanchor": "right",
                                    "y": 1.02,
                                    "yanchor": "bottom"
                                },
                                "template": {
                                    "data": {
                                        "bar": [
                                            {
                                                "error_x": {
                                                    "color": "#2a3f5f"
                                                },
                                                "error_y": {
                                                    "color": "#2a3f5f"
                                                },
                                                "marker": {
                                                    "line": {
                                                        "color": "#E5ECF6",
                                                        "width": 0.5
                                                    },
                                                    "pattern": {
                                                        "fillmode": "overlay",
                                                        "size": 10,
                                                        "solidity": 0.2
                                                    }
                                                },
                                                "type": "bar"
                                            }
                                        ],
                                        "barpolar": [
                                            {
                                                "marker": {
                                                    "line": {
                                                        "color": "#E5ECF6",
                                                        "width": 0.5
                                                    },
                                                    "pattern": {
                                                        "fillmode": "overlay",
                                                        "size": 10,
                                                        "solidity": 0.2
                                                    }
                                                },
                                                "type": "barpolar"
                                            }
                                        ],
                                        "carpet": [
                                            {
                                                "aaxis": {
                                                    "endlinecolor": "#2a3f5f",
                                                    "gridcolor": "white",
                                                    "linecolor": "white",
                                                    "minorgridcolor": "white",
                                                    "startlinecolor": "#2a3f5f"
                                                },
                                                "baxis": {
                                                    "endlinecolor": "#2a3f5f",
                                                    "gridcolor": "white",
                                                    "linecolor": "white",
                                                    "minorgridcolor": "white",
                                                    "startlinecolor": "#2a3f5f"
                                                },
                                                "type": "carpet"
                                            }
                                        ],
                                        "choropleth": [
                                            {
                                                "colorbar": {
                                                    "outlinewidth": 0,
                                                    "ticks": ""
                                                },
                                                "type": "choropleth"
                                            }
                                        ],
                                        "contour": [
                                            {
                                                "colorbar": {
                                                    "outlinewidth": 0,
                                                    "ticks": ""
                                                },
                                                "colorscale": [
                                                    [
                                                        0,
                                                        "#0d0887"
                                                    ],
                                                    [
                                                        0.1111111111111111,
                                                        "#46039f"
                                                    ],
                                                    [
                                                        0.2222222222222222,
                                                        "#7201a8"
                                                    ],
                                                    [
                                                        0.3333333333333333,
                                                        "#9c179e"
                                                    ],
                                                    [
                                                        0.4444444444444444,
                                                        "#bd3786"
                                                    ],
                                                    [
                                                        0.5555555555555556,
                                                        "#d8576b"
                                                    ],
                                                    [
                                                        0.6666666666666666,
                                                        "#ed7953"
                                                    ],
                                                    [
                                                        0.7777777777777778,
                                                        "#fb9f3a"
                                                    ],
                                                    [
                                                        0.8888888888888888,
                                                        "#fdca26"
                                                    ],
                                                    [
                                                        1,
                                                        "#f0f921"
                                                    ]
                                                ],
                                                "type": "contour"
                                            }
                                        ],
                                        "contourcarpet": [
                                            {
                                                "colorbar": {
                                                    "outlinewidth": 0,
                                                    "ticks": ""
                                                },
                                                "type": "contourcarpet"
                                            }
                                        ],
                                        "heatmap": [
                                            {
                                                "colorbar": {
                                                    "outlinewidth": 0,
                                                    "ticks": ""
                                                },
                                                "colorscale": [
                                                    [
                                                        0,
                                                        "#0d0887"
                                                    ],
                                                    [
                                                        0.1111111111111111,
                                                        "#46039f"
                                                    ],
                                                    [
                                                        0.2222222222222222,
                                                        "#7201a8"
                                                    ],
                                                    [
                                                        0.3333333333333333,
                                                        "#9c179e"
                                                    ],
                                                    [
                                                        0.4444444444444444,
                                                        "#bd3786"
                                                    ],
                                                    [
                                                        0.5555555555555556,
                                                        "#d8576b"
                                                    ],
                                                    [
                                                        0.6666666666666666,
                                                        "#ed7953"
                                                    ],
                                                    [
                                                        0.7777777777777778,
                                                        "#fb9f3a"
                                                    ],
                                                    [
                                                        0.8888888888888888,
                                                        "#fdca26"
                                                    ],
                                                    [
                                                        1,
                                                        "#f0f921"
                                                    ]
                                                ],
                                                "type": "heatmap"
                                            }
                                        ],
                                        "heatmapgl": [
                                            {
                                                "colorbar": {
                                                    "outlinewidth": 0,
                                                    "ticks": ""
                                                },
                                                "colorscale": [
                                                    [
                                                        0,
                                                        "#0d0887"
                                                    ],
                                                    [
                                                        0.1111111111111111,
                                                        "#46039f"
                                                    ],
                                                    [
                                                        0.2222222222222222,
                                                        "#7201a8"
                                                    ],
                                                    [
                                                        0.3333333333333333,
                                                        "#9c179e"
                                                    ],
                                                    [
                                                        0.4444444444444444,
                                                        "#bd3786"
                                                    ],
                                                    [
                                                        0.5555555555555556,
                                                        "#d8576b"
                                                    ],
                                                    [
                                                        0.6666666666666666,
                                                        "#ed7953"
                                                    ],
                                                    [
                                                        0.7777777777777778,
                                                        "#fb9f3a"
                                                    ],
                                                    [
                                                        0.8888888888888888,
                                                        "#fdca26"
                                                    ],
                                                    [
                                                        1,
                                                        "#f0f921"
                                                    ]
                                                ],
                                                "type": "heatmapgl"
                                            }
                                        ],
                                        "histogram": [
                                            {
                                                "marker": {
                                                    "pattern": {
                                                        "fillmode": "overlay",
                                                        "size": 10,
                                                        "solidity": 0.2
                                                    }
                                                },
                                                "type": "histogram"
                                            }
                                        ],
                                        "histogram2d": [
                                            {
                                                "colorbar": {
                                                    "outlinewidth": 0,
                                                    "ticks": ""
                                                },
                                                "colorscale": [
                                                    [
                                                        0,
                                                        "#0d0887"
                                                    ],
                                                    [
                                                        0.1111111111111111,
                                                        "#46039f"
                                                    ],
                                                    [
                                                        0.2222222222222222,
                                                        "#7201a8"
                                                    ],
                                                    [
                                                        0.3333333333333333,
                                                        "#9c179e"
                                                    ],
                                                    [
                                                        0.4444444444444444,
                                                        "#bd3786"
                                                    ],
                                                    [
                                                        0.5555555555555556,
                                                        "#d8576b"
                                                    ],
                                                    [
                                                        0.6666666666666666,
                                                        "#ed7953"
                                                    ],
                                                    [
                                                        0.7777777777777778,
                                                        "#fb9f3a"
                                                    ],
                                                    [
                                                        0.8888888888888888,
                                                        "#fdca26"
                                                    ],
                                                    [
                                                        1,
                                                        "#f0f921"
                                                    ]
                                                ],
                                                "type": "histogram2d"
                                            }
                                        ],
                                        "histogram2dcontour": [
                                            {
                                                "colorbar": {
                                                    "outlinewidth": 0,
                                                    "ticks": ""
                                                },
                                                "colorscale": [
                                                    [
                                                        0,
                                                        "#0d0887"
                                                    ],
                                                    [
                                                        0.1111111111111111,
                                                        "#46039f"
                                                    ],
                                                    [
                                                        0.2222222222222222,
                                                        "#7201a8"
                                                    ],
                                                    [
                                                        0.3333333333333333,
                                                        "#9c179e"
                                                    ],
                                                    [
                                                        0.4444444444444444,
                                                        "#bd3786"
                                                    ],
                                                    [
                                                        0.5555555555555556,
                                                        "#d8576b"
                                                    ],
                                                    [
                                                        0.6666666666666666,
                                                        "#ed7953"
                                                    ],
                                                    [
                                                        0.7777777777777778,
                                                        "#fb9f3a"
                                                    ],
                                                    [
                                                        0.8888888888888888,
                                                        "#fdca26"
                                                    ],
                                                    [
                                                        1,
                                                        "#f0f921"
                                                    ]
                                                ],
                                                "type": "histogram2dcontour"
                                            }
                                        ],
                                        "mesh3d": [
                                            {
                                                "colorbar": {
                                                    "outlinewidth": 0,
                                                    "ticks": ""
                                                },
                                                "type": "mesh3d"
                                            }
                                        ],
                                        "parcoords": [
                                            {
                                                "line": {
                                                    "colorbar": {
                                                        "outlinewidth": 0,
                                                        "ticks": ""
                                                    }
                                                },
                                                "type": "parcoords"
                                            }
                                        ],
                                        "pie": [
                                            {
                                                "automargin": true,
                                                "type": "pie"
                                            }
                                        ],
                                        "scatter": [
                                            {
                                                "fillpattern": {
                                                    "fillmode": "overlay",
                                                    "size": 10,
                                                    "solidity": 0.2
                                                },
                                                "type": "scatter"
                                            }
                                        ],
                                        "scatter3d": [
                                            {
                                                "line": {
                                                    "colorbar": {
                                                        "outlinewidth": 0,
                                                        "ticks": ""
                                                    }
                                                },
                                                "marker": {
                                                    "colorbar": {
                                                        "outlinewidth": 0,
                                                        "ticks": ""
                                                    }
                                                },
                                                "type": "scatter3d"
                                            }
                                        ],
                                        "scattercarpet": [
                                            {
                                                "marker": {
                                                    "colorbar": {
                                                        "outlinewidth": 0,
                                                        "ticks": ""
                                                    }
                                                },
                                                "type": "scattercarpet"
                                            }
                                        ],
                                        "scattergeo": [
                                            {
                                                "marker": {
                                                    "colorbar": {
                                                        "outlinewidth": 0,
                                                        "ticks": ""
                                                    }
                                                },
                                                "type": "scattergeo"
                                            }
                                        ],
                                        "scattergl": [
                                            {
                                                "marker": {
                                                    "colorbar": {
                                                        "outlinewidth": 0,
                                                        "ticks": ""
                                                    }
                                                },
                                                "type": "scattergl"
                                            }
                                        ],
                                        "scattermapbox": [
                                            {
                                                "marker": {
                                                    "colorbar": {
                                                        "outlinewidth": 0,
                                                        "ticks": ""
                                                    }
                                                },
                                                "type": "scattermapbox"
                                            }
                                        ],
                                        "scatterpolar": [
                                            {
                                                "marker": {
                                                    "colorbar": {
                                                        "outlinewidth": 0,
                                                        "ticks": ""
                                                    }
                                                },
                                                "type": "scatterpolar"
                                            }
                                        ],
                                        "scatterpolargl": [
                                            {
                                                "marker": {
                                                    "colorbar": {
                                                        "outlinewidth": 0,
                                                        "ticks": ""
                                                    }
                                                },
                                                "type": "scatterpolargl"
                                            }
                                        ],
                                        "scatterternary": [
                                            {
                                                "marker": {
                                                    "colorbar": {
                                                        "outlinewidth": 0,
                                                        "ticks": ""
                                                    }
                                                },
                                                "type": "scatterternary"
                                            }
                                        ],
                                        "surface": [
                                            {
                                                "colorbar": {
                                                    "outlinewidth": 0,
                                                    "ticks": ""
                                                },
                                                "colorscale": [
                                                    [
                                                        0,
                                                        "#0d0887"
                                                    ],
                                                    [
                                                        0.1111111111111111,
                                                        "#46039f"
                                                    ],
                                                    [
                                                        0.2222222222222222,
                                                        "#7201a8"
                                                    ],
                                                    [
                                                        0.3333333333333333,
                                                        "#9c179e"
                                                    ],
                                                    [
                                                        0.4444444444444444,
                                                        "#bd3786"
                                                    ],
                                                    [
                                                        0.5555555555555556,
                                                        "#d8576b"
                                                    ],
                                                    [
                                                        0.6666666666666666,
                                                        "#ed7953"
                                                    ],
                                                    [
                                                        0.7777777777777778,
                                                        "#fb9f3a"
                                                    ],
                                                    [
                                                        0.8888888888888888,
                                                        "#fdca26"
                                                    ],
                                                    [
                                                        1,
                                                        "#f0f921"
                                                    ]
                                                ],
                                                "type": "surface"
                                            }
                                        ],
                                        "table": [
                                            {
                                                "cells": {
                                                    "fill": {
                                                        "color": "#EBF0F8"
                                                    },
                                                    "line": {
                                                        "color": "white"
                                                    }
                                                },
                                                "header": {
                                                    "fill": {
                                                        "color": "#C8D4E3"
                                                    },
                                                    "line": {
                                                        "color": "white"
                                                    }
                                                },
                                                "type": "table"
                                            }
                                        ]
                                    },
                                    "layout": {
                                        "annotationdefaults": {
                                            "arrowcolor": "#2a3f5f",
                                            "arrowhead": 0,
                                            "arrowwidth": 1
                                        },
                                        "autotypenumbers": "strict",
                                        "coloraxis": {
                                            "colorbar": {
                                                "outlinewidth": 0,
                                                "ticks": ""
                                            }
                                        },
                                        "colorscale": {
                                            "diverging": [
                                                [
                                                    0,
                                                    "#8e0152"
                                                ],
                                                [
                                                    0.1,
                                                    "#c51b7d"
                                                ],
                                                [
                                                    0.2,
                                                    "#de77ae"
                                                ],
                                                [
                                                    0.3,
                                                    "#f1b6da"
                                                ],
                                                [
                                                    0.4,
                                                    "#fde0ef"
                                                ],
                                                [
                                                    0.5,
                                                    "#f7f7f7"
                                                ],
                                                [
                                                    0.6,
                                                    "#e6f5d0"
                                                ],
                                                [
                                                    0.7,
                                                    "#b8e186"
                                                ],
                                                [
                                                    0.8,
                                                    "#7fbc41"
                                                ],
                                                [
                                                    0.9,
                                                    "#4d9221"
                                                ],
                                                [
                                                    1,
                                                    "#276419"
                                                ]
                                            ],
                                            "sequential": [
                                                [
                                                    0,
                                                    "#0d0887"
                                                ],
                                                [
                                                    0.1111111111111111,
                                                    "#46039f"
                                                ],
                                                [
                                                    0.2222222222222222,
                                                    "#7201a8"
                                                ],
                                                [
                                                    0.3333333333333333,
                                                    "#9c179e"
                                                ],
                                                [
                                                    0.4444444444444444,
                                                    "#bd3786"
                                                ],
                                                [
                                                    0.5555555555555556,
                                                    "#d8576b"
                                                ],
                                                [
                                                    0.6666666666666666,
                                                    "#ed7953"
                                                ],
                                                [
                                                    0.7777777777777778,
                                                    "#fb9f3a"
                                                ],
                                                [
                                                    0.8888888888888888,
                                                    "#fdca26"
                                                ],
                                                [
                                                    1,
                                                    "#f0f921"
                                                ]
                                            ],
                                            "sequentialminus": [
                                                [
                                                    0,
                                                    "#0d0887"
                                                ],
                                                [
                                                    0.1111111111111111,
                                                    "#46039f"
                                                ],
                                                [
                                                    0.2222222222222222,
                                                    "#7201a8"
                                                ],
                                                [
                                                    0.3333333333333333,
                                                    "#9c179e"
                                                ],
                                                [
                                                    0.4444444444444444,
                                                    "#bd3786"
                                                ],
                                                [
                                                    0.5555555555555556,
                                                    "#d8576b"
                                                ],
                                                [
                                                    0.6666666666666666,
                                                    "#ed7953"
                                                ],
                                                [
                                                    0.7777777777777778,
                                                    "#fb9f3a"
                                                ],
                                                [
                                                    0.8888888888888888,
                                                    "#fdca26"
                                                ],
                                                [
                                                    1,
                                                    "#f0f921"
                                                ]
                                            ]
                                        },
                                        "colorway": [
                                            "#636efa",
                                            "#EF553B",
                                            "#00cc96",
                                            "#ab63fa",
                                            "#FFA15A",
                                            "#19d3f3",
                                            "#FF6692",
                                            "#B6E880",
                                            "#FF97FF",
                                            "#FECB52"
                                        ],
                                        "font": {
                                            "color": "#2a3f5f"
                                        },
                                        "geo": {
                                            "bgcolor": "white",
                                            "lakecolor": "white",
                                            "landcolor": "#E5ECF6",
                                            "showlakes": true,
                                            "showland": true,
                                            "subunitcolor": "white"
                                        },
                                        "hoverlabel": {
                                            "align": "left"
                                        },
                                        "hovermode": "closest",
                                        "mapbox": {
                                            "style": "light"
                                        },
                                        "paper_bgcolor": "white",
                                        "plot_bgcolor": "#E5ECF6",
                                        "polar": {
                                            "angularaxis": {
                                                "gridcolor": "white",
                                                "linecolor": "white",
                                                "ticks": ""
                                            },
                                            "bgcolor": "#E5ECF6",
                                            "radialaxis": {
                                                "gridcolor": "white",
                                                "linecolor": "white",
                                                "ticks": ""
                                            }
                                        },
                                        "scene": {
                                            "xaxis": {
                                                "backgroundcolor": "#E5ECF6",
                                                "gridcolor": "white",
                                                "gridwidth": 2,
                                                "linecolor": "white",
                                                "showbackground": true,
                                                "ticks": "",
                                                "zerolinecolor": "white"
                                            },
                                            "yaxis": {
                                                "backgroundcolor": "#E5ECF6",
                                                "gridcolor": "white",
                                                "gridwidth": 2,
                                                "linecolor": "white",
                                                "showbackground": true,
                                                "ticks": "",
                                                "zerolinecolor": "white"
                                            },
                                            "zaxis": {
                                                "backgroundcolor": "#E5ECF6",
                                                "gridcolor": "white",
                                                "gridwidth": 2,
                                                "linecolor": "white",
                                                "showbackground": true,
                                                "ticks": "",
                                                "zerolinecolor": "white"
                                            }
                                        },
                                        "shapedefaults": {
                                            "line": {
                                                "color": "#2a3f5f"
                                            }
                                        },
                                        "ternary": {
                                            "aaxis": {
                                                "gridcolor": "white",
                                                "linecolor": "white",
                                                "ticks": ""
                                            },
                                            "baxis": {
                                                "gridcolor": "white",
                                                "linecolor": "white",
                                                "ticks": ""
                                            },
                                            "bgcolor": "#E5ECF6",
                                            "caxis": {
                                                "gridcolor": "white",
                                                "linecolor": "white",
                                                "ticks": ""
                                            }
                                        },
                                        "title": {
                                            "x": 0.05
                                        },
                                        "xaxis": {
                                            "automargin": true,
                                            "gridcolor": "white",
                                            "linecolor": "white",
                                            "ticks": "",
                                            "title": {
                                                "standoff": 15
                                            },
                                            "zerolinecolor": "white",
                                            "zerolinewidth": 2
                                        },
                                        "yaxis": {
                                            "automargin": true,
                                            "gridcolor": "white",
                                            "linecolor": "white",
                                            "ticks": "",
                                            "title": {
                                                "standoff": 15
                                            },
                                            "zerolinecolor": "white",
                                            "zerolinewidth": 2
                                        }
                                    }
                                },
                                "title": {
                                    "text": "Average Height by Decade of Birth in Spain (Diverging Chart)"
                                },
                                "width": 900,
                                "xaxis": {
                                    "autorange": true,
                                    "title": {
                                        "text": "Decade of Birth"
                                    }
                                },
                                "yaxis": {
                                    "title": {
                                        "text": "Height (cm)"
                                    }
                                }
                            }
                        }
                    },
                    "metadata": {},
                    "output_type": "display_data"
                }
            ],
            "source": [
                "decade_grouped['Height Difference (cm)'] = abs(decade_grouped['Mean male height (cm)']) - decade_grouped['Mean female height (cm)']\n",
                "\n",
                "diverging_chart_decade_vertical = go.Figure()\n",
                "\n",
                "diverging_chart_decade_vertical.add_trace(go.Bar(\n",
                "    x=decade_grouped['Decade'],\n",
                "    y=-decade_grouped['Mean male height (cm)'],\n",
                "    orientation='v',\n",
                "    name='Mean Male Height (cm)',\n",
                "    marker_color='blue',\n",
                "))\n",
                "\n",
                "\n",
                "diverging_chart_decade_vertical.add_trace(go.Bar(\n",
                "    x=decade_grouped['Decade'],\n",
                "    y=decade_grouped['Mean female height (cm)'],\n",
                "    orientation='v',\n",
                "    name='Mean Female Height (cm)',\n",
                "    marker_color='pink',  \n",
                "))\n",
                "\n",
                "\n",
                "diverging_chart_decade_vertical.add_trace(go.Bar(\n",
                "    x=decade_grouped['Decade'],\n",
                "    y=decade_grouped['Height Difference (cm)'],\n",
                "    orientation='v',\n",
                "    name='Height Difference (cm)',\n",
                "    marker_color='green', \n",
                "))\n",
                "\n",
                "\n",
                "diverging_chart_decade_vertical.update_layout(\n",
                "    title='Average Height by Decade of Birth in Spain (Diverging Chart)',\n",
                "    barmode='relative', \n",
                "    height=800,  \n",
                "    width=900,\n",
                "    xaxis=dict(\n",
                "        title='Decade of Birth',\n",
                "        autorange=True \n",
                "    ),\n",
                "    yaxis=dict(title='Height (cm)'),\n",
                "    legend=dict(\n",
                "        orientation='h',\n",
                "        yanchor='bottom',\n",
                "        y=1.02,\n",
                "        xanchor='right',\n",
                "        x=1\n",
                "    )\n",
                ")\n",
                "\n",
                "diverging_chart_decade_vertical\n"
            ]
        },
        {
            "cell_type": "code",
            "execution_count": 368,
            "metadata": {},
            "outputs": [
                {
                    "data": {
                        "application/vnd.plotly.v1+json": {
                            "config": {
                                "plotlyServerURL": "https://plot.ly"
                            },
                            "data": [
                                {
                                    "insidetextfont": {
                                        "color": "black",
                                        "size": 34
                                    },
                                    "marker": {
                                        "color": "lightblue"
                                    },
                                    "name": "Mean Male Height (m)",
                                    "orientation": "h",
                                    "text": [
                                        1.62,
                                        1.63,
                                        1.63,
                                        1.64,
                                        1.64,
                                        1.65,
                                        1.66,
                                        1.67,
                                        1.68,
                                        1.69,
                                        1.7,
                                        1.71,
                                        1.72,
                                        1.73,
                                        1.74,
                                        1.75,
                                        1.75,
                                        1.76,
                                        1.76,
                                        1.76,
                                        1.77
                                    ],
                                    "textposition": "inside",
                                    "type": "bar",
                                    "x": [
                                        162.415676375,
                                        162.79612884,
                                        163.23420851999998,
                                        163.75034334,
                                        164.42736498,
                                        165.21095992,
                                        166.00356534,
                                        166.78868921999998,
                                        167.61799168,
                                        168.50797348,
                                        169.50653782,
                                        170.63402068,
                                        171.77287618,
                                        172.84850065999998,
                                        173.78058474,
                                        174.61552286,
                                        175.32958398,
                                        175.82056724,
                                        176.1619078,
                                        176.40751472,
                                        176.57061370000002
                                    ],
                                    "y": [
                                        1895,
                                        1900,
                                        1905,
                                        1910,
                                        1915,
                                        1920,
                                        1925,
                                        1930,
                                        1935,
                                        1940,
                                        1945,
                                        1950,
                                        1955,
                                        1960,
                                        1965,
                                        1970,
                                        1975,
                                        1980,
                                        1985,
                                        1990,
                                        1995
                                    ]
                                },
                                {
                                    "insidetextfont": {
                                        "color": "white",
                                        "size": 34
                                    },
                                    "marker": {
                                        "color": "green"
                                    },
                                    "name": "Mean Height Difference (cm)",
                                    "orientation": "h",
                                    "text": [
                                        11.19,
                                        11.22,
                                        11.26,
                                        11.31,
                                        11.33,
                                        11.3,
                                        11.23,
                                        11.14,
                                        11.09,
                                        11.18,
                                        11.45,
                                        11.81,
                                        12.08,
                                        12.24,
                                        12.38,
                                        12.61,
                                        12.86,
                                        13.04,
                                        13.13,
                                        13.17,
                                        13.19
                                    ],
                                    "textposition": "inside",
                                    "type": "bar",
                                    "x": [
                                        11.189818175,
                                        11.218483419999984,
                                        11.259886719999969,
                                        11.307679019999995,
                                        11.329547859999991,
                                        11.301467900000006,
                                        11.227597559999992,
                                        11.135630299999974,
                                        11.093238899999989,
                                        11.176783280000024,
                                        11.451046320000017,
                                        11.807517319999988,
                                        12.082316359999993,
                                        12.244449619999983,
                                        12.38238622,
                                        12.605114680000014,
                                        12.862666320000017,
                                        13.044157420000005,
                                        13.13095881999999,
                                        13.167034480000012,
                                        13.192440250000004
                                    ],
                                    "y": [
                                        1895,
                                        1900,
                                        1905,
                                        1910,
                                        1915,
                                        1920,
                                        1925,
                                        1930,
                                        1935,
                                        1940,
                                        1945,
                                        1950,
                                        1955,
                                        1960,
                                        1965,
                                        1970,
                                        1975,
                                        1980,
                                        1985,
                                        1990,
                                        1995
                                    ]
                                },
                                {
                                    "insidetextfont": {
                                        "color": "black",
                                        "size": 34
                                    },
                                    "marker": {
                                        "color": "pink"
                                    },
                                    "name": "Mean Female Height (m)",
                                    "orientation": "h",
                                    "text": [
                                        1.51,
                                        1.52,
                                        1.52,
                                        1.52,
                                        1.53,
                                        1.54,
                                        1.55,
                                        1.56,
                                        1.57,
                                        1.57,
                                        1.58,
                                        1.59,
                                        1.6,
                                        1.61,
                                        1.61,
                                        1.62,
                                        1.62,
                                        1.63,
                                        1.63,
                                        1.63,
                                        1.63
                                    ],
                                    "textposition": "inside",
                                    "type": "bar",
                                    "x": [
                                        151.2258582,
                                        151.57764542,
                                        151.9743218,
                                        152.44266432,
                                        153.09781712,
                                        153.90949202,
                                        154.77596778,
                                        155.65305892,
                                        156.52475278,
                                        157.33119019999998,
                                        158.0554915,
                                        158.82650336,
                                        159.69055982,
                                        160.60405104,
                                        161.39819852,
                                        162.01040817999998,
                                        162.46691765999998,
                                        162.77640982,
                                        163.03094898,
                                        163.24048023999998,
                                        163.37817345000002
                                    ],
                                    "y": [
                                        1895,
                                        1900,
                                        1905,
                                        1910,
                                        1915,
                                        1920,
                                        1925,
                                        1930,
                                        1935,
                                        1940,
                                        1945,
                                        1950,
                                        1955,
                                        1960,
                                        1965,
                                        1970,
                                        1975,
                                        1980,
                                        1985,
                                        1990,
                                        1995
                                    ]
                                }
                            ],
                            "layout": {
                                "annotations": [
                                    {
                                        "align": "center",
                                        "font": {
                                            "color": "black",
                                            "size": 18
                                        },
                                        "showarrow": false,
                                        "text": "Source: Kaggle\n Author: Sergio Esteban Tarrero",
                                        "x": 0.5,
                                        "xref": "paper",
                                        "y": -0.12,
                                        "yref": "paper"
                                    },
                                    {
                                        "align": "center",
                                        "font": {
                                            "color": "black",
                                            "size": 18
                                        },
                                        "showarrow": false,
                                        "text": "Source: Kaggle\n Author: Sergio Esteban Tarrero",
                                        "x": 0.5,
                                        "xref": "paper",
                                        "y": -0.05,
                                        "yref": "paper"
                                    }
                                ],
                                "barmode": "relative",
                                "height": 730,
                                "legend": {
                                    "orientation": "h",
                                    "x": 1,
                                    "xanchor": "right",
                                    "y": 1.02,
                                    "yanchor": "bottom"
                                },
                                "template": {
                                    "data": {
                                        "bar": [
                                            {
                                                "error_x": {
                                                    "color": "#2a3f5f"
                                                },
                                                "error_y": {
                                                    "color": "#2a3f5f"
                                                },
                                                "marker": {
                                                    "line": {
                                                        "color": "#E5ECF6",
                                                        "width": 0.5
                                                    },
                                                    "pattern": {
                                                        "fillmode": "overlay",
                                                        "size": 10,
                                                        "solidity": 0.2
                                                    }
                                                },
                                                "type": "bar"
                                            }
                                        ],
                                        "barpolar": [
                                            {
                                                "marker": {
                                                    "line": {
                                                        "color": "#E5ECF6",
                                                        "width": 0.5
                                                    },
                                                    "pattern": {
                                                        "fillmode": "overlay",
                                                        "size": 10,
                                                        "solidity": 0.2
                                                    }
                                                },
                                                "type": "barpolar"
                                            }
                                        ],
                                        "carpet": [
                                            {
                                                "aaxis": {
                                                    "endlinecolor": "#2a3f5f",
                                                    "gridcolor": "white",
                                                    "linecolor": "white",
                                                    "minorgridcolor": "white",
                                                    "startlinecolor": "#2a3f5f"
                                                },
                                                "baxis": {
                                                    "endlinecolor": "#2a3f5f",
                                                    "gridcolor": "white",
                                                    "linecolor": "white",
                                                    "minorgridcolor": "white",
                                                    "startlinecolor": "#2a3f5f"
                                                },
                                                "type": "carpet"
                                            }
                                        ],
                                        "choropleth": [
                                            {
                                                "colorbar": {
                                                    "outlinewidth": 0,
                                                    "ticks": ""
                                                },
                                                "type": "choropleth"
                                            }
                                        ],
                                        "contour": [
                                            {
                                                "colorbar": {
                                                    "outlinewidth": 0,
                                                    "ticks": ""
                                                },
                                                "colorscale": [
                                                    [
                                                        0,
                                                        "#0d0887"
                                                    ],
                                                    [
                                                        0.1111111111111111,
                                                        "#46039f"
                                                    ],
                                                    [
                                                        0.2222222222222222,
                                                        "#7201a8"
                                                    ],
                                                    [
                                                        0.3333333333333333,
                                                        "#9c179e"
                                                    ],
                                                    [
                                                        0.4444444444444444,
                                                        "#bd3786"
                                                    ],
                                                    [
                                                        0.5555555555555556,
                                                        "#d8576b"
                                                    ],
                                                    [
                                                        0.6666666666666666,
                                                        "#ed7953"
                                                    ],
                                                    [
                                                        0.7777777777777778,
                                                        "#fb9f3a"
                                                    ],
                                                    [
                                                        0.8888888888888888,
                                                        "#fdca26"
                                                    ],
                                                    [
                                                        1,
                                                        "#f0f921"
                                                    ]
                                                ],
                                                "type": "contour"
                                            }
                                        ],
                                        "contourcarpet": [
                                            {
                                                "colorbar": {
                                                    "outlinewidth": 0,
                                                    "ticks": ""
                                                },
                                                "type": "contourcarpet"
                                            }
                                        ],
                                        "heatmap": [
                                            {
                                                "colorbar": {
                                                    "outlinewidth": 0,
                                                    "ticks": ""
                                                },
                                                "colorscale": [
                                                    [
                                                        0,
                                                        "#0d0887"
                                                    ],
                                                    [
                                                        0.1111111111111111,
                                                        "#46039f"
                                                    ],
                                                    [
                                                        0.2222222222222222,
                                                        "#7201a8"
                                                    ],
                                                    [
                                                        0.3333333333333333,
                                                        "#9c179e"
                                                    ],
                                                    [
                                                        0.4444444444444444,
                                                        "#bd3786"
                                                    ],
                                                    [
                                                        0.5555555555555556,
                                                        "#d8576b"
                                                    ],
                                                    [
                                                        0.6666666666666666,
                                                        "#ed7953"
                                                    ],
                                                    [
                                                        0.7777777777777778,
                                                        "#fb9f3a"
                                                    ],
                                                    [
                                                        0.8888888888888888,
                                                        "#fdca26"
                                                    ],
                                                    [
                                                        1,
                                                        "#f0f921"
                                                    ]
                                                ],
                                                "type": "heatmap"
                                            }
                                        ],
                                        "heatmapgl": [
                                            {
                                                "colorbar": {
                                                    "outlinewidth": 0,
                                                    "ticks": ""
                                                },
                                                "colorscale": [
                                                    [
                                                        0,
                                                        "#0d0887"
                                                    ],
                                                    [
                                                        0.1111111111111111,
                                                        "#46039f"
                                                    ],
                                                    [
                                                        0.2222222222222222,
                                                        "#7201a8"
                                                    ],
                                                    [
                                                        0.3333333333333333,
                                                        "#9c179e"
                                                    ],
                                                    [
                                                        0.4444444444444444,
                                                        "#bd3786"
                                                    ],
                                                    [
                                                        0.5555555555555556,
                                                        "#d8576b"
                                                    ],
                                                    [
                                                        0.6666666666666666,
                                                        "#ed7953"
                                                    ],
                                                    [
                                                        0.7777777777777778,
                                                        "#fb9f3a"
                                                    ],
                                                    [
                                                        0.8888888888888888,
                                                        "#fdca26"
                                                    ],
                                                    [
                                                        1,
                                                        "#f0f921"
                                                    ]
                                                ],
                                                "type": "heatmapgl"
                                            }
                                        ],
                                        "histogram": [
                                            {
                                                "marker": {
                                                    "pattern": {
                                                        "fillmode": "overlay",
                                                        "size": 10,
                                                        "solidity": 0.2
                                                    }
                                                },
                                                "type": "histogram"
                                            }
                                        ],
                                        "histogram2d": [
                                            {
                                                "colorbar": {
                                                    "outlinewidth": 0,
                                                    "ticks": ""
                                                },
                                                "colorscale": [
                                                    [
                                                        0,
                                                        "#0d0887"
                                                    ],
                                                    [
                                                        0.1111111111111111,
                                                        "#46039f"
                                                    ],
                                                    [
                                                        0.2222222222222222,
                                                        "#7201a8"
                                                    ],
                                                    [
                                                        0.3333333333333333,
                                                        "#9c179e"
                                                    ],
                                                    [
                                                        0.4444444444444444,
                                                        "#bd3786"
                                                    ],
                                                    [
                                                        0.5555555555555556,
                                                        "#d8576b"
                                                    ],
                                                    [
                                                        0.6666666666666666,
                                                        "#ed7953"
                                                    ],
                                                    [
                                                        0.7777777777777778,
                                                        "#fb9f3a"
                                                    ],
                                                    [
                                                        0.8888888888888888,
                                                        "#fdca26"
                                                    ],
                                                    [
                                                        1,
                                                        "#f0f921"
                                                    ]
                                                ],
                                                "type": "histogram2d"
                                            }
                                        ],
                                        "histogram2dcontour": [
                                            {
                                                "colorbar": {
                                                    "outlinewidth": 0,
                                                    "ticks": ""
                                                },
                                                "colorscale": [
                                                    [
                                                        0,
                                                        "#0d0887"
                                                    ],
                                                    [
                                                        0.1111111111111111,
                                                        "#46039f"
                                                    ],
                                                    [
                                                        0.2222222222222222,
                                                        "#7201a8"
                                                    ],
                                                    [
                                                        0.3333333333333333,
                                                        "#9c179e"
                                                    ],
                                                    [
                                                        0.4444444444444444,
                                                        "#bd3786"
                                                    ],
                                                    [
                                                        0.5555555555555556,
                                                        "#d8576b"
                                                    ],
                                                    [
                                                        0.6666666666666666,
                                                        "#ed7953"
                                                    ],
                                                    [
                                                        0.7777777777777778,
                                                        "#fb9f3a"
                                                    ],
                                                    [
                                                        0.8888888888888888,
                                                        "#fdca26"
                                                    ],
                                                    [
                                                        1,
                                                        "#f0f921"
                                                    ]
                                                ],
                                                "type": "histogram2dcontour"
                                            }
                                        ],
                                        "mesh3d": [
                                            {
                                                "colorbar": {
                                                    "outlinewidth": 0,
                                                    "ticks": ""
                                                },
                                                "type": "mesh3d"
                                            }
                                        ],
                                        "parcoords": [
                                            {
                                                "line": {
                                                    "colorbar": {
                                                        "outlinewidth": 0,
                                                        "ticks": ""
                                                    }
                                                },
                                                "type": "parcoords"
                                            }
                                        ],
                                        "pie": [
                                            {
                                                "automargin": true,
                                                "type": "pie"
                                            }
                                        ],
                                        "scatter": [
                                            {
                                                "fillpattern": {
                                                    "fillmode": "overlay",
                                                    "size": 10,
                                                    "solidity": 0.2
                                                },
                                                "type": "scatter"
                                            }
                                        ],
                                        "scatter3d": [
                                            {
                                                "line": {
                                                    "colorbar": {
                                                        "outlinewidth": 0,
                                                        "ticks": ""
                                                    }
                                                },
                                                "marker": {
                                                    "colorbar": {
                                                        "outlinewidth": 0,
                                                        "ticks": ""
                                                    }
                                                },
                                                "type": "scatter3d"
                                            }
                                        ],
                                        "scattercarpet": [
                                            {
                                                "marker": {
                                                    "colorbar": {
                                                        "outlinewidth": 0,
                                                        "ticks": ""
                                                    }
                                                },
                                                "type": "scattercarpet"
                                            }
                                        ],
                                        "scattergeo": [
                                            {
                                                "marker": {
                                                    "colorbar": {
                                                        "outlinewidth": 0,
                                                        "ticks": ""
                                                    }
                                                },
                                                "type": "scattergeo"
                                            }
                                        ],
                                        "scattergl": [
                                            {
                                                "marker": {
                                                    "colorbar": {
                                                        "outlinewidth": 0,
                                                        "ticks": ""
                                                    }
                                                },
                                                "type": "scattergl"
                                            }
                                        ],
                                        "scattermapbox": [
                                            {
                                                "marker": {
                                                    "colorbar": {
                                                        "outlinewidth": 0,
                                                        "ticks": ""
                                                    }
                                                },
                                                "type": "scattermapbox"
                                            }
                                        ],
                                        "scatterpolar": [
                                            {
                                                "marker": {
                                                    "colorbar": {
                                                        "outlinewidth": 0,
                                                        "ticks": ""
                                                    }
                                                },
                                                "type": "scatterpolar"
                                            }
                                        ],
                                        "scatterpolargl": [
                                            {
                                                "marker": {
                                                    "colorbar": {
                                                        "outlinewidth": 0,
                                                        "ticks": ""
                                                    }
                                                },
                                                "type": "scatterpolargl"
                                            }
                                        ],
                                        "scatterternary": [
                                            {
                                                "marker": {
                                                    "colorbar": {
                                                        "outlinewidth": 0,
                                                        "ticks": ""
                                                    }
                                                },
                                                "type": "scatterternary"
                                            }
                                        ],
                                        "surface": [
                                            {
                                                "colorbar": {
                                                    "outlinewidth": 0,
                                                    "ticks": ""
                                                },
                                                "colorscale": [
                                                    [
                                                        0,
                                                        "#0d0887"
                                                    ],
                                                    [
                                                        0.1111111111111111,
                                                        "#46039f"
                                                    ],
                                                    [
                                                        0.2222222222222222,
                                                        "#7201a8"
                                                    ],
                                                    [
                                                        0.3333333333333333,
                                                        "#9c179e"
                                                    ],
                                                    [
                                                        0.4444444444444444,
                                                        "#bd3786"
                                                    ],
                                                    [
                                                        0.5555555555555556,
                                                        "#d8576b"
                                                    ],
                                                    [
                                                        0.6666666666666666,
                                                        "#ed7953"
                                                    ],
                                                    [
                                                        0.7777777777777778,
                                                        "#fb9f3a"
                                                    ],
                                                    [
                                                        0.8888888888888888,
                                                        "#fdca26"
                                                    ],
                                                    [
                                                        1,
                                                        "#f0f921"
                                                    ]
                                                ],
                                                "type": "surface"
                                            }
                                        ],
                                        "table": [
                                            {
                                                "cells": {
                                                    "fill": {
                                                        "color": "#EBF0F8"
                                                    },
                                                    "line": {
                                                        "color": "white"
                                                    }
                                                },
                                                "header": {
                                                    "fill": {
                                                        "color": "#C8D4E3"
                                                    },
                                                    "line": {
                                                        "color": "white"
                                                    }
                                                },
                                                "type": "table"
                                            }
                                        ]
                                    },
                                    "layout": {
                                        "annotationdefaults": {
                                            "arrowcolor": "#2a3f5f",
                                            "arrowhead": 0,
                                            "arrowwidth": 1
                                        },
                                        "autotypenumbers": "strict",
                                        "coloraxis": {
                                            "colorbar": {
                                                "outlinewidth": 0,
                                                "ticks": ""
                                            }
                                        },
                                        "colorscale": {
                                            "diverging": [
                                                [
                                                    0,
                                                    "#8e0152"
                                                ],
                                                [
                                                    0.1,
                                                    "#c51b7d"
                                                ],
                                                [
                                                    0.2,
                                                    "#de77ae"
                                                ],
                                                [
                                                    0.3,
                                                    "#f1b6da"
                                                ],
                                                [
                                                    0.4,
                                                    "#fde0ef"
                                                ],
                                                [
                                                    0.5,
                                                    "#f7f7f7"
                                                ],
                                                [
                                                    0.6,
                                                    "#e6f5d0"
                                                ],
                                                [
                                                    0.7,
                                                    "#b8e186"
                                                ],
                                                [
                                                    0.8,
                                                    "#7fbc41"
                                                ],
                                                [
                                                    0.9,
                                                    "#4d9221"
                                                ],
                                                [
                                                    1,
                                                    "#276419"
                                                ]
                                            ],
                                            "sequential": [
                                                [
                                                    0,
                                                    "#0d0887"
                                                ],
                                                [
                                                    0.1111111111111111,
                                                    "#46039f"
                                                ],
                                                [
                                                    0.2222222222222222,
                                                    "#7201a8"
                                                ],
                                                [
                                                    0.3333333333333333,
                                                    "#9c179e"
                                                ],
                                                [
                                                    0.4444444444444444,
                                                    "#bd3786"
                                                ],
                                                [
                                                    0.5555555555555556,
                                                    "#d8576b"
                                                ],
                                                [
                                                    0.6666666666666666,
                                                    "#ed7953"
                                                ],
                                                [
                                                    0.7777777777777778,
                                                    "#fb9f3a"
                                                ],
                                                [
                                                    0.8888888888888888,
                                                    "#fdca26"
                                                ],
                                                [
                                                    1,
                                                    "#f0f921"
                                                ]
                                            ],
                                            "sequentialminus": [
                                                [
                                                    0,
                                                    "#0d0887"
                                                ],
                                                [
                                                    0.1111111111111111,
                                                    "#46039f"
                                                ],
                                                [
                                                    0.2222222222222222,
                                                    "#7201a8"
                                                ],
                                                [
                                                    0.3333333333333333,
                                                    "#9c179e"
                                                ],
                                                [
                                                    0.4444444444444444,
                                                    "#bd3786"
                                                ],
                                                [
                                                    0.5555555555555556,
                                                    "#d8576b"
                                                ],
                                                [
                                                    0.6666666666666666,
                                                    "#ed7953"
                                                ],
                                                [
                                                    0.7777777777777778,
                                                    "#fb9f3a"
                                                ],
                                                [
                                                    0.8888888888888888,
                                                    "#fdca26"
                                                ],
                                                [
                                                    1,
                                                    "#f0f921"
                                                ]
                                            ]
                                        },
                                        "colorway": [
                                            "#636efa",
                                            "#EF553B",
                                            "#00cc96",
                                            "#ab63fa",
                                            "#FFA15A",
                                            "#19d3f3",
                                            "#FF6692",
                                            "#B6E880",
                                            "#FF97FF",
                                            "#FECB52"
                                        ],
                                        "font": {
                                            "color": "#2a3f5f"
                                        },
                                        "geo": {
                                            "bgcolor": "white",
                                            "lakecolor": "white",
                                            "landcolor": "#E5ECF6",
                                            "showlakes": true,
                                            "showland": true,
                                            "subunitcolor": "white"
                                        },
                                        "hoverlabel": {
                                            "align": "left"
                                        },
                                        "hovermode": "closest",
                                        "mapbox": {
                                            "style": "light"
                                        },
                                        "paper_bgcolor": "white",
                                        "plot_bgcolor": "#E5ECF6",
                                        "polar": {
                                            "angularaxis": {
                                                "gridcolor": "white",
                                                "linecolor": "white",
                                                "ticks": ""
                                            },
                                            "bgcolor": "#E5ECF6",
                                            "radialaxis": {
                                                "gridcolor": "white",
                                                "linecolor": "white",
                                                "ticks": ""
                                            }
                                        },
                                        "scene": {
                                            "xaxis": {
                                                "backgroundcolor": "#E5ECF6",
                                                "gridcolor": "white",
                                                "gridwidth": 2,
                                                "linecolor": "white",
                                                "showbackground": true,
                                                "ticks": "",
                                                "zerolinecolor": "white"
                                            },
                                            "yaxis": {
                                                "backgroundcolor": "#E5ECF6",
                                                "gridcolor": "white",
                                                "gridwidth": 2,
                                                "linecolor": "white",
                                                "showbackground": true,
                                                "ticks": "",
                                                "zerolinecolor": "white"
                                            },
                                            "zaxis": {
                                                "backgroundcolor": "#E5ECF6",
                                                "gridcolor": "white",
                                                "gridwidth": 2,
                                                "linecolor": "white",
                                                "showbackground": true,
                                                "ticks": "",
                                                "zerolinecolor": "white"
                                            }
                                        },
                                        "shapedefaults": {
                                            "line": {
                                                "color": "#2a3f5f"
                                            }
                                        },
                                        "ternary": {
                                            "aaxis": {
                                                "gridcolor": "white",
                                                "linecolor": "white",
                                                "ticks": ""
                                            },
                                            "baxis": {
                                                "gridcolor": "white",
                                                "linecolor": "white",
                                                "ticks": ""
                                            },
                                            "bgcolor": "#E5ECF6",
                                            "caxis": {
                                                "gridcolor": "white",
                                                "linecolor": "white",
                                                "ticks": ""
                                            }
                                        },
                                        "title": {
                                            "x": 0.05
                                        },
                                        "xaxis": {
                                            "automargin": true,
                                            "gridcolor": "white",
                                            "linecolor": "white",
                                            "ticks": "",
                                            "title": {
                                                "standoff": 15
                                            },
                                            "zerolinecolor": "white",
                                            "zerolinewidth": 2
                                        },
                                        "yaxis": {
                                            "automargin": true,
                                            "gridcolor": "white",
                                            "linecolor": "white",
                                            "ticks": "",
                                            "title": {
                                                "standoff": 15
                                            },
                                            "zerolinecolor": "white",
                                            "zerolinewidth": 2
                                        }
                                    }
                                },
                                "title": {
                                    "text": "Average Height by 5-Year Group of Birth in Spain"
                                },
                                "width": 1450,
                                "xaxis": {
                                    "title": {
                                        "text": "Height (m)"
                                    }
                                },
                                "yaxis": {
                                    "autorange": "reversed",
                                    "title": {
                                        "text": "5-Year Group of Birth"
                                    }
                                }
                            }
                        }
                    },
                    "metadata": {},
                    "output_type": "display_data"
                }
            ],
            "source": [
                "diverging_chart_five_year_horizontal = go.Figure()\n",
                "\n",
                "# Hombres\n",
                "diverging_chart_five_year_horizontal.add_trace(go.Bar(\n",
                "    y=five_year_grouped['FiveYearGroup'],\n",
                "    x=-five_year_grouped['Mean male height (cm)'],\n",
                "    orientation='h',\n",
                "    name='Mean Male Height (m)',\n",
                "    marker_color='lightblue',\n",
                "    text=(-five_year_grouped['Mean male height (cm)']/100).round(2),\n",
                "    textposition='inside',\n",
                "    insidetextfont=dict(color='black', size=34) \n",
                "))\n",
                "\n",
                "\n",
                "# Diferencia\n",
                "diverging_chart_five_year_horizontal.add_trace(go.Bar(\n",
                "    y=five_year_grouped['FiveYearGroup'],\n",
                "    x=five_year_grouped['Height Difference (cm)'],\n",
                "    orientation='h',\n",
                "    name='Mean Height Difference (cm)',\n",
                "    marker_color='green',  \n",
                "    text=five_year_grouped['Height Difference (cm)'].round(2),\n",
                "    textposition='inside',\n",
                "    insidetextfont=dict(color='white', size=34) \n",
                "))\n",
                "\n",
                "\n",
                "# Mujeres\n",
                "diverging_chart_five_year_horizontal.add_trace(go.Bar(\n",
                "    y=five_year_grouped['FiveYearGroup'],\n",
                "    x=five_year_grouped['Mean female height (cm)'],\n",
                "    orientation='h',\n",
                "    name='Mean Female Height (m)',\n",
                "    marker_color='pink',\n",
                "    text=(five_year_grouped['Mean female height (cm)']/100).round(2),\n",
                "    textposition='inside',\n",
                "    insidetextfont=dict(color='black', size=34)\n",
                "))\n",
                "\n",
                "\n",
                "# Anotaciones\n",
                "diverging_chart_five_year_horizontal.update_layout(\n",
                "    title='Average Height by 5-Year Group of Birth in Spain',\n",
                "    barmode='relative',\n",
                "    height=730,\n",
                "    width=1450,\n",
                "    yaxis=dict(\n",
                "        title='5-Year Group of Birth',\n",
                "        autorange='reversed' \n",
                "    ),\n",
                "    xaxis=dict(title='Height (m)'),\n",
                "    legend=dict(\n",
                "        orientation='h',\n",
                "        yanchor='bottom',\n",
                "        y=1.02,\n",
                "        xanchor='right',\n",
                "        x=1\n",
                "    ),\n",
                "    annotations=[\n",
                "        dict(\n",
                "            x=0.5, \n",
                "            y=-0.12, \n",
                "            xref='paper',  \n",
                "            yref='paper',\n",
                "            showarrow=False,\n",
                "            text=\"Source: Kaggle\",\n",
                "            font=dict(size=18, color=\"black\"),\n",
                "            align=\"center\"\n",
                "        ),\n",
                "        dict(\n",
                "            x=0.5, \n",
                "            y=-0.05, \n",
                "            xref='paper',  \n",
                "            yref='paper',\n",
                "            showarrow=False,\n",
                "            text=\"Author: Sergio Esteban Tarrero\",\n",
                "            font=dict(size=18, color=\"black\"),\n",
                "            align=\"center\"\n",
                "        )\n",
                "    ]\n",
                ")\n",
                "\n",
                "diverging_chart_five_year_horizontal"
            ]
        },
        {
            "cell_type": "code",
            "execution_count": 359,
            "metadata": {},
            "outputs": [],
            "source": [
                "# exportado a html\n",
                "diverging_chart_five_year_horizontal.write_html(\"diverging_chart_five_year_horizontal.html\")"
            ]
        },
        {
            "cell_type": "code",
            "execution_count": null,
            "metadata": {},
            "outputs": [],
            "source": []
        }
    ],
    "metadata": {
        "kernelspec": {
            "display_name": "Python 3",
            "language": "python",
            "name": "python3"
        },
        "language_info": {
            "codemirror_mode": {
                "name": "ipython",
                "version": 3
            },
            "file_extension": ".py",
            "mimetype": "text/x-python",
            "name": "python",
            "nbconvert_exporter": "python",
            "pygments_lexer": "ipython3",
            "version": "3.10.12"
        }
    },
    "nbformat": 4,
    "nbformat_minor": 2
}
