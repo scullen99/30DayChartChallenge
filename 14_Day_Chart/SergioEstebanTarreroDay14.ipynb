{
    "cells": [
        {
            "cell_type": "markdown",
            "metadata": {},
            "source": [
                "# Day 14\n",
                "\n",
                "Source: https://www.kaggle.com/datasets/ricardopaula/blood-type-distribution-by-country"
            ]
        },
        {
            "cell_type": "code",
            "execution_count": 14,
            "metadata": {},
            "outputs": [],
            "source": [
                "import pandas as pd"
            ]
        },
        {
            "cell_type": "code",
            "execution_count": 15,
            "metadata": {},
            "outputs": [],
            "source": [
                "df = pd.read_csv('bloodtypes.csv')"
            ]
        },
        {
            "cell_type": "code",
            "execution_count": 16,
            "metadata": {},
            "outputs": [],
            "source": [
                "drop = df.drop_duplicates()\n",
                "# drop column \"Unnamed: 0\"\n",
                "drop = drop.drop(columns=['Unnamed: 0'])"
            ]
        },
        {
            "cell_type": "code",
            "execution_count": null,
            "metadata": {},
            "outputs": [],
            "source": [
                "# Dictionary to map the countries from Portuguese to English\n",
                "country_translations = {\n",
                "    \"Armênia\": \"Armenia\", \"Austrália\": \"Australia\", \"Áustria\": \"Austria\", \"Barém\": \"Bahrain\", \"Bangladesh\": \"Bangladesh\",\n",
                "    \"Bélgica\": \"Belgium\", \"Bolívia\": \"Bolivia\", \"Bósnia e Herzegovina\": \"Bosnia and Herzegovina\", \"Brasil\": \"Brazil\",\n",
                "    \"Bulgária\": \"Bulgaria\", \"Camboja\": \"Cambodia\", \"Camarões\": \"Cameroon\", \"Canadá\": \"Canada\", \"Chile\": \"Chile\",\n",
                "    \"China\": \"China\", \"Colômbia\": \"Colombia\", \"Costa do Marfim\": \"Ivory Coast\", \"Croácia\": \"Croatia\", \"Cuba\": \"Cuba\",\n",
                "    \"Chipre\": \"Cyprus\", \"República Checa\": \"Czech Republic\", \"Dinamarca\": \"Denmark\", \"República Dominicana\": \"Dominican Republic\",\n",
                "    \"Equador\": \"Ecuador\", \"Egito\": \"Egypt\", \"El Salvador\": \"El Salvador\", \"Estônia\": \"Estonia\", \"Etiópia\": \"Ethiopia\",\n",
                "    \"Finlândia\": \"Finland\", \"França\": \"France\", \"Alemanha\": \"Germany\", \"Grécia\": \"Greece\", \"Guiné\": \"Guinea\",\n",
                "    \"Honduras\": \"Honduras\", \"Hong Kong\": \"Hong Kong\", \"Hungria\": \"Hungary\", \"Islandia\": \"Iceland\", \"Índia\": \"India\",\n",
                "    \"Indonésia\": \"Indonesia\", \"Irã\": \"Iran\", \"Iraque\": \"Iraq\", \"Irlanda\": \"Ireland\", \"Israel\": \"Israel\",\n",
                "    \"Itália\": \"Italy\", \"Jamaica\": \"Jamaica\", \"Japão\": \"Japan\", \"Quenia\": \"Kenya\", \"Letônia\": \"Latvia\",\n",
                "    \"Líbano\": \"Lebanon\", \"Líbia\": \"Libya\", \"Lituânia\": \"Lithuania\", \"Luxemburgo\": \"Luxembourg\", \"Macau\": \"Macau\",\n",
                "    \"Macedônia\": \"North Macedonia\", \"Malásia\": \"Malaysia\", \"Mauritânia\": \"Mauritania\", \"Maurício\": \"Mauritius\",\n",
                "    \"México\": \"Mexico\", \"Mongólia\": \"Mongolia\", \"Myanmar\": \"Myanmar\", \"Nepal\": \"Nepal\", \"Holânda\": \"Netherlands\",\n",
                "    \"Nova Zelândia\": \"New Zealand\", \"Nigéria\": \"Nigeria\", \"Noruega\": \"Norway\", \"Coréia do Norte\": \"North Korea\",\n",
                "    \"Paquistão\": \"Pakistan\", \"Papua Nova Guiné\": \"Papua New Guinea\", \"Peru\": \"Peru\", \"Filipinas\": \"Philippines\",\n",
                "    \"Polônia\": \"Poland\", \"Portugal\": \"Portugal\", \"Moldávia\": \"Moldova\", \"Romênia\": \"Romania\", \"Rússia\": \"Russia\",\n",
                "    \"Arábia Saudita\": \"Saudi Arabia\", \"Sérvia\": \"Serbia\", \"Singapura\": \"Singapore\", \"Eslováquia\": \"Slovakia\",\n",
                "    \"Eslovênia\": \"Slovenia\", \"África do Sul\": \"South Africa\", \"Coreia do Sul\": \"South Korea\", \"Espanha\": \"Spain\",\n",
                "    \"Sudão\": \"Sudan\", \"Suécia\": \"Sweden\", \"Suíça\": \"Switzerland\", \"Síria\": \"Syria\", \"Taiwan\": \"Taiwan\",\n",
                "    \"Tailândia\": \"Thailand\", \"Turquia\": \"Turkey\", \"Uganda\": \"Uganda\", \"Ucrânia\": \"Ukraine\",\n",
                "    \"Emirados Árabes Unidos\": \"United Arab Emirates\", \"Reino Unido\": \"United Kingdom\", \"Estados Unidos\": \"United States\",\n",
                "    \"Venezuela\": \"Venezuela\", \"Vietnã\": \"Vietnam\", \"Zimbábue\": \"Zimbabwe\", \"Mundo\": \"World\"\n",
                "}\n",
                "\n",
                "# Translate country names to English\n",
                "df['Country'] = df['Country'].map(country_translations).fillna(df['Country'])\n"
            ]
        },
        {
            "cell_type": "code",
            "execution_count": 17,
            "metadata": {},
            "outputs": [],
            "source": [
                "# Remove '%' from the blood type columns and convert to numeric\n",
                "blood_type_columns = ['O+', 'A+', 'B+', 'AB+', 'O-', 'A-', 'B-', 'AB-']\n",
                "df[blood_type_columns] = df[blood_type_columns].replace('%', '', regex=True).astype(float)\n",
                "\n",
                "df.to_csv(\"bloodtypes_cleaned.csv\", index=False)"
            ]
        }
    ],
    "metadata": {
        "kernelspec": {
            "display_name": "Python 3",
            "language": "python",
            "name": "python3"
        },
        "language_info": {
            "codemirror_mode": {
                "name": "ipython",
                "version": 3
            },
            "file_extension": ".py",
            "mimetype": "text/x-python",
            "name": "python",
            "nbconvert_exporter": "python",
            "pygments_lexer": "ipython3",
            "version": "3.12.0"
        }
    },
    "nbformat": 4,
    "nbformat_minor": 2
}
