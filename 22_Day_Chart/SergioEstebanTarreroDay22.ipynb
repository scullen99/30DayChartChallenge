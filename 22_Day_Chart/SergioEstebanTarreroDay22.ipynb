{
    "cells": [
        {
            "cell_type": "markdown",
            "metadata": {},
            "source": [
                "# Day 22\n",
                "## Author: Sergio Esteban Tarrero\n",
                "### Data Source: https://www.kaggle.com/datasets/juanrs26/vuelos-comerciales"
            ]
        },
        {
            "cell_type": "code",
            "execution_count": 212,
            "metadata": {},
            "outputs": [
                {
                    "name": "stdout",
                    "output_type": "stream",
                    "text": [
                        "Requirement already satisfied: pyarrow in c:\\users\\sergio\\appdata\\local\\programs\\python\\python312\\lib\\site-packages (16.0.0)\n",
                        "Requirement already satisfied: numpy>=1.16.6 in c:\\users\\sergio\\appdata\\local\\programs\\python\\python312\\lib\\site-packages (from pyarrow) (1.26.2)\n"
                    ]
                }
            ],
            "source": [
                "!pip install pyarrow"
            ]
        },
        {
            "cell_type": "code",
            "execution_count": 213,
            "metadata": {},
            "outputs": [],
            "source": [
                "import pandas as pd"
            ]
        },
        {
            "cell_type": "code",
            "execution_count": 214,
            "metadata": {},
            "outputs": [
                {
                    "data": {
                        "text/plain": [
                            "(5270893, 29)"
                        ]
                    },
                    "execution_count": 214,
                    "metadata": {},
                    "output_type": "execute_result"
                }
            ],
            "source": [
                "df_1990 = pd.read_parquet('1990.parquet')\n",
                "df_1990.shape"
            ]
        },
        {
            "cell_type": "code",
            "execution_count": 215,
            "metadata": {},
            "outputs": [
                {
                    "data": {
                        "text/plain": [
                            "(5327435, 29)"
                        ]
                    },
                    "execution_count": 215,
                    "metadata": {},
                    "output_type": "execute_result"
                }
            ],
            "source": [
                "df_1995 = pd.read_parquet('1995.parquet')\n",
                "df_1995.shape"
            ]
        },
        {
            "cell_type": "code",
            "execution_count": 216,
            "metadata": {},
            "outputs": [
                {
                    "data": {
                        "text/plain": [
                            "(5683047, 29)"
                        ]
                    },
                    "execution_count": 216,
                    "metadata": {},
                    "output_type": "execute_result"
                }
            ],
            "source": [
                "df_2000 = pd.read_parquet('2000.parquet')\n",
                "df_2000.shape"
            ]
        },
        {
            "cell_type": "code",
            "execution_count": 217,
            "metadata": {},
            "outputs": [
                {
                    "data": {
                        "text/plain": [
                            "(7140596, 29)"
                        ]
                    },
                    "execution_count": 217,
                    "metadata": {},
                    "output_type": "execute_result"
                }
            ],
            "source": [
                "df_2005 = pd.read_parquet('2005.parquet')\n",
                "df_2005.shape"
            ]
        },
        {
            "cell_type": "code",
            "execution_count": 218,
            "metadata": {},
            "outputs": [
                {
                    "data": {
                        "text/plain": [
                            "Year                   int64\n",
                            "Month                  int64\n",
                            "DayofMonth             int64\n",
                            "DayOfWeek              int64\n",
                            "DepTime              float64\n",
                            "CRSDepTime             int64\n",
                            "ArrTime              float64\n",
                            "CRSArrTime             int64\n",
                            "UniqueCarrier         object\n",
                            "FlightNum              int64\n",
                            "TailNum               object\n",
                            "ActualElapsedTime    float64\n",
                            "CRSElapsedTime       float64\n",
                            "AirTime              float64\n",
                            "ArrDelay             float64\n",
                            "DepDelay             float64\n",
                            "Origin                object\n",
                            "Dest                  object\n",
                            "Distance             float64\n",
                            "TaxiIn                 int64\n",
                            "TaxiOut                int64\n",
                            "Cancelled              int64\n",
                            "CancellationCode     float64\n",
                            "Diverted               int64\n",
                            "CarrierDelay         float64\n",
                            "WeatherDelay         float64\n",
                            "NASDelay             float64\n",
                            "SecurityDelay        float64\n",
                            "LateAircraftDelay    float64\n",
                            "dtype: object"
                        ]
                    },
                    "execution_count": 218,
                    "metadata": {},
                    "output_type": "execute_result"
                }
            ],
            "source": [
                "df_1995.dtypes"
            ]
        },
        {
            "cell_type": "code",
            "execution_count": 219,
            "metadata": {},
            "outputs": [
                {
                    "data": {
                        "text/html": [
                            "<div>\n",
                            "<style scoped>\n",
                            "    .dataframe tbody tr th:only-of-type {\n",
                            "        vertical-align: middle;\n",
                            "    }\n",
                            "\n",
                            "    .dataframe tbody tr th {\n",
                            "        vertical-align: top;\n",
                            "    }\n",
                            "\n",
                            "    .dataframe thead th {\n",
                            "        text-align: right;\n",
                            "    }\n",
                            "</style>\n",
                            "<table border=\"1\" class=\"dataframe\">\n",
                            "  <thead>\n",
                            "    <tr style=\"text-align: right;\">\n",
                            "      <th></th>\n",
                            "      <th>Year</th>\n",
                            "      <th>Month</th>\n",
                            "      <th>DayofMonth</th>\n",
                            "      <th>DayOfWeek</th>\n",
                            "      <th>DepTime</th>\n",
                            "      <th>CRSDepTime</th>\n",
                            "      <th>ArrTime</th>\n",
                            "      <th>CRSArrTime</th>\n",
                            "      <th>UniqueCarrier</th>\n",
                            "      <th>FlightNum</th>\n",
                            "      <th>...</th>\n",
                            "      <th>TaxiIn</th>\n",
                            "      <th>TaxiOut</th>\n",
                            "      <th>Cancelled</th>\n",
                            "      <th>CancellationCode</th>\n",
                            "      <th>Diverted</th>\n",
                            "      <th>CarrierDelay</th>\n",
                            "      <th>WeatherDelay</th>\n",
                            "      <th>NASDelay</th>\n",
                            "      <th>SecurityDelay</th>\n",
                            "      <th>LateAircraftDelay</th>\n",
                            "    </tr>\n",
                            "  </thead>\n",
                            "  <tbody>\n",
                            "    <tr>\n",
                            "      <th>0</th>\n",
                            "      <td>1995</td>\n",
                            "      <td>1</td>\n",
                            "      <td>6</td>\n",
                            "      <td>5</td>\n",
                            "      <td>657.0</td>\n",
                            "      <td>645</td>\n",
                            "      <td>952.0</td>\n",
                            "      <td>937</td>\n",
                            "      <td>UA</td>\n",
                            "      <td>482</td>\n",
                            "      <td>...</td>\n",
                            "      <td>7</td>\n",
                            "      <td>25</td>\n",
                            "      <td>0</td>\n",
                            "      <td>NaN</td>\n",
                            "      <td>0</td>\n",
                            "      <td>NaN</td>\n",
                            "      <td>NaN</td>\n",
                            "      <td>NaN</td>\n",
                            "      <td>NaN</td>\n",
                            "      <td>NaN</td>\n",
                            "    </tr>\n",
                            "    <tr>\n",
                            "      <th>1</th>\n",
                            "      <td>1995</td>\n",
                            "      <td>1</td>\n",
                            "      <td>7</td>\n",
                            "      <td>6</td>\n",
                            "      <td>648.0</td>\n",
                            "      <td>645</td>\n",
                            "      <td>938.0</td>\n",
                            "      <td>937</td>\n",
                            "      <td>UA</td>\n",
                            "      <td>482</td>\n",
                            "      <td>...</td>\n",
                            "      <td>5</td>\n",
                            "      <td>17</td>\n",
                            "      <td>0</td>\n",
                            "      <td>NaN</td>\n",
                            "      <td>0</td>\n",
                            "      <td>NaN</td>\n",
                            "      <td>NaN</td>\n",
                            "      <td>NaN</td>\n",
                            "      <td>NaN</td>\n",
                            "      <td>NaN</td>\n",
                            "    </tr>\n",
                            "    <tr>\n",
                            "      <th>2</th>\n",
                            "      <td>1995</td>\n",
                            "      <td>1</td>\n",
                            "      <td>8</td>\n",
                            "      <td>7</td>\n",
                            "      <td>649.0</td>\n",
                            "      <td>645</td>\n",
                            "      <td>932.0</td>\n",
                            "      <td>937</td>\n",
                            "      <td>UA</td>\n",
                            "      <td>482</td>\n",
                            "      <td>...</td>\n",
                            "      <td>3</td>\n",
                            "      <td>17</td>\n",
                            "      <td>0</td>\n",
                            "      <td>NaN</td>\n",
                            "      <td>0</td>\n",
                            "      <td>NaN</td>\n",
                            "      <td>NaN</td>\n",
                            "      <td>NaN</td>\n",
                            "      <td>NaN</td>\n",
                            "      <td>NaN</td>\n",
                            "    </tr>\n",
                            "    <tr>\n",
                            "      <th>3</th>\n",
                            "      <td>1995</td>\n",
                            "      <td>1</td>\n",
                            "      <td>9</td>\n",
                            "      <td>1</td>\n",
                            "      <td>645.0</td>\n",
                            "      <td>645</td>\n",
                            "      <td>928.0</td>\n",
                            "      <td>937</td>\n",
                            "      <td>UA</td>\n",
                            "      <td>482</td>\n",
                            "      <td>...</td>\n",
                            "      <td>3</td>\n",
                            "      <td>16</td>\n",
                            "      <td>0</td>\n",
                            "      <td>NaN</td>\n",
                            "      <td>0</td>\n",
                            "      <td>NaN</td>\n",
                            "      <td>NaN</td>\n",
                            "      <td>NaN</td>\n",
                            "      <td>NaN</td>\n",
                            "      <td>NaN</td>\n",
                            "    </tr>\n",
                            "    <tr>\n",
                            "      <th>4</th>\n",
                            "      <td>1995</td>\n",
                            "      <td>1</td>\n",
                            "      <td>10</td>\n",
                            "      <td>2</td>\n",
                            "      <td>645.0</td>\n",
                            "      <td>645</td>\n",
                            "      <td>931.0</td>\n",
                            "      <td>937</td>\n",
                            "      <td>UA</td>\n",
                            "      <td>482</td>\n",
                            "      <td>...</td>\n",
                            "      <td>6</td>\n",
                            "      <td>18</td>\n",
                            "      <td>0</td>\n",
                            "      <td>NaN</td>\n",
                            "      <td>0</td>\n",
                            "      <td>NaN</td>\n",
                            "      <td>NaN</td>\n",
                            "      <td>NaN</td>\n",
                            "      <td>NaN</td>\n",
                            "      <td>NaN</td>\n",
                            "    </tr>\n",
                            "  </tbody>\n",
                            "</table>\n",
                            "<p>5 rows × 29 columns</p>\n",
                            "</div>"
                        ],
                        "text/plain": [
                            "   Year  Month  DayofMonth  DayOfWeek  DepTime  CRSDepTime  ArrTime  \\\n",
                            "0  1995      1           6          5    657.0         645    952.0   \n",
                            "1  1995      1           7          6    648.0         645    938.0   \n",
                            "2  1995      1           8          7    649.0         645    932.0   \n",
                            "3  1995      1           9          1    645.0         645    928.0   \n",
                            "4  1995      1          10          2    645.0         645    931.0   \n",
                            "\n",
                            "   CRSArrTime UniqueCarrier  FlightNum  ... TaxiIn  TaxiOut  Cancelled  \\\n",
                            "0         937            UA        482  ...      7       25          0   \n",
                            "1         937            UA        482  ...      5       17          0   \n",
                            "2         937            UA        482  ...      3       17          0   \n",
                            "3         937            UA        482  ...      3       16          0   \n",
                            "4         937            UA        482  ...      6       18          0   \n",
                            "\n",
                            "   CancellationCode  Diverted  CarrierDelay WeatherDelay NASDelay  \\\n",
                            "0               NaN         0           NaN          NaN      NaN   \n",
                            "1               NaN         0           NaN          NaN      NaN   \n",
                            "2               NaN         0           NaN          NaN      NaN   \n",
                            "3               NaN         0           NaN          NaN      NaN   \n",
                            "4               NaN         0           NaN          NaN      NaN   \n",
                            "\n",
                            "   SecurityDelay  LateAircraftDelay  \n",
                            "0            NaN                NaN  \n",
                            "1            NaN                NaN  \n",
                            "2            NaN                NaN  \n",
                            "3            NaN                NaN  \n",
                            "4            NaN                NaN  \n",
                            "\n",
                            "[5 rows x 29 columns]"
                        ]
                    },
                    "execution_count": 219,
                    "metadata": {},
                    "output_type": "execute_result"
                }
            ],
            "source": [
                "df_1995.head()"
            ]
        },
        {
            "cell_type": "markdown",
            "metadata": {},
            "source": [
                "# 1990"
            ]
        },
        {
            "cell_type": "code",
            "execution_count": 220,
            "metadata": {},
            "outputs": [
                {
                    "data": {
                        "text/html": [
                            "<div>\n",
                            "<style scoped>\n",
                            "    .dataframe tbody tr th:only-of-type {\n",
                            "        vertical-align: middle;\n",
                            "    }\n",
                            "\n",
                            "    .dataframe tbody tr th {\n",
                            "        vertical-align: top;\n",
                            "    }\n",
                            "\n",
                            "    .dataframe thead th {\n",
                            "        text-align: right;\n",
                            "    }\n",
                            "</style>\n",
                            "<table border=\"1\" class=\"dataframe\">\n",
                            "  <thead>\n",
                            "    <tr style=\"text-align: right;\">\n",
                            "      <th></th>\n",
                            "      <th>Origin</th>\n",
                            "      <th>Dest</th>\n",
                            "      <th>Count</th>\n",
                            "    </tr>\n",
                            "  </thead>\n",
                            "  <tbody>\n",
                            "    <tr>\n",
                            "      <th>0</th>\n",
                            "      <td>ABE</td>\n",
                            "      <td>ATL</td>\n",
                            "      <td>1060</td>\n",
                            "    </tr>\n",
                            "    <tr>\n",
                            "      <th>1</th>\n",
                            "      <td>ABE</td>\n",
                            "      <td>AVP</td>\n",
                            "      <td>238</td>\n",
                            "    </tr>\n",
                            "    <tr>\n",
                            "      <th>2</th>\n",
                            "      <td>ABE</td>\n",
                            "      <td>BWI</td>\n",
                            "      <td>1018</td>\n",
                            "    </tr>\n",
                            "    <tr>\n",
                            "      <th>3</th>\n",
                            "      <td>ABE</td>\n",
                            "      <td>DTW</td>\n",
                            "      <td>1003</td>\n",
                            "    </tr>\n",
                            "    <tr>\n",
                            "      <th>4</th>\n",
                            "      <td>ABE</td>\n",
                            "      <td>MDT</td>\n",
                            "      <td>228</td>\n",
                            "    </tr>\n",
                            "  </tbody>\n",
                            "</table>\n",
                            "</div>"
                        ],
                        "text/plain": [
                            "  Origin Dest  Count\n",
                            "0    ABE  ATL   1060\n",
                            "1    ABE  AVP    238\n",
                            "2    ABE  BWI   1018\n",
                            "3    ABE  DTW   1003\n",
                            "4    ABE  MDT    228"
                        ]
                    },
                    "execution_count": 220,
                    "metadata": {},
                    "output_type": "execute_result"
                }
            ],
            "source": [
                "flight_counts_1990 = df_1990.groupby(['Origin', 'Dest']).size().reset_index(name='Count')\n",
                "flight_counts_1990.head()"
            ]
        },
        {
            "cell_type": "code",
            "execution_count": 221,
            "metadata": {},
            "outputs": [
                {
                    "data": {
                        "text/html": [
                            "<div>\n",
                            "<style scoped>\n",
                            "    .dataframe tbody tr th:only-of-type {\n",
                            "        vertical-align: middle;\n",
                            "    }\n",
                            "\n",
                            "    .dataframe tbody tr th {\n",
                            "        vertical-align: top;\n",
                            "    }\n",
                            "\n",
                            "    .dataframe thead th {\n",
                            "        text-align: right;\n",
                            "    }\n",
                            "</style>\n",
                            "<table border=\"1\" class=\"dataframe\">\n",
                            "  <thead>\n",
                            "    <tr style=\"text-align: right;\">\n",
                            "      <th></th>\n",
                            "      <th>Origin</th>\n",
                            "      <th>Dest</th>\n",
                            "      <th>Count</th>\n",
                            "    </tr>\n",
                            "  </thead>\n",
                            "  <tbody>\n",
                            "    <tr>\n",
                            "      <th>3274</th>\n",
                            "      <td>SFO</td>\n",
                            "      <td>LAX</td>\n",
                            "      <td>26134</td>\n",
                            "    </tr>\n",
                            "    <tr>\n",
                            "      <th>1898</th>\n",
                            "      <td>LAX</td>\n",
                            "      <td>SFO</td>\n",
                            "      <td>25779</td>\n",
                            "    </tr>\n",
                            "    <tr>\n",
                            "      <th>1890</th>\n",
                            "      <td>LAX</td>\n",
                            "      <td>PHX</td>\n",
                            "      <td>13121</td>\n",
                            "    </tr>\n",
                            "    <tr>\n",
                            "      <th>2788</th>\n",
                            "      <td>PHX</td>\n",
                            "      <td>LAX</td>\n",
                            "      <td>12938</td>\n",
                            "    </tr>\n",
                            "    <tr>\n",
                            "      <th>1874</th>\n",
                            "      <td>LAX</td>\n",
                            "      <td>LAS</td>\n",
                            "      <td>10559</td>\n",
                            "    </tr>\n",
                            "  </tbody>\n",
                            "</table>\n",
                            "</div>"
                        ],
                        "text/plain": [
                            "     Origin Dest  Count\n",
                            "3274    SFO  LAX  26134\n",
                            "1898    LAX  SFO  25779\n",
                            "1890    LAX  PHX  13121\n",
                            "2788    PHX  LAX  12938\n",
                            "1874    LAX  LAS  10559"
                        ]
                    },
                    "execution_count": 221,
                    "metadata": {},
                    "output_type": "execute_result"
                }
            ],
            "source": [
                "top_flights_1990 = flight_counts_1990.sort_values(by='Count', ascending=False).head(5)\n",
                "top_flights_1990"
            ]
        },
        {
            "cell_type": "code",
            "execution_count": 222,
            "metadata": {},
            "outputs": [
                {
                    "data": {
                        "image/png": "[encoded data removed]",
                        "text/plain": [
                            "<Figure size 1000x800 with 1 Axes>"
                        ]
                    },
                    "metadata": {},
                    "output_type": "display_data"
                }
            ],
            "source": [
                "import matplotlib.pyplot as plt\n",
                "\n",
                "plt.figure(figsize=(10, 8))\n",
                "plt.barh(top_flights_1990['Origin'] + '-' + top_flights_1990['Dest'], top_flights_1990['Count'], color='#7F9F80')\n",
                "plt.xlabel('Número de Vuelos')\n",
                "plt.ylabel('Rutas de Vuelo')\n",
                "plt.title('1995')\n",
                "plt.gca().invert_yaxis() \n",
                "\n",
                "plt.show()"
            ]
        },
        {
            "cell_type": "markdown",
            "metadata": {},
            "source": [
                "# 1995"
            ]
        },
        {
            "cell_type": "code",
            "execution_count": 223,
            "metadata": {},
            "outputs": [
                {
                    "data": {
                        "text/html": [
                            "<div>\n",
                            "<style scoped>\n",
                            "    .dataframe tbody tr th:only-of-type {\n",
                            "        vertical-align: middle;\n",
                            "    }\n",
                            "\n",
                            "    .dataframe tbody tr th {\n",
                            "        vertical-align: top;\n",
                            "    }\n",
                            "\n",
                            "    .dataframe thead th {\n",
                            "        text-align: right;\n",
                            "    }\n",
                            "</style>\n",
                            "<table border=\"1\" class=\"dataframe\">\n",
                            "  <thead>\n",
                            "    <tr style=\"text-align: right;\">\n",
                            "      <th></th>\n",
                            "      <th>Origin</th>\n",
                            "      <th>Dest</th>\n",
                            "      <th>Count</th>\n",
                            "    </tr>\n",
                            "  </thead>\n",
                            "  <tbody>\n",
                            "    <tr>\n",
                            "      <th>0</th>\n",
                            "      <td>ABE</td>\n",
                            "      <td>ATL</td>\n",
                            "      <td>723</td>\n",
                            "    </tr>\n",
                            "    <tr>\n",
                            "      <th>1</th>\n",
                            "      <td>ABE</td>\n",
                            "      <td>CLT</td>\n",
                            "      <td>730</td>\n",
                            "    </tr>\n",
                            "    <tr>\n",
                            "      <th>2</th>\n",
                            "      <td>ABE</td>\n",
                            "      <td>CVG</td>\n",
                            "      <td>481</td>\n",
                            "    </tr>\n",
                            "    <tr>\n",
                            "      <th>3</th>\n",
                            "      <td>ABE</td>\n",
                            "      <td>DCA</td>\n",
                            "      <td>171</td>\n",
                            "    </tr>\n",
                            "    <tr>\n",
                            "      <th>4</th>\n",
                            "      <td>ABE</td>\n",
                            "      <td>DTW</td>\n",
                            "      <td>1044</td>\n",
                            "    </tr>\n",
                            "  </tbody>\n",
                            "</table>\n",
                            "</div>"
                        ],
                        "text/plain": [
                            "  Origin Dest  Count\n",
                            "0    ABE  ATL    723\n",
                            "1    ABE  CLT    730\n",
                            "2    ABE  CVG    481\n",
                            "3    ABE  DCA    171\n",
                            "4    ABE  DTW   1044"
                        ]
                    },
                    "execution_count": 223,
                    "metadata": {},
                    "output_type": "execute_result"
                }
            ],
            "source": [
                "flight_counts_1995 = df_1995.groupby(['Origin', 'Dest']).size().reset_index(name='Count')\n",
                "flight_counts_1995.head()"
            ]
        },
        {
            "cell_type": "code",
            "execution_count": 224,
            "metadata": {},
            "outputs": [
                {
                    "data": {
                        "text/html": [
                            "<div>\n",
                            "<style scoped>\n",
                            "    .dataframe tbody tr th:only-of-type {\n",
                            "        vertical-align: middle;\n",
                            "    }\n",
                            "\n",
                            "    .dataframe tbody tr th {\n",
                            "        vertical-align: top;\n",
                            "    }\n",
                            "\n",
                            "    .dataframe thead th {\n",
                            "        text-align: right;\n",
                            "    }\n",
                            "</style>\n",
                            "<table border=\"1\" class=\"dataframe\">\n",
                            "  <thead>\n",
                            "    <tr style=\"text-align: right;\">\n",
                            "      <th></th>\n",
                            "      <th>Origin</th>\n",
                            "      <th>Dest</th>\n",
                            "      <th>Count</th>\n",
                            "    </tr>\n",
                            "  </thead>\n",
                            "  <tbody>\n",
                            "    <tr>\n",
                            "      <th>1687</th>\n",
                            "      <td>LAX</td>\n",
                            "      <td>LAS</td>\n",
                            "      <td>17536</td>\n",
                            "    </tr>\n",
                            "    <tr>\n",
                            "      <th>1632</th>\n",
                            "      <td>LAS</td>\n",
                            "      <td>LAX</td>\n",
                            "      <td>17340</td>\n",
                            "    </tr>\n",
                            "    <tr>\n",
                            "      <th>1707</th>\n",
                            "      <td>LAX</td>\n",
                            "      <td>SFO</td>\n",
                            "      <td>17272</td>\n",
                            "    </tr>\n",
                            "    <tr>\n",
                            "      <th>2974</th>\n",
                            "      <td>SFO</td>\n",
                            "      <td>LAX</td>\n",
                            "      <td>16959</td>\n",
                            "    </tr>\n",
                            "    <tr>\n",
                            "      <th>2536</th>\n",
                            "      <td>PHX</td>\n",
                            "      <td>LAX</td>\n",
                            "      <td>15598</td>\n",
                            "    </tr>\n",
                            "  </tbody>\n",
                            "</table>\n",
                            "</div>"
                        ],
                        "text/plain": [
                            "     Origin Dest  Count\n",
                            "1687    LAX  LAS  17536\n",
                            "1632    LAS  LAX  17340\n",
                            "1707    LAX  SFO  17272\n",
                            "2974    SFO  LAX  16959\n",
                            "2536    PHX  LAX  15598"
                        ]
                    },
                    "execution_count": 224,
                    "metadata": {},
                    "output_type": "execute_result"
                }
            ],
            "source": [
                "top_flights_1995 = flight_counts_1995.sort_values(by='Count', ascending=False).head(5)\n",
                "top_flights_1995"
            ]
        },
        {
            "cell_type": "code",
            "execution_count": 225,
            "metadata": {},
            "outputs": [
                {
                    "data": {
                        "image/png": "[encoded data removed]",
                        "text/plain": [
                            "<Figure size 1000x800 with 1 Axes>"
                        ]
                    },
                    "metadata": {},
                    "output_type": "display_data"
                }
            ],
            "source": [
                "plt.figure(figsize=(10, 8))\n",
                "plt.barh(top_flights_1995['Origin'] + '-' + top_flights_1995['Dest'], top_flights_1995['Count'], color='#6895D2')\n",
                "plt.xlabel('Número de Vuelos')\n",
                "plt.ylabel('Rutas de Vuelo')\n",
                "plt.title('1995')\n",
                "plt.gca().invert_yaxis() \n",
                "\n",
                "plt.show()"
            ]
        },
        {
            "cell_type": "markdown",
            "metadata": {},
            "source": [
                "# 2000"
            ]
        },
        {
            "cell_type": "code",
            "execution_count": 226,
            "metadata": {},
            "outputs": [
                {
                    "data": {
                        "text/html": [
                            "<div>\n",
                            "<style scoped>\n",
                            "    .dataframe tbody tr th:only-of-type {\n",
                            "        vertical-align: middle;\n",
                            "    }\n",
                            "\n",
                            "    .dataframe tbody tr th {\n",
                            "        vertical-align: top;\n",
                            "    }\n",
                            "\n",
                            "    .dataframe thead th {\n",
                            "        text-align: right;\n",
                            "    }\n",
                            "</style>\n",
                            "<table border=\"1\" class=\"dataframe\">\n",
                            "  <thead>\n",
                            "    <tr style=\"text-align: right;\">\n",
                            "      <th></th>\n",
                            "      <th>Origin</th>\n",
                            "      <th>Dest</th>\n",
                            "      <th>Count</th>\n",
                            "    </tr>\n",
                            "  </thead>\n",
                            "  <tbody>\n",
                            "    <tr>\n",
                            "      <th>0</th>\n",
                            "      <td>ABE</td>\n",
                            "      <td>ATL</td>\n",
                            "      <td>722</td>\n",
                            "    </tr>\n",
                            "    <tr>\n",
                            "      <th>1</th>\n",
                            "      <td>ABE</td>\n",
                            "      <td>CLT</td>\n",
                            "      <td>366</td>\n",
                            "    </tr>\n",
                            "    <tr>\n",
                            "      <th>2</th>\n",
                            "      <td>ABE</td>\n",
                            "      <td>DTW</td>\n",
                            "      <td>805</td>\n",
                            "    </tr>\n",
                            "    <tr>\n",
                            "      <th>3</th>\n",
                            "      <td>ABE</td>\n",
                            "      <td>MCO</td>\n",
                            "      <td>732</td>\n",
                            "    </tr>\n",
                            "    <tr>\n",
                            "      <th>4</th>\n",
                            "      <td>ABE</td>\n",
                            "      <td>MDT</td>\n",
                            "      <td>821</td>\n",
                            "    </tr>\n",
                            "  </tbody>\n",
                            "</table>\n",
                            "</div>"
                        ],
                        "text/plain": [
                            "  Origin Dest  Count\n",
                            "0    ABE  ATL    722\n",
                            "1    ABE  CLT    366\n",
                            "2    ABE  DTW    805\n",
                            "3    ABE  MCO    732\n",
                            "4    ABE  MDT    821"
                        ]
                    },
                    "execution_count": 226,
                    "metadata": {},
                    "output_type": "execute_result"
                }
            ],
            "source": [
                "flight_counts_2000 = df_2000.groupby(['Origin', 'Dest']).size().reset_index(name='Count')\n",
                "flight_counts_2000.head()"
            ]
        },
        {
            "cell_type": "code",
            "execution_count": 227,
            "metadata": {},
            "outputs": [
                {
                    "data": {
                        "text/html": [
                            "<div>\n",
                            "<style scoped>\n",
                            "    .dataframe tbody tr th:only-of-type {\n",
                            "        vertical-align: middle;\n",
                            "    }\n",
                            "\n",
                            "    .dataframe tbody tr th {\n",
                            "        vertical-align: top;\n",
                            "    }\n",
                            "\n",
                            "    .dataframe thead th {\n",
                            "        text-align: right;\n",
                            "    }\n",
                            "</style>\n",
                            "<table border=\"1\" class=\"dataframe\">\n",
                            "  <thead>\n",
                            "    <tr style=\"text-align: right;\">\n",
                            "      <th></th>\n",
                            "      <th>Origin</th>\n",
                            "      <th>Dest</th>\n",
                            "      <th>Count</th>\n",
                            "    </tr>\n",
                            "  </thead>\n",
                            "  <tbody>\n",
                            "    <tr>\n",
                            "      <th>1659</th>\n",
                            "      <td>LAX</td>\n",
                            "      <td>LAS</td>\n",
                            "      <td>17745</td>\n",
                            "    </tr>\n",
                            "    <tr>\n",
                            "      <th>2535</th>\n",
                            "      <td>PHX</td>\n",
                            "      <td>LAX</td>\n",
                            "      <td>17041</td>\n",
                            "    </tr>\n",
                            "    <tr>\n",
                            "      <th>1594</th>\n",
                            "      <td>LAS</td>\n",
                            "      <td>LAX</td>\n",
                            "      <td>16899</td>\n",
                            "    </tr>\n",
                            "    <tr>\n",
                            "      <th>1674</th>\n",
                            "      <td>LAX</td>\n",
                            "      <td>PHX</td>\n",
                            "      <td>16652</td>\n",
                            "    </tr>\n",
                            "    <tr>\n",
                            "      <th>1682</th>\n",
                            "      <td>LAX</td>\n",
                            "      <td>SFO</td>\n",
                            "      <td>16021</td>\n",
                            "    </tr>\n",
                            "  </tbody>\n",
                            "</table>\n",
                            "</div>"
                        ],
                        "text/plain": [
                            "     Origin Dest  Count\n",
                            "1659    LAX  LAS  17745\n",
                            "2535    PHX  LAX  17041\n",
                            "1594    LAS  LAX  16899\n",
                            "1674    LAX  PHX  16652\n",
                            "1682    LAX  SFO  16021"
                        ]
                    },
                    "execution_count": 227,
                    "metadata": {},
                    "output_type": "execute_result"
                }
            ],
            "source": [
                "top_flights_2000 = flight_counts_2000.sort_values(by='Count', ascending=False).head(5)\n",
                "top_flights_2000"
            ]
        },
        {
            "cell_type": "code",
            "execution_count": 228,
            "metadata": {},
            "outputs": [
                {
                    "data": {
                        "image/png": "[encoded data removed]",
                        "text/plain": [
                            "<Figure size 1000x800 with 1 Axes>"
                        ]
                    },
                    "metadata": {},
                    "output_type": "display_data"
                }
            ],
            "source": [
                "plt.figure(figsize=(10, 8))\n",
                "plt.barh(top_flights_2000['Origin'] + '-' + top_flights_2000['Dest'], top_flights_2000['Count'], color='#FDE767')\n",
                "plt.xlabel('Número de Vuelos')\n",
                "plt.ylabel('Rutas de Vuelo')\n",
                "plt.title('1995')\n",
                "plt.gca().invert_yaxis() \n",
                "\n",
                "plt.show()"
            ]
        },
        {
            "cell_type": "markdown",
            "metadata": {},
            "source": [
                "# 2005"
            ]
        },
        {
            "cell_type": "code",
            "execution_count": 229,
            "metadata": {},
            "outputs": [
                {
                    "data": {
                        "text/html": [
                            "<div>\n",
                            "<style scoped>\n",
                            "    .dataframe tbody tr th:only-of-type {\n",
                            "        vertical-align: middle;\n",
                            "    }\n",
                            "\n",
                            "    .dataframe tbody tr th {\n",
                            "        vertical-align: top;\n",
                            "    }\n",
                            "\n",
                            "    .dataframe thead th {\n",
                            "        text-align: right;\n",
                            "    }\n",
                            "</style>\n",
                            "<table border=\"1\" class=\"dataframe\">\n",
                            "  <thead>\n",
                            "    <tr style=\"text-align: right;\">\n",
                            "      <th></th>\n",
                            "      <th>Origin</th>\n",
                            "      <th>Dest</th>\n",
                            "      <th>Count</th>\n",
                            "    </tr>\n",
                            "  </thead>\n",
                            "  <tbody>\n",
                            "    <tr>\n",
                            "      <th>0</th>\n",
                            "      <td>ABE</td>\n",
                            "      <td>ATL</td>\n",
                            "      <td>1413</td>\n",
                            "    </tr>\n",
                            "    <tr>\n",
                            "      <th>1</th>\n",
                            "      <td>ABE</td>\n",
                            "      <td>AVP</td>\n",
                            "      <td>1</td>\n",
                            "    </tr>\n",
                            "    <tr>\n",
                            "      <th>2</th>\n",
                            "      <td>ABE</td>\n",
                            "      <td>CLE</td>\n",
                            "      <td>1059</td>\n",
                            "    </tr>\n",
                            "    <tr>\n",
                            "      <th>3</th>\n",
                            "      <td>ABE</td>\n",
                            "      <td>CLT</td>\n",
                            "      <td>365</td>\n",
                            "    </tr>\n",
                            "    <tr>\n",
                            "      <th>4</th>\n",
                            "      <td>ABE</td>\n",
                            "      <td>CVG</td>\n",
                            "      <td>1228</td>\n",
                            "    </tr>\n",
                            "  </tbody>\n",
                            "</table>\n",
                            "</div>"
                        ],
                        "text/plain": [
                            "  Origin Dest  Count\n",
                            "0    ABE  ATL   1413\n",
                            "1    ABE  AVP      1\n",
                            "2    ABE  CLE   1059\n",
                            "3    ABE  CLT    365\n",
                            "4    ABE  CVG   1228"
                        ]
                    },
                    "execution_count": 229,
                    "metadata": {},
                    "output_type": "execute_result"
                }
            ],
            "source": [
                "flight_counts_2005 = df_2005.groupby(['Origin', 'Dest']).size().reset_index(name='Count')\n",
                "flight_counts_2005.head()"
            ]
        },
        {
            "cell_type": "code",
            "execution_count": 230,
            "metadata": {},
            "outputs": [
                {
                    "data": {
                        "text/html": [
                            "<div>\n",
                            "<style scoped>\n",
                            "    .dataframe tbody tr th:only-of-type {\n",
                            "        vertical-align: middle;\n",
                            "    }\n",
                            "\n",
                            "    .dataframe tbody tr th {\n",
                            "        vertical-align: top;\n",
                            "    }\n",
                            "\n",
                            "    .dataframe thead th {\n",
                            "        text-align: right;\n",
                            "    }\n",
                            "</style>\n",
                            "<table border=\"1\" class=\"dataframe\">\n",
                            "  <thead>\n",
                            "    <tr style=\"text-align: right;\">\n",
                            "      <th></th>\n",
                            "      <th>Origin</th>\n",
                            "      <th>Dest</th>\n",
                            "      <th>Count</th>\n",
                            "    </tr>\n",
                            "  </thead>\n",
                            "  <tbody>\n",
                            "    <tr>\n",
                            "      <th>3983</th>\n",
                            "      <td>SAN</td>\n",
                            "      <td>LAX</td>\n",
                            "      <td>15237</td>\n",
                            "    </tr>\n",
                            "    <tr>\n",
                            "      <th>2516</th>\n",
                            "      <td>LAX</td>\n",
                            "      <td>SAN</td>\n",
                            "      <td>15223</td>\n",
                            "    </tr>\n",
                            "    <tr>\n",
                            "      <th>507</th>\n",
                            "      <td>BOS</td>\n",
                            "      <td>LGA</td>\n",
                            "      <td>13186</td>\n",
                            "    </tr>\n",
                            "    <tr>\n",
                            "      <th>2563</th>\n",
                            "      <td>LGA</td>\n",
                            "      <td>BOS</td>\n",
                            "      <td>13161</td>\n",
                            "    </tr>\n",
                            "    <tr>\n",
                            "      <th>1148</th>\n",
                            "      <td>DCA</td>\n",
                            "      <td>LGA</td>\n",
                            "      <td>12753</td>\n",
                            "    </tr>\n",
                            "  </tbody>\n",
                            "</table>\n",
                            "</div>"
                        ],
                        "text/plain": [
                            "     Origin Dest  Count\n",
                            "3983    SAN  LAX  15237\n",
                            "2516    LAX  SAN  15223\n",
                            "507     BOS  LGA  13186\n",
                            "2563    LGA  BOS  13161\n",
                            "1148    DCA  LGA  12753"
                        ]
                    },
                    "execution_count": 230,
                    "metadata": {},
                    "output_type": "execute_result"
                }
            ],
            "source": [
                "top_flights_2005 = flight_counts_2005.sort_values(by='Count', ascending=False).head(5)\n",
                "top_flights_2005"
            ]
        },
        {
            "cell_type": "code",
            "execution_count": 231,
            "metadata": {},
            "outputs": [
                {
                    "data": {
                        "image/png": "[encoded data removed]",
                        "text/plain": [
                            "<Figure size 1000x800 with 1 Axes>"
                        ]
                    },
                    "metadata": {},
                    "output_type": "display_data"
                }
            ],
            "source": [
                "plt.figure(figsize=(10, 8))\n",
                "plt.barh(top_flights_2005['Origin'] + '-' + top_flights_2005['Dest'], top_flights_2005['Count'], color='#F3B95F')\n",
                "plt.xlabel('Número de Vuelos')\n",
                "plt.ylabel('Rutas de Vuelo')\n",
                "plt.title('2005')\n",
                "plt.gca().invert_yaxis() \n",
                "\n",
                "plt.show()"
            ]
        },
        {
            "cell_type": "code",
            "execution_count": 232,
            "metadata": {},
            "outputs": [
                {
                    "data": {
                        "image/png": "[encoded data removed]",
                        "text/plain": [
                            "<Figure size 1000x800 with 1 Axes>"
                        ]
                    },
                    "metadata": {},
                    "output_type": "display_data"
                }
            ],
            "source": [
                "plt.figure(figsize=(10, 8))\n",
                "plt.barh(top_flights_1990['Origin'] + '-' + top_flights_1990['Dest'], top_flights_1990['Count'], color='#7F9F80', label='1990')\n",
                "plt.barh(top_flights_1995['Origin'] + '-' + top_flights_1995['Dest'], top_flights_1995['Count'], color='#6895D2', label='1995')\n",
                "plt.barh(top_flights_2000['Origin'] + '-' + top_flights_2000['Dest'], top_flights_2000['Count'], color='#FDE767', label='2000')\n",
                "plt.barh(top_flights_2005['Origin'] + '-' + top_flights_2005['Dest'], top_flights_2005['Count'], color='#F3B95F', label='2005')\n",
                "plt.xlabel('Número de Vuelos')\n",
                "plt.ylabel('Rutas de Vuelo')\n",
                "plt.title('Comparación de Rutas de Vuelo Más Populares')\n",
                "plt.gca().invert_yaxis()\n",
                "plt.legend()\n",
                "\n",
                "plt.show()"
            ]
        },
        {
            "cell_type": "code",
            "execution_count": 233,
            "metadata": {},
            "outputs": [
                {
                    "data": {
                        "text/html": [
                            "<div>\n",
                            "<style scoped>\n",
                            "    .dataframe tbody tr th:only-of-type {\n",
                            "        vertical-align: middle;\n",
                            "    }\n",
                            "\n",
                            "    .dataframe tbody tr th {\n",
                            "        vertical-align: top;\n",
                            "    }\n",
                            "\n",
                            "    .dataframe thead th {\n",
                            "        text-align: right;\n",
                            "    }\n",
                            "</style>\n",
                            "<table border=\"1\" class=\"dataframe\">\n",
                            "  <thead>\n",
                            "    <tr style=\"text-align: right;\">\n",
                            "      <th></th>\n",
                            "      <th>Origin</th>\n",
                            "      <th>Dest</th>\n",
                            "      <th>Count</th>\n",
                            "    </tr>\n",
                            "  </thead>\n",
                            "  <tbody>\n",
                            "    <tr>\n",
                            "      <th>3274</th>\n",
                            "      <td>SFO</td>\n",
                            "      <td>LAX</td>\n",
                            "      <td>26134</td>\n",
                            "    </tr>\n",
                            "  </tbody>\n",
                            "</table>\n",
                            "</div>"
                        ],
                        "text/plain": [
                            "     Origin Dest  Count\n",
                            "3274    SFO  LAX  26134"
                        ]
                    },
                    "execution_count": 233,
                    "metadata": {},
                    "output_type": "execute_result"
                }
            ],
            "source": [
                "top_flights_1990[0:1]"
            ]
        },
        {
            "cell_type": "code",
            "execution_count": 234,
            "metadata": {},
            "outputs": [
                {
                    "data": {
                        "text/html": [
                            "<div>\n",
                            "<style scoped>\n",
                            "    .dataframe tbody tr th:only-of-type {\n",
                            "        vertical-align: middle;\n",
                            "    }\n",
                            "\n",
                            "    .dataframe tbody tr th {\n",
                            "        vertical-align: top;\n",
                            "    }\n",
                            "\n",
                            "    .dataframe thead th {\n",
                            "        text-align: right;\n",
                            "    }\n",
                            "</style>\n",
                            "<table border=\"1\" class=\"dataframe\">\n",
                            "  <thead>\n",
                            "    <tr style=\"text-align: right;\">\n",
                            "      <th></th>\n",
                            "      <th>Origin</th>\n",
                            "      <th>Dest</th>\n",
                            "      <th>Count</th>\n",
                            "    </tr>\n",
                            "  </thead>\n",
                            "  <tbody>\n",
                            "    <tr>\n",
                            "      <th>1687</th>\n",
                            "      <td>LAX</td>\n",
                            "      <td>LAS</td>\n",
                            "      <td>17536</td>\n",
                            "    </tr>\n",
                            "  </tbody>\n",
                            "</table>\n",
                            "</div>"
                        ],
                        "text/plain": [
                            "     Origin Dest  Count\n",
                            "1687    LAX  LAS  17536"
                        ]
                    },
                    "execution_count": 234,
                    "metadata": {},
                    "output_type": "execute_result"
                }
            ],
            "source": [
                "top_flights_1995[0:1]"
            ]
        },
        {
            "cell_type": "code",
            "execution_count": 235,
            "metadata": {},
            "outputs": [
                {
                    "data": {
                        "image/png": "[encoded data removed]",
                        "text/plain": [
                            "<Figure size 1000x800 with 1 Axes>"
                        ]
                    },
                    "metadata": {},
                    "output_type": "display_data"
                }
            ],
            "source": [
                "import numpy as np\n",
                "\n",
                "y = np.arange(len(top_flights_1990))\n",
                "\n",
                "bar_width = 0.2\n",
                "\n",
                "plt.figure(figsize=(10, 8))\n",
                "plt.barh(y - bar_width*1.5, top_flights_1990['Count'], height=bar_width, color='#7F9F80', label='1990')\n",
                "plt.barh(y - bar_width*0.5, top_flights_1995['Count'], height=bar_width, color='#6895D2', label='1995')\n",
                "plt.barh(y + bar_width*0.5, top_flights_2000['Count'], height=bar_width, color='#FDE767', label='2000')\n",
                "plt.barh(y + bar_width*1.5, top_flights_2005['Count'], height=bar_width, color='#F3B95F', label='2005')\n",
                "\n",
                "plt.xlabel('Number of Flights')\n",
                "plt.ylabel('Flight Routes')\n",
                "plt.yticks(y, top_flights_1990['Origin'] + '-' + top_flights_1990['Dest'])\n",
                "plt.title('Comparison of Most Popular Flight Routes by Year', fontsize=14, fontweight='bold')\n",
                "plt.gca().invert_yaxis()\n",
                "plt.legend()\n",
                "\n",
                "'''\n",
                "# display values on the bars\n",
                "for i, v in enumerate(top_flights_1990['Count']):\n",
                "    plt.text(v + 10, i - 0.3, str(v), color='#7F9F80', fontweight='bold', fontsize=8, va='center', ha='left')\n",
                "\n",
                "for i, v in enumerate(top_flights_1995['Count']):\n",
                "    plt.text(v + 10, i - 0.1, str(v), color='black')\n",
                "\n",
                "for i, v in enumerate(top_flights_2000['Count']):\n",
                "    plt.text(v + 10, i + 0.3, str(v), color='black')\n",
                "\n",
                "for i, v in enumerate(top_flights_2005['Count']):\n",
                "    plt.text(v + 10, i + 0.5, str(v), color='black')\n",
                "'''\n",
                "\n",
                "note_text = (\n",
                "    \"SFO: San Francisco Airport\\n\"\n",
                "    \"LAX: Los Angeles Airport\\n\"\n",
                "    \"PHX: Phoenix Sky Harbor Airport\\n\"\n",
                "    \"LAS: McCarran Airport\"\n",
                ")\n",
                "plt.gcf().text(0.70, 0.3, note_text, fontsize=8, verticalalignment='center', horizontalalignment='left', bbox=dict(facecolor='white', alpha=0.5))\n",
                "\n",
                "plt.gcf().text(0.125, 0.04, 'Author: Sergio Esteban Tarrero\\n#30DayChartChallenge', fontsize=8, color='black', ha='left', fontweight='bold')\n",
                "plt.gcf().text(0.125, 0.01, 'Day 22\\nSource: Kaggle Dataset (Commercial Flights)', fontsize=8, color='black', ha='left')\n",
                "\n",
                "plt.savefig('SergioEstebanTarreroDay22.png', dpi=300)\n",
                "\n",
                "plt.show()"
            ]
        },
        {
            "cell_type": "code",
            "execution_count": null,
            "metadata": {},
            "outputs": [],
            "source": []
        }
    ],
    "metadata": {
        "kernelspec": {
            "display_name": "Python 3",
            "language": "python",
            "name": "python3"
        },
        "language_info": {
            "codemirror_mode": {
                "name": "ipython",
                "version": 3
            },
            "file_extension": ".py",
            "mimetype": "text/x-python",
            "name": "python",
            "nbconvert_exporter": "python",
            "pygments_lexer": "ipython3",
            "version": "3.12.0"
        }
    },
    "nbformat": 4,
    "nbformat_minor": 2
}
